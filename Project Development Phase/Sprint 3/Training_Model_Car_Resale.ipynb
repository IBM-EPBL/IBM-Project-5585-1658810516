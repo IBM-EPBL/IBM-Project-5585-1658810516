{
  "nbformat": 4,
  "nbformat_minor": 0,
  "metadata": {
    "colab": {
      "provenance": [],
      "collapsed_sections": []
    },
    "kernelspec": {
      "name": "python3",
      "display_name": "Python 3"
    },
    "language_info": {
      "name": "python"
    }
  },
  "cells": [
    {
      "cell_type": "code",
      "execution_count": null,
      "metadata": {
        "id": "b0rW33Be8foH"
      },
      "outputs": [],
      "source": [
        "import numpy as np\n",
        "import pandas as pd\n",
        "import matplotlib.pyplot as plt\n",
        "import seaborn as sns\n",
        "%matplotlib inline"
      ]
    },
    {
      "cell_type": "code",
      "source": [
        "df=pd.read_csv('/content/Car resale-train.csv')\n",
        "df.head()"
      ],
      "metadata": {
        "colab": {
          "base_uri": "https://localhost:8080/",
          "height": 386
        },
        "id": "AOsahmhcAGUg",
        "outputId": "b8532703-03a2-49d1-9296-1862fb2062fe"
      },
      "execution_count": null,
      "outputs": [
        {
          "output_type": "execute_result",
          "data": {
            "text/plain": [
              "   id           car_name  yr_mfr fuel_type  kms_run  sale_price   city  \\\n",
              "0   1       maruti swift    2015    petrol     8063      386399  noida   \n",
              "1   2    maruti alto 800    2016    petrol    23104      265499  noida   \n",
              "2   3  hyundai grand i10    2017    petrol    23402      477699  noida   \n",
              "3   4       maruti swift    2013    diesel    39124      307999  noida   \n",
              "4   5  hyundai grand i10    2015    petrol    22116      361499  noida   \n",
              "\n",
              "   times_viewed  body_type transmission  ... total_owners  broker_quote  \\\n",
              "0         18715  hatchback       manual  ...            2        397677   \n",
              "1          2676  hatchback       manual  ...            1        272935   \n",
              "2           609  hatchback       manual  ...            1        469605   \n",
              "3          6511  hatchback       manual  ...            1        294262   \n",
              "4          3225  hatchback       manual  ...            1        360716   \n",
              "\n",
              "  original_price car_rating            ad_created_on fitness_certificate  \\\n",
              "0       404177.0      great  2021-04-04T07:09:18.583                True   \n",
              "1       354313.0      great  2021-03-22T14:07:32.833                True   \n",
              "2            NaN      great  2021-03-20T05:36:31.311                True   \n",
              "3       374326.0      great  2021-01-21T12:59:19.299                True   \n",
              "4       367216.0      great  2021-04-01T13:33:40.733                True   \n",
              "\n",
              "  emi_starts_from booking_down_pymnt reserved warranty_avail  \n",
              "0            8975              57960    False          False  \n",
              "1            6167              39825    False          False  \n",
              "2           11096              71655    False          False  \n",
              "3            7154              46200    False          False  \n",
              "4            8397              54225    False          False  \n",
              "\n",
              "[5 rows x 30 columns]"
            ],
            "text/html": [
              "\n",
              "  <div id=\"df-8aa28a42-2005-4a0d-a76f-dbb9ec307f77\">\n",
              "    <div class=\"colab-df-container\">\n",
              "      <div>\n",
              "<style scoped>\n",
              "    .dataframe tbody tr th:only-of-type {\n",
              "        vertical-align: middle;\n",
              "    }\n",
              "\n",
              "    .dataframe tbody tr th {\n",
              "        vertical-align: top;\n",
              "    }\n",
              "\n",
              "    .dataframe thead th {\n",
              "        text-align: right;\n",
              "    }\n",
              "</style>\n",
              "<table border=\"1\" class=\"dataframe\">\n",
              "  <thead>\n",
              "    <tr style=\"text-align: right;\">\n",
              "      <th></th>\n",
              "      <th>id</th>\n",
              "      <th>car_name</th>\n",
              "      <th>yr_mfr</th>\n",
              "      <th>fuel_type</th>\n",
              "      <th>kms_run</th>\n",
              "      <th>sale_price</th>\n",
              "      <th>city</th>\n",
              "      <th>times_viewed</th>\n",
              "      <th>body_type</th>\n",
              "      <th>transmission</th>\n",
              "      <th>...</th>\n",
              "      <th>total_owners</th>\n",
              "      <th>broker_quote</th>\n",
              "      <th>original_price</th>\n",
              "      <th>car_rating</th>\n",
              "      <th>ad_created_on</th>\n",
              "      <th>fitness_certificate</th>\n",
              "      <th>emi_starts_from</th>\n",
              "      <th>booking_down_pymnt</th>\n",
              "      <th>reserved</th>\n",
              "      <th>warranty_avail</th>\n",
              "    </tr>\n",
              "  </thead>\n",
              "  <tbody>\n",
              "    <tr>\n",
              "      <th>0</th>\n",
              "      <td>1</td>\n",
              "      <td>maruti swift</td>\n",
              "      <td>2015</td>\n",
              "      <td>petrol</td>\n",
              "      <td>8063</td>\n",
              "      <td>386399</td>\n",
              "      <td>noida</td>\n",
              "      <td>18715</td>\n",
              "      <td>hatchback</td>\n",
              "      <td>manual</td>\n",
              "      <td>...</td>\n",
              "      <td>2</td>\n",
              "      <td>397677</td>\n",
              "      <td>404177.0</td>\n",
              "      <td>great</td>\n",
              "      <td>2021-04-04T07:09:18.583</td>\n",
              "      <td>True</td>\n",
              "      <td>8975</td>\n",
              "      <td>57960</td>\n",
              "      <td>False</td>\n",
              "      <td>False</td>\n",
              "    </tr>\n",
              "    <tr>\n",
              "      <th>1</th>\n",
              "      <td>2</td>\n",
              "      <td>maruti alto 800</td>\n",
              "      <td>2016</td>\n",
              "      <td>petrol</td>\n",
              "      <td>23104</td>\n",
              "      <td>265499</td>\n",
              "      <td>noida</td>\n",
              "      <td>2676</td>\n",
              "      <td>hatchback</td>\n",
              "      <td>manual</td>\n",
              "      <td>...</td>\n",
              "      <td>1</td>\n",
              "      <td>272935</td>\n",
              "      <td>354313.0</td>\n",
              "      <td>great</td>\n",
              "      <td>2021-03-22T14:07:32.833</td>\n",
              "      <td>True</td>\n",
              "      <td>6167</td>\n",
              "      <td>39825</td>\n",
              "      <td>False</td>\n",
              "      <td>False</td>\n",
              "    </tr>\n",
              "    <tr>\n",
              "      <th>2</th>\n",
              "      <td>3</td>\n",
              "      <td>hyundai grand i10</td>\n",
              "      <td>2017</td>\n",
              "      <td>petrol</td>\n",
              "      <td>23402</td>\n",
              "      <td>477699</td>\n",
              "      <td>noida</td>\n",
              "      <td>609</td>\n",
              "      <td>hatchback</td>\n",
              "      <td>manual</td>\n",
              "      <td>...</td>\n",
              "      <td>1</td>\n",
              "      <td>469605</td>\n",
              "      <td>NaN</td>\n",
              "      <td>great</td>\n",
              "      <td>2021-03-20T05:36:31.311</td>\n",
              "      <td>True</td>\n",
              "      <td>11096</td>\n",
              "      <td>71655</td>\n",
              "      <td>False</td>\n",
              "      <td>False</td>\n",
              "    </tr>\n",
              "    <tr>\n",
              "      <th>3</th>\n",
              "      <td>4</td>\n",
              "      <td>maruti swift</td>\n",
              "      <td>2013</td>\n",
              "      <td>diesel</td>\n",
              "      <td>39124</td>\n",
              "      <td>307999</td>\n",
              "      <td>noida</td>\n",
              "      <td>6511</td>\n",
              "      <td>hatchback</td>\n",
              "      <td>manual</td>\n",
              "      <td>...</td>\n",
              "      <td>1</td>\n",
              "      <td>294262</td>\n",
              "      <td>374326.0</td>\n",
              "      <td>great</td>\n",
              "      <td>2021-01-21T12:59:19.299</td>\n",
              "      <td>True</td>\n",
              "      <td>7154</td>\n",
              "      <td>46200</td>\n",
              "      <td>False</td>\n",
              "      <td>False</td>\n",
              "    </tr>\n",
              "    <tr>\n",
              "      <th>4</th>\n",
              "      <td>5</td>\n",
              "      <td>hyundai grand i10</td>\n",
              "      <td>2015</td>\n",
              "      <td>petrol</td>\n",
              "      <td>22116</td>\n",
              "      <td>361499</td>\n",
              "      <td>noida</td>\n",
              "      <td>3225</td>\n",
              "      <td>hatchback</td>\n",
              "      <td>manual</td>\n",
              "      <td>...</td>\n",
              "      <td>1</td>\n",
              "      <td>360716</td>\n",
              "      <td>367216.0</td>\n",
              "      <td>great</td>\n",
              "      <td>2021-04-01T13:33:40.733</td>\n",
              "      <td>True</td>\n",
              "      <td>8397</td>\n",
              "      <td>54225</td>\n",
              "      <td>False</td>\n",
              "      <td>False</td>\n",
              "    </tr>\n",
              "  </tbody>\n",
              "</table>\n",
              "<p>5 rows × 30 columns</p>\n",
              "</div>\n",
              "      <button class=\"colab-df-convert\" onclick=\"convertToInteractive('df-8aa28a42-2005-4a0d-a76f-dbb9ec307f77')\"\n",
              "              title=\"Convert this dataframe to an interactive table.\"\n",
              "              style=\"display:none;\">\n",
              "        \n",
              "  <svg xmlns=\"http://www.w3.org/2000/svg\" height=\"24px\"viewBox=\"0 0 24 24\"\n",
              "       width=\"24px\">\n",
              "    <path d=\"M0 0h24v24H0V0z\" fill=\"none\"/>\n",
              "    <path d=\"M18.56 5.44l.94 2.06.94-2.06 2.06-.94-2.06-.94-.94-2.06-.94 2.06-2.06.94zm-11 1L8.5 8.5l.94-2.06 2.06-.94-2.06-.94L8.5 2.5l-.94 2.06-2.06.94zm10 10l.94 2.06.94-2.06 2.06-.94-2.06-.94-.94-2.06-.94 2.06-2.06.94z\"/><path d=\"M17.41 7.96l-1.37-1.37c-.4-.4-.92-.59-1.43-.59-.52 0-1.04.2-1.43.59L10.3 9.45l-7.72 7.72c-.78.78-.78 2.05 0 2.83L4 21.41c.39.39.9.59 1.41.59.51 0 1.02-.2 1.41-.59l7.78-7.78 2.81-2.81c.8-.78.8-2.07 0-2.86zM5.41 20L4 18.59l7.72-7.72 1.47 1.35L5.41 20z\"/>\n",
              "  </svg>\n",
              "      </button>\n",
              "      \n",
              "  <style>\n",
              "    .colab-df-container {\n",
              "      display:flex;\n",
              "      flex-wrap:wrap;\n",
              "      gap: 12px;\n",
              "    }\n",
              "\n",
              "    .colab-df-convert {\n",
              "      background-color: #E8F0FE;\n",
              "      border: none;\n",
              "      border-radius: 50%;\n",
              "      cursor: pointer;\n",
              "      display: none;\n",
              "      fill: #1967D2;\n",
              "      height: 32px;\n",
              "      padding: 0 0 0 0;\n",
              "      width: 32px;\n",
              "    }\n",
              "\n",
              "    .colab-df-convert:hover {\n",
              "      background-color: #E2EBFA;\n",
              "      box-shadow: 0px 1px 2px rgba(60, 64, 67, 0.3), 0px 1px 3px 1px rgba(60, 64, 67, 0.15);\n",
              "      fill: #174EA6;\n",
              "    }\n",
              "\n",
              "    [theme=dark] .colab-df-convert {\n",
              "      background-color: #3B4455;\n",
              "      fill: #D2E3FC;\n",
              "    }\n",
              "\n",
              "    [theme=dark] .colab-df-convert:hover {\n",
              "      background-color: #434B5C;\n",
              "      box-shadow: 0px 1px 3px 1px rgba(0, 0, 0, 0.15);\n",
              "      filter: drop-shadow(0px 1px 2px rgba(0, 0, 0, 0.3));\n",
              "      fill: #FFFFFF;\n",
              "    }\n",
              "  </style>\n",
              "\n",
              "      <script>\n",
              "        const buttonEl =\n",
              "          document.querySelector('#df-8aa28a42-2005-4a0d-a76f-dbb9ec307f77 button.colab-df-convert');\n",
              "        buttonEl.style.display =\n",
              "          google.colab.kernel.accessAllowed ? 'block' : 'none';\n",
              "\n",
              "        async function convertToInteractive(key) {\n",
              "          const element = document.querySelector('#df-8aa28a42-2005-4a0d-a76f-dbb9ec307f77');\n",
              "          const dataTable =\n",
              "            await google.colab.kernel.invokeFunction('convertToInteractive',\n",
              "                                                     [key], {});\n",
              "          if (!dataTable) return;\n",
              "\n",
              "          const docLinkHtml = 'Like what you see? Visit the ' +\n",
              "            '<a target=\"_blank\" href=https://colab.research.google.com/notebooks/data_table.ipynb>data table notebook</a>'\n",
              "            + ' to learn more about interactive tables.';\n",
              "          element.innerHTML = '';\n",
              "          dataTable['output_type'] = 'display_data';\n",
              "          await google.colab.output.renderOutput(dataTable, element);\n",
              "          const docLink = document.createElement('div');\n",
              "          docLink.innerHTML = docLinkHtml;\n",
              "          element.appendChild(docLink);\n",
              "        }\n",
              "      </script>\n",
              "    </div>\n",
              "  </div>\n",
              "  "
            ]
          },
          "metadata": {},
          "execution_count": 11
        }
      ]
    },
    {
      "cell_type": "markdown",
      "source": [
        "Getting information about Data\n"
      ],
      "metadata": {
        "id": "b-ZODaowAWVW"
      }
    },
    {
      "cell_type": "code",
      "source": [
        "df.shape "
      ],
      "metadata": {
        "colab": {
          "base_uri": "https://localhost:8080/"
        },
        "id": "xRmT27Ci9RMo",
        "outputId": "fe7be0f2-3228-4748-e4c6-47278608f98d"
      },
      "execution_count": null,
      "outputs": [
        {
          "output_type": "execute_result",
          "data": {
            "text/plain": [
              "(6399, 30)"
            ]
          },
          "metadata": {},
          "execution_count": 12
        }
      ]
    },
    {
      "cell_type": "code",
      "source": [
        "df.columns"
      ],
      "metadata": {
        "colab": {
          "base_uri": "https://localhost:8080/"
        },
        "id": "ki_RMJdU9Rft",
        "outputId": "3d6e69c1-8a6a-4fe4-f3d3-21e9c113701d"
      },
      "execution_count": null,
      "outputs": [
        {
          "output_type": "execute_result",
          "data": {
            "text/plain": [
              "Index(['id', 'car_name', 'yr_mfr', 'fuel_type', 'kms_run', 'sale_price',\n",
              "       'city', 'times_viewed', 'body_type', 'transmission', 'variant',\n",
              "       'assured_buy', 'registered_city', 'registered_state', 'is_hot', 'rto',\n",
              "       'source', 'make', 'model', 'car_availability', 'total_owners',\n",
              "       'broker_quote', 'original_price', 'car_rating', 'ad_created_on',\n",
              "       'fitness_certificate', 'emi_starts_from', 'booking_down_pymnt',\n",
              "       'reserved', 'warranty_avail'],\n",
              "      dtype='object')"
            ]
          },
          "metadata": {},
          "execution_count": 13
        }
      ]
    },
    {
      "cell_type": "code",
      "source": [
        "df['car_name'].value_counts()"
      ],
      "metadata": {
        "colab": {
          "base_uri": "https://localhost:8080/"
        },
        "id": "UqfeK9xi9RlK",
        "outputId": "fa801654-e903-4ad8-c2c8-a2d6069681d6"
      },
      "execution_count": null,
      "outputs": [
        {
          "output_type": "execute_result",
          "data": {
            "text/plain": [
              "maruti swift          478\n",
              "maruti swift dzire    332\n",
              "hyundai i10           330\n",
              "maruti wagon r 1.0    292\n",
              "hyundai grand i10     246\n",
              "                     ... \n",
              "bmw x3                  1\n",
              "tata manza              1\n",
              "tata sumo gold          1\n",
              "mahindra nuvosport      1\n",
              "tata indica ev2         1\n",
              "Name: car_name, Length: 182, dtype: int64"
            ]
          },
          "metadata": {},
          "execution_count": 14
        }
      ]
    },
    {
      "cell_type": "code",
      "source": [
        "df.info()"
      ],
      "metadata": {
        "colab": {
          "base_uri": "https://localhost:8080/"
        },
        "id": "pL9r5UQFAnRn",
        "outputId": "ab418c7f-0a69-475c-efc7-ffa9a3d4069d"
      },
      "execution_count": null,
      "outputs": [
        {
          "output_type": "stream",
          "name": "stdout",
          "text": [
            "<class 'pandas.core.frame.DataFrame'>\n",
            "RangeIndex: 6399 entries, 0 to 6398\n",
            "Data columns (total 30 columns):\n",
            " #   Column               Non-Null Count  Dtype  \n",
            "---  ------               --------------  -----  \n",
            " 0   id                   6399 non-null   int64  \n",
            " 1   car_name             6399 non-null   object \n",
            " 2   yr_mfr               6399 non-null   int64  \n",
            " 3   fuel_type            6399 non-null   object \n",
            " 4   kms_run              6399 non-null   int64  \n",
            " 5   sale_price           6399 non-null   int64  \n",
            " 6   city                 6399 non-null   object \n",
            " 7   times_viewed         6399 non-null   int64  \n",
            " 8   body_type            6309 non-null   object \n",
            " 9   transmission         5925 non-null   object \n",
            " 10  variant              6399 non-null   object \n",
            " 11  assured_buy          6399 non-null   bool   \n",
            " 12  registered_city      6391 non-null   object \n",
            " 13  registered_state     6391 non-null   object \n",
            " 14  is_hot               6399 non-null   bool   \n",
            " 15  rto                  6399 non-null   object \n",
            " 16  source               6285 non-null   object \n",
            " 17  make                 6399 non-null   object \n",
            " 18  model                6399 non-null   object \n",
            " 19  car_availability     5857 non-null   object \n",
            " 20  total_owners         6399 non-null   int64  \n",
            " 21  broker_quote         6399 non-null   int64  \n",
            " 22  original_price       3575 non-null   float64\n",
            " 23  car_rating           6392 non-null   object \n",
            " 24  ad_created_on        6398 non-null   object \n",
            " 25  fitness_certificate  6391 non-null   object \n",
            " 26  emi_starts_from      6399 non-null   int64  \n",
            " 27  booking_down_pymnt   6399 non-null   int64  \n",
            " 28  reserved             6399 non-null   bool   \n",
            " 29  warranty_avail       6399 non-null   bool   \n",
            "dtypes: bool(4), float64(1), int64(9), object(16)\n",
            "memory usage: 1.3+ MB\n"
          ]
        }
      ]
    },
    {
      "cell_type": "markdown",
      "source": [
        "Checking duplicate Records"
      ],
      "metadata": {
        "id": "aRFPBtorAx16"
      }
    },
    {
      "cell_type": "code",
      "source": [
        "df.duplicated().sum()"
      ],
      "metadata": {
        "colab": {
          "base_uri": "https://localhost:8080/"
        },
        "id": "hN6nMUqJApDO",
        "outputId": "c1352517-1c6d-48ec-f50e-5824c0558d90"
      },
      "execution_count": null,
      "outputs": [
        {
          "output_type": "execute_result",
          "data": {
            "text/plain": [
              "0"
            ]
          },
          "metadata": {},
          "execution_count": 16
        }
      ]
    },
    {
      "cell_type": "markdown",
      "source": [
        "Checking Null Values"
      ],
      "metadata": {
        "id": "cEN72-aODBwh"
      }
    },
    {
      "cell_type": "code",
      "source": [
        "df.isnull().sum()"
      ],
      "metadata": {
        "colab": {
          "base_uri": "https://localhost:8080/"
        },
        "id": "rtxV6BVQBEM5",
        "outputId": "bb24d0df-fcbb-41de-ecc4-a38929fd89b2"
      },
      "execution_count": null,
      "outputs": [
        {
          "output_type": "execute_result",
          "data": {
            "text/plain": [
              "id                        0\n",
              "car_name                  0\n",
              "yr_mfr                    0\n",
              "fuel_type                 0\n",
              "kms_run                   0\n",
              "sale_price                0\n",
              "city                      0\n",
              "times_viewed              0\n",
              "body_type                90\n",
              "transmission            474\n",
              "variant                   0\n",
              "assured_buy               0\n",
              "registered_city           8\n",
              "registered_state          8\n",
              "is_hot                    0\n",
              "rto                       0\n",
              "source                  114\n",
              "make                      0\n",
              "model                     0\n",
              "car_availability        542\n",
              "total_owners              0\n",
              "broker_quote              0\n",
              "original_price         2824\n",
              "car_rating                7\n",
              "ad_created_on             1\n",
              "fitness_certificate       8\n",
              "emi_starts_from           0\n",
              "booking_down_pymnt        0\n",
              "reserved                  0\n",
              "warranty_avail            0\n",
              "dtype: int64"
            ]
          },
          "metadata": {},
          "execution_count": 17
        }
      ]
    },
    {
      "cell_type": "markdown",
      "source": [
        "Here original_price column contains more null values so we can decide after correaltion analysis whether to remove it or not"
      ],
      "metadata": {
        "id": "1OpkRh4vBIJ5"
      }
    },
    {
      "cell_type": "markdown",
      "source": [
        "Correlation"
      ],
      "metadata": {
        "id": "62sh3ou7BOEo"
      }
    },
    {
      "cell_type": "code",
      "source": [
        "corr=df.corr()\n",
        "corr"
      ],
      "metadata": {
        "colab": {
          "base_uri": "https://localhost:8080/",
          "height": 552
        },
        "id": "fnrnGXDhBI2N",
        "outputId": "0a4aa372-c998-4d4c-9d45-14d5c54b5a6b"
      },
      "execution_count": null,
      "outputs": [
        {
          "output_type": "execute_result",
          "data": {
            "text/plain": [
              "                          id    yr_mfr   kms_run  sale_price  times_viewed  \\\n",
              "id                  1.000000  0.089709  0.015080    0.032071      0.009603   \n",
              "yr_mfr              0.089709  1.000000 -0.396612    0.521379      0.067565   \n",
              "kms_run             0.015080 -0.396612  1.000000   -0.098388     -0.115663   \n",
              "sale_price          0.032071  0.521379 -0.098388    1.000000      0.098256   \n",
              "times_viewed        0.009603  0.067565 -0.115663    0.098256      1.000000   \n",
              "assured_buy         0.023037  0.119977 -0.015230    0.032198      0.079840   \n",
              "is_hot             -0.080135  0.204486 -0.118013    0.065627      0.184748   \n",
              "total_owners       -0.009446 -0.295556  0.136007   -0.127794      0.002830   \n",
              "broker_quote        0.008309  0.542951 -0.121848    0.961021      0.131855   \n",
              "original_price     -0.000049  0.502866 -0.082849    0.986196      0.092438   \n",
              "emi_starts_from     0.032071  0.521379 -0.098389    1.000000      0.098256   \n",
              "booking_down_pymnt  0.032071  0.521379 -0.098388    1.000000      0.098256   \n",
              "reserved            0.004702  0.100374 -0.081682    0.054197      0.223501   \n",
              "warranty_avail      0.014275 -0.003712  0.016345   -0.013129     -0.047353   \n",
              "\n",
              "                    assured_buy    is_hot  total_owners  broker_quote  \\\n",
              "id                     0.023037 -0.080135     -0.009446      0.008309   \n",
              "yr_mfr                 0.119977  0.204486     -0.295556      0.542951   \n",
              "kms_run               -0.015230 -0.118013      0.136007     -0.121848   \n",
              "sale_price             0.032198  0.065627     -0.127794      0.961021   \n",
              "times_viewed           0.079840  0.184748      0.002830      0.131855   \n",
              "assured_buy            1.000000  0.380024     -0.073470      0.078595   \n",
              "is_hot                 0.380024  1.000000     -0.125427      0.184548   \n",
              "total_owners          -0.073470 -0.125427      1.000000     -0.150618   \n",
              "broker_quote           0.078595  0.184548     -0.150618      1.000000   \n",
              "original_price         0.009191  0.010380     -0.080680      0.985439   \n",
              "emi_starts_from        0.032197  0.065626     -0.127793      0.961020   \n",
              "booking_down_pymnt     0.032198  0.065628     -0.127794      0.961021   \n",
              "reserved               0.071509  0.147890     -0.056257      0.085843   \n",
              "warranty_avail        -0.027761 -0.348627      0.011473     -0.061038   \n",
              "\n",
              "                    original_price  emi_starts_from  booking_down_pymnt  \\\n",
              "id                       -0.000049         0.032071            0.032071   \n",
              "yr_mfr                    0.502866         0.521379            0.521379   \n",
              "kms_run                  -0.082849        -0.098389           -0.098388   \n",
              "sale_price                0.986196         1.000000            1.000000   \n",
              "times_viewed              0.092438         0.098256            0.098256   \n",
              "assured_buy               0.009191         0.032197            0.032198   \n",
              "is_hot                    0.010380         0.065626            0.065628   \n",
              "total_owners             -0.080680        -0.127793           -0.127794   \n",
              "broker_quote              0.985439         0.961020            0.961021   \n",
              "original_price            1.000000         0.986196            0.986196   \n",
              "emi_starts_from           0.986196         1.000000            1.000000   \n",
              "booking_down_pymnt        0.986196         1.000000            1.000000   \n",
              "reserved                  0.080518         0.054197            0.054197   \n",
              "warranty_avail           -0.004814        -0.013128           -0.013130   \n",
              "\n",
              "                    reserved  warranty_avail  \n",
              "id                  0.004702        0.014275  \n",
              "yr_mfr              0.100374       -0.003712  \n",
              "kms_run            -0.081682        0.016345  \n",
              "sale_price          0.054197       -0.013129  \n",
              "times_viewed        0.223501       -0.047353  \n",
              "assured_buy         0.071509       -0.027761  \n",
              "is_hot              0.147890       -0.348627  \n",
              "total_owners       -0.056257        0.011473  \n",
              "broker_quote        0.085843       -0.061038  \n",
              "original_price      0.080518       -0.004814  \n",
              "emi_starts_from     0.054197       -0.013128  \n",
              "booking_down_pymnt  0.054197       -0.013130  \n",
              "reserved            1.000000       -0.049518  \n",
              "warranty_avail     -0.049518        1.000000  "
            ],
            "text/html": [
              "\n",
              "  <div id=\"df-2076c60f-7d7d-4ba8-b669-4171a9eecb40\">\n",
              "    <div class=\"colab-df-container\">\n",
              "      <div>\n",
              "<style scoped>\n",
              "    .dataframe tbody tr th:only-of-type {\n",
              "        vertical-align: middle;\n",
              "    }\n",
              "\n",
              "    .dataframe tbody tr th {\n",
              "        vertical-align: top;\n",
              "    }\n",
              "\n",
              "    .dataframe thead th {\n",
              "        text-align: right;\n",
              "    }\n",
              "</style>\n",
              "<table border=\"1\" class=\"dataframe\">\n",
              "  <thead>\n",
              "    <tr style=\"text-align: right;\">\n",
              "      <th></th>\n",
              "      <th>id</th>\n",
              "      <th>yr_mfr</th>\n",
              "      <th>kms_run</th>\n",
              "      <th>sale_price</th>\n",
              "      <th>times_viewed</th>\n",
              "      <th>assured_buy</th>\n",
              "      <th>is_hot</th>\n",
              "      <th>total_owners</th>\n",
              "      <th>broker_quote</th>\n",
              "      <th>original_price</th>\n",
              "      <th>emi_starts_from</th>\n",
              "      <th>booking_down_pymnt</th>\n",
              "      <th>reserved</th>\n",
              "      <th>warranty_avail</th>\n",
              "    </tr>\n",
              "  </thead>\n",
              "  <tbody>\n",
              "    <tr>\n",
              "      <th>id</th>\n",
              "      <td>1.000000</td>\n",
              "      <td>0.089709</td>\n",
              "      <td>0.015080</td>\n",
              "      <td>0.032071</td>\n",
              "      <td>0.009603</td>\n",
              "      <td>0.023037</td>\n",
              "      <td>-0.080135</td>\n",
              "      <td>-0.009446</td>\n",
              "      <td>0.008309</td>\n",
              "      <td>-0.000049</td>\n",
              "      <td>0.032071</td>\n",
              "      <td>0.032071</td>\n",
              "      <td>0.004702</td>\n",
              "      <td>0.014275</td>\n",
              "    </tr>\n",
              "    <tr>\n",
              "      <th>yr_mfr</th>\n",
              "      <td>0.089709</td>\n",
              "      <td>1.000000</td>\n",
              "      <td>-0.396612</td>\n",
              "      <td>0.521379</td>\n",
              "      <td>0.067565</td>\n",
              "      <td>0.119977</td>\n",
              "      <td>0.204486</td>\n",
              "      <td>-0.295556</td>\n",
              "      <td>0.542951</td>\n",
              "      <td>0.502866</td>\n",
              "      <td>0.521379</td>\n",
              "      <td>0.521379</td>\n",
              "      <td>0.100374</td>\n",
              "      <td>-0.003712</td>\n",
              "    </tr>\n",
              "    <tr>\n",
              "      <th>kms_run</th>\n",
              "      <td>0.015080</td>\n",
              "      <td>-0.396612</td>\n",
              "      <td>1.000000</td>\n",
              "      <td>-0.098388</td>\n",
              "      <td>-0.115663</td>\n",
              "      <td>-0.015230</td>\n",
              "      <td>-0.118013</td>\n",
              "      <td>0.136007</td>\n",
              "      <td>-0.121848</td>\n",
              "      <td>-0.082849</td>\n",
              "      <td>-0.098389</td>\n",
              "      <td>-0.098388</td>\n",
              "      <td>-0.081682</td>\n",
              "      <td>0.016345</td>\n",
              "    </tr>\n",
              "    <tr>\n",
              "      <th>sale_price</th>\n",
              "      <td>0.032071</td>\n",
              "      <td>0.521379</td>\n",
              "      <td>-0.098388</td>\n",
              "      <td>1.000000</td>\n",
              "      <td>0.098256</td>\n",
              "      <td>0.032198</td>\n",
              "      <td>0.065627</td>\n",
              "      <td>-0.127794</td>\n",
              "      <td>0.961021</td>\n",
              "      <td>0.986196</td>\n",
              "      <td>1.000000</td>\n",
              "      <td>1.000000</td>\n",
              "      <td>0.054197</td>\n",
              "      <td>-0.013129</td>\n",
              "    </tr>\n",
              "    <tr>\n",
              "      <th>times_viewed</th>\n",
              "      <td>0.009603</td>\n",
              "      <td>0.067565</td>\n",
              "      <td>-0.115663</td>\n",
              "      <td>0.098256</td>\n",
              "      <td>1.000000</td>\n",
              "      <td>0.079840</td>\n",
              "      <td>0.184748</td>\n",
              "      <td>0.002830</td>\n",
              "      <td>0.131855</td>\n",
              "      <td>0.092438</td>\n",
              "      <td>0.098256</td>\n",
              "      <td>0.098256</td>\n",
              "      <td>0.223501</td>\n",
              "      <td>-0.047353</td>\n",
              "    </tr>\n",
              "    <tr>\n",
              "      <th>assured_buy</th>\n",
              "      <td>0.023037</td>\n",
              "      <td>0.119977</td>\n",
              "      <td>-0.015230</td>\n",
              "      <td>0.032198</td>\n",
              "      <td>0.079840</td>\n",
              "      <td>1.000000</td>\n",
              "      <td>0.380024</td>\n",
              "      <td>-0.073470</td>\n",
              "      <td>0.078595</td>\n",
              "      <td>0.009191</td>\n",
              "      <td>0.032197</td>\n",
              "      <td>0.032198</td>\n",
              "      <td>0.071509</td>\n",
              "      <td>-0.027761</td>\n",
              "    </tr>\n",
              "    <tr>\n",
              "      <th>is_hot</th>\n",
              "      <td>-0.080135</td>\n",
              "      <td>0.204486</td>\n",
              "      <td>-0.118013</td>\n",
              "      <td>0.065627</td>\n",
              "      <td>0.184748</td>\n",
              "      <td>0.380024</td>\n",
              "      <td>1.000000</td>\n",
              "      <td>-0.125427</td>\n",
              "      <td>0.184548</td>\n",
              "      <td>0.010380</td>\n",
              "      <td>0.065626</td>\n",
              "      <td>0.065628</td>\n",
              "      <td>0.147890</td>\n",
              "      <td>-0.348627</td>\n",
              "    </tr>\n",
              "    <tr>\n",
              "      <th>total_owners</th>\n",
              "      <td>-0.009446</td>\n",
              "      <td>-0.295556</td>\n",
              "      <td>0.136007</td>\n",
              "      <td>-0.127794</td>\n",
              "      <td>0.002830</td>\n",
              "      <td>-0.073470</td>\n",
              "      <td>-0.125427</td>\n",
              "      <td>1.000000</td>\n",
              "      <td>-0.150618</td>\n",
              "      <td>-0.080680</td>\n",
              "      <td>-0.127793</td>\n",
              "      <td>-0.127794</td>\n",
              "      <td>-0.056257</td>\n",
              "      <td>0.011473</td>\n",
              "    </tr>\n",
              "    <tr>\n",
              "      <th>broker_quote</th>\n",
              "      <td>0.008309</td>\n",
              "      <td>0.542951</td>\n",
              "      <td>-0.121848</td>\n",
              "      <td>0.961021</td>\n",
              "      <td>0.131855</td>\n",
              "      <td>0.078595</td>\n",
              "      <td>0.184548</td>\n",
              "      <td>-0.150618</td>\n",
              "      <td>1.000000</td>\n",
              "      <td>0.985439</td>\n",
              "      <td>0.961020</td>\n",
              "      <td>0.961021</td>\n",
              "      <td>0.085843</td>\n",
              "      <td>-0.061038</td>\n",
              "    </tr>\n",
              "    <tr>\n",
              "      <th>original_price</th>\n",
              "      <td>-0.000049</td>\n",
              "      <td>0.502866</td>\n",
              "      <td>-0.082849</td>\n",
              "      <td>0.986196</td>\n",
              "      <td>0.092438</td>\n",
              "      <td>0.009191</td>\n",
              "      <td>0.010380</td>\n",
              "      <td>-0.080680</td>\n",
              "      <td>0.985439</td>\n",
              "      <td>1.000000</td>\n",
              "      <td>0.986196</td>\n",
              "      <td>0.986196</td>\n",
              "      <td>0.080518</td>\n",
              "      <td>-0.004814</td>\n",
              "    </tr>\n",
              "    <tr>\n",
              "      <th>emi_starts_from</th>\n",
              "      <td>0.032071</td>\n",
              "      <td>0.521379</td>\n",
              "      <td>-0.098389</td>\n",
              "      <td>1.000000</td>\n",
              "      <td>0.098256</td>\n",
              "      <td>0.032197</td>\n",
              "      <td>0.065626</td>\n",
              "      <td>-0.127793</td>\n",
              "      <td>0.961020</td>\n",
              "      <td>0.986196</td>\n",
              "      <td>1.000000</td>\n",
              "      <td>1.000000</td>\n",
              "      <td>0.054197</td>\n",
              "      <td>-0.013128</td>\n",
              "    </tr>\n",
              "    <tr>\n",
              "      <th>booking_down_pymnt</th>\n",
              "      <td>0.032071</td>\n",
              "      <td>0.521379</td>\n",
              "      <td>-0.098388</td>\n",
              "      <td>1.000000</td>\n",
              "      <td>0.098256</td>\n",
              "      <td>0.032198</td>\n",
              "      <td>0.065628</td>\n",
              "      <td>-0.127794</td>\n",
              "      <td>0.961021</td>\n",
              "      <td>0.986196</td>\n",
              "      <td>1.000000</td>\n",
              "      <td>1.000000</td>\n",
              "      <td>0.054197</td>\n",
              "      <td>-0.013130</td>\n",
              "    </tr>\n",
              "    <tr>\n",
              "      <th>reserved</th>\n",
              "      <td>0.004702</td>\n",
              "      <td>0.100374</td>\n",
              "      <td>-0.081682</td>\n",
              "      <td>0.054197</td>\n",
              "      <td>0.223501</td>\n",
              "      <td>0.071509</td>\n",
              "      <td>0.147890</td>\n",
              "      <td>-0.056257</td>\n",
              "      <td>0.085843</td>\n",
              "      <td>0.080518</td>\n",
              "      <td>0.054197</td>\n",
              "      <td>0.054197</td>\n",
              "      <td>1.000000</td>\n",
              "      <td>-0.049518</td>\n",
              "    </tr>\n",
              "    <tr>\n",
              "      <th>warranty_avail</th>\n",
              "      <td>0.014275</td>\n",
              "      <td>-0.003712</td>\n",
              "      <td>0.016345</td>\n",
              "      <td>-0.013129</td>\n",
              "      <td>-0.047353</td>\n",
              "      <td>-0.027761</td>\n",
              "      <td>-0.348627</td>\n",
              "      <td>0.011473</td>\n",
              "      <td>-0.061038</td>\n",
              "      <td>-0.004814</td>\n",
              "      <td>-0.013128</td>\n",
              "      <td>-0.013130</td>\n",
              "      <td>-0.049518</td>\n",
              "      <td>1.000000</td>\n",
              "    </tr>\n",
              "  </tbody>\n",
              "</table>\n",
              "</div>\n",
              "      <button class=\"colab-df-convert\" onclick=\"convertToInteractive('df-2076c60f-7d7d-4ba8-b669-4171a9eecb40')\"\n",
              "              title=\"Convert this dataframe to an interactive table.\"\n",
              "              style=\"display:none;\">\n",
              "        \n",
              "  <svg xmlns=\"http://www.w3.org/2000/svg\" height=\"24px\"viewBox=\"0 0 24 24\"\n",
              "       width=\"24px\">\n",
              "    <path d=\"M0 0h24v24H0V0z\" fill=\"none\"/>\n",
              "    <path d=\"M18.56 5.44l.94 2.06.94-2.06 2.06-.94-2.06-.94-.94-2.06-.94 2.06-2.06.94zm-11 1L8.5 8.5l.94-2.06 2.06-.94-2.06-.94L8.5 2.5l-.94 2.06-2.06.94zm10 10l.94 2.06.94-2.06 2.06-.94-2.06-.94-.94-2.06-.94 2.06-2.06.94z\"/><path d=\"M17.41 7.96l-1.37-1.37c-.4-.4-.92-.59-1.43-.59-.52 0-1.04.2-1.43.59L10.3 9.45l-7.72 7.72c-.78.78-.78 2.05 0 2.83L4 21.41c.39.39.9.59 1.41.59.51 0 1.02-.2 1.41-.59l7.78-7.78 2.81-2.81c.8-.78.8-2.07 0-2.86zM5.41 20L4 18.59l7.72-7.72 1.47 1.35L5.41 20z\"/>\n",
              "  </svg>\n",
              "      </button>\n",
              "      \n",
              "  <style>\n",
              "    .colab-df-container {\n",
              "      display:flex;\n",
              "      flex-wrap:wrap;\n",
              "      gap: 12px;\n",
              "    }\n",
              "\n",
              "    .colab-df-convert {\n",
              "      background-color: #E8F0FE;\n",
              "      border: none;\n",
              "      border-radius: 50%;\n",
              "      cursor: pointer;\n",
              "      display: none;\n",
              "      fill: #1967D2;\n",
              "      height: 32px;\n",
              "      padding: 0 0 0 0;\n",
              "      width: 32px;\n",
              "    }\n",
              "\n",
              "    .colab-df-convert:hover {\n",
              "      background-color: #E2EBFA;\n",
              "      box-shadow: 0px 1px 2px rgba(60, 64, 67, 0.3), 0px 1px 3px 1px rgba(60, 64, 67, 0.15);\n",
              "      fill: #174EA6;\n",
              "    }\n",
              "\n",
              "    [theme=dark] .colab-df-convert {\n",
              "      background-color: #3B4455;\n",
              "      fill: #D2E3FC;\n",
              "    }\n",
              "\n",
              "    [theme=dark] .colab-df-convert:hover {\n",
              "      background-color: #434B5C;\n",
              "      box-shadow: 0px 1px 3px 1px rgba(0, 0, 0, 0.15);\n",
              "      filter: drop-shadow(0px 1px 2px rgba(0, 0, 0, 0.3));\n",
              "      fill: #FFFFFF;\n",
              "    }\n",
              "  </style>\n",
              "\n",
              "      <script>\n",
              "        const buttonEl =\n",
              "          document.querySelector('#df-2076c60f-7d7d-4ba8-b669-4171a9eecb40 button.colab-df-convert');\n",
              "        buttonEl.style.display =\n",
              "          google.colab.kernel.accessAllowed ? 'block' : 'none';\n",
              "\n",
              "        async function convertToInteractive(key) {\n",
              "          const element = document.querySelector('#df-2076c60f-7d7d-4ba8-b669-4171a9eecb40');\n",
              "          const dataTable =\n",
              "            await google.colab.kernel.invokeFunction('convertToInteractive',\n",
              "                                                     [key], {});\n",
              "          if (!dataTable) return;\n",
              "\n",
              "          const docLinkHtml = 'Like what you see? Visit the ' +\n",
              "            '<a target=\"_blank\" href=https://colab.research.google.com/notebooks/data_table.ipynb>data table notebook</a>'\n",
              "            + ' to learn more about interactive tables.';\n",
              "          element.innerHTML = '';\n",
              "          dataTable['output_type'] = 'display_data';\n",
              "          await google.colab.output.renderOutput(dataTable, element);\n",
              "          const docLink = document.createElement('div');\n",
              "          docLink.innerHTML = docLinkHtml;\n",
              "          element.appendChild(docLink);\n",
              "        }\n",
              "      </script>\n",
              "    </div>\n",
              "  </div>\n",
              "  "
            ]
          },
          "metadata": {},
          "execution_count": 18
        }
      ]
    },
    {
      "cell_type": "code",
      "source": [
        "corr = df.corr()\n",
        "sns.set_context(\"notebook\", font_scale=1.0, rc={\"lines.linewidth\": 2.5})\n",
        "plt.figure(figsize=(13,7))\n",
        "a = sns.heatmap(corr, annot=True, fmt='.2f')\n",
        "rotx = a.set_xticklabels(a.get_xticklabels(), rotation=90)\n",
        "roty = a.set_yticklabels(a.get_yticklabels(), rotation=30)"
      ],
      "metadata": {
        "colab": {
          "base_uri": "https://localhost:8080/",
          "height": 545
        },
        "id": "zl5VtyBTBffF",
        "outputId": "d9e4a5b3-defa-49a6-af7b-f7d375bfde6a"
      },
      "execution_count": null,
      "outputs": [
        {
          "output_type": "display_data",
          "data": {
            "text/plain": [
              "<Figure size 936x504 with 2 Axes>"
            ],
            "image/png": "[encoded data removed]"
          },
          "metadata": {
            "needs_background": "light"
          }
        }
      ]
    },
    {
      "cell_type": "markdown",
      "source": [
        "We can see from the graph above that the variables sale price, emi starts from, booking down pymnt original price, and broker quote have a strong correlation with one another. Therefore, our objective variable is emi starts from, booking down payment, original price, and broker qoute.\n",
        "\n",
        "Therefore, we can maintain any of them and remove the other columns.\n",
        "\n",
        "\n",
        "\n",
        "I am eliminating the aforementioned columns from this table but leaving booking down payment alone because, as we saw before, it contains 2824 null values.\n",
        "\n",
        "\n",
        "\n",
        "Moreover, Id column should be eliminated because it has no impact on our target column."
      ],
      "metadata": {
        "id": "sLnzddGUBg-F"
      }
    },
    {
      "cell_type": "code",
      "source": [
        "def remove(df):\n",
        "  df1=df.drop(['id','emi_starts_from','original_price','broker_quote'],axis=1)\n",
        "  return df1\n",
        "df1=remove(df)"
      ],
      "metadata": {
        "id": "cSqupqZyBkD1"
      },
      "execution_count": null,
      "outputs": []
    },
    {
      "cell_type": "code",
      "source": [
        "df1"
      ],
      "metadata": {
        "colab": {
          "base_uri": "https://localhost:8080/",
          "height": 713
        },
        "id": "urzc4QIzBscC",
        "outputId": "70c9ca51-35ab-4fcd-c064-42c5deff6ee1"
      },
      "execution_count": null,
      "outputs": [
        {
          "output_type": "execute_result",
          "data": {
            "text/plain": [
              "               car_name  yr_mfr fuel_type  kms_run  sale_price     city  \\\n",
              "0          maruti swift    2015    petrol     8063      386399    noida   \n",
              "1       maruti alto 800    2016    petrol    23104      265499    noida   \n",
              "2     hyundai grand i10    2017    petrol    23402      477699    noida   \n",
              "3          maruti swift    2013    diesel    39124      307999    noida   \n",
              "4     hyundai grand i10    2015    petrol    22116      361499    noida   \n",
              "...                 ...     ...       ...      ...         ...      ...   \n",
              "6394    toyota fortuner    2012    diesel   116838     1100000  lucknow   \n",
              "6395        hyundai i20    2012    diesel    47317      370000  lucknow   \n",
              "6396      toyota innova    2009    diesel   274167      415000  lucknow   \n",
              "6397    tata indica ev2    2011    diesel   119634      150000  lucknow   \n",
              "6398  hyundai grand i10    2015    diesel   101527      350000  lucknow   \n",
              "\n",
              "      times_viewed   body_type transmission                        variant  \\\n",
              "0            18715   hatchback       manual                        lxi opt   \n",
              "1             2676   hatchback       manual                            lxi   \n",
              "2              609   hatchback       manual                sports 1.2 vtvt   \n",
              "3             6511   hatchback       manual                            vdi   \n",
              "4             3225   hatchback       manual                 magna 1.2 vtvt   \n",
              "...            ...         ...          ...                            ...   \n",
              "6394           327  luxury suv       manual                     3.0 mt 4x2   \n",
              "6395           214   hatchback       manual  sportz 1.4 crdi 6 speed bs iv   \n",
              "6396           247         suv       manual                   2.5 g4 7 str   \n",
              "6397           157   hatchback       manual                             lx   \n",
              "6398           144   hatchback       manual                sportz 1.1 crdi   \n",
              "\n",
              "      ...     make       model car_availability  total_owners  car_rating  \\\n",
              "0     ...   maruti       swift         in_stock             2       great   \n",
              "1     ...   maruti    alto 800         in_stock             1       great   \n",
              "2     ...  hyundai   grand i10         in_stock             1       great   \n",
              "3     ...   maruti       swift         in_stock             1       great   \n",
              "4     ...  hyundai   grand i10         in_stock             1       great   \n",
              "...   ...      ...         ...              ...           ...         ...   \n",
              "6394  ...   toyota    fortuner              NaN             2        good   \n",
              "6395  ...  hyundai         i20              NaN             1  overpriced   \n",
              "6396  ...   toyota      innova              NaN             2  overpriced   \n",
              "6397  ...     tata  indica ev2              NaN             2  overpriced   \n",
              "6398  ...  hyundai   grand i10              NaN             2        good   \n",
              "\n",
              "                ad_created_on fitness_certificate booking_down_pymnt reserved  \\\n",
              "0     2021-04-04T07:09:18.583                True              57960    False   \n",
              "1     2021-03-22T14:07:32.833                True              39825    False   \n",
              "2     2021-03-20T05:36:31.311                True              71655    False   \n",
              "3     2021-01-21T12:59:19.299                True              46200    False   \n",
              "4     2021-04-01T13:33:40.733                True              54225    False   \n",
              "...                       ...                 ...                ...      ...   \n",
              "6394  2019-09-06T04:20:28.916               False             165000    False   \n",
              "6395  2019-09-02T09:43:11.541               False              55500    False   \n",
              "6396  2019-08-28T14:42:16.246               False              62250    False   \n",
              "6397  2019-08-26T06:10:57.269               False              22500    False   \n",
              "6398  2019-08-25T06:09:38.375               False              52500    False   \n",
              "\n",
              "      warranty_avail  \n",
              "0              False  \n",
              "1              False  \n",
              "2              False  \n",
              "3              False  \n",
              "4              False  \n",
              "...              ...  \n",
              "6394            True  \n",
              "6395            True  \n",
              "6396           False  \n",
              "6397           False  \n",
              "6398            True  \n",
              "\n",
              "[6399 rows x 26 columns]"
            ],
            "text/html": [
              "\n",
              "  <div id=\"df-222dd5ae-bbb9-4063-84f2-f013ff0a35d1\">\n",
              "    <div class=\"colab-df-container\">\n",
              "      <div>\n",
              "<style scoped>\n",
              "    .dataframe tbody tr th:only-of-type {\n",
              "        vertical-align: middle;\n",
              "    }\n",
              "\n",
              "    .dataframe tbody tr th {\n",
              "        vertical-align: top;\n",
              "    }\n",
              "\n",
              "    .dataframe thead th {\n",
              "        text-align: right;\n",
              "    }\n",
              "</style>\n",
              "<table border=\"1\" class=\"dataframe\">\n",
              "  <thead>\n",
              "    <tr style=\"text-align: right;\">\n",
              "      <th></th>\n",
              "      <th>car_name</th>\n",
              "      <th>yr_mfr</th>\n",
              "      <th>fuel_type</th>\n",
              "      <th>kms_run</th>\n",
              "      <th>sale_price</th>\n",
              "      <th>city</th>\n",
              "      <th>times_viewed</th>\n",
              "      <th>body_type</th>\n",
              "      <th>transmission</th>\n",
              "      <th>variant</th>\n",
              "      <th>...</th>\n",
              "      <th>make</th>\n",
              "      <th>model</th>\n",
              "      <th>car_availability</th>\n",
              "      <th>total_owners</th>\n",
              "      <th>car_rating</th>\n",
              "      <th>ad_created_on</th>\n",
              "      <th>fitness_certificate</th>\n",
              "      <th>booking_down_pymnt</th>\n",
              "      <th>reserved</th>\n",
              "      <th>warranty_avail</th>\n",
              "    </tr>\n",
              "  </thead>\n",
              "  <tbody>\n",
              "    <tr>\n",
              "      <th>0</th>\n",
              "      <td>maruti swift</td>\n",
              "      <td>2015</td>\n",
              "      <td>petrol</td>\n",
              "      <td>8063</td>\n",
              "      <td>386399</td>\n",
              "      <td>noida</td>\n",
              "      <td>18715</td>\n",
              "      <td>hatchback</td>\n",
              "      <td>manual</td>\n",
              "      <td>lxi opt</td>\n",
              "      <td>...</td>\n",
              "      <td>maruti</td>\n",
              "      <td>swift</td>\n",
              "      <td>in_stock</td>\n",
              "      <td>2</td>\n",
              "      <td>great</td>\n",
              "      <td>2021-04-04T07:09:18.583</td>\n",
              "      <td>True</td>\n",
              "      <td>57960</td>\n",
              "      <td>False</td>\n",
              "      <td>False</td>\n",
              "    </tr>\n",
              "    <tr>\n",
              "      <th>1</th>\n",
              "      <td>maruti alto 800</td>\n",
              "      <td>2016</td>\n",
              "      <td>petrol</td>\n",
              "      <td>23104</td>\n",
              "      <td>265499</td>\n",
              "      <td>noida</td>\n",
              "      <td>2676</td>\n",
              "      <td>hatchback</td>\n",
              "      <td>manual</td>\n",
              "      <td>lxi</td>\n",
              "      <td>...</td>\n",
              "      <td>maruti</td>\n",
              "      <td>alto 800</td>\n",
              "      <td>in_stock</td>\n",
              "      <td>1</td>\n",
              "      <td>great</td>\n",
              "      <td>2021-03-22T14:07:32.833</td>\n",
              "      <td>True</td>\n",
              "      <td>39825</td>\n",
              "      <td>False</td>\n",
              "      <td>False</td>\n",
              "    </tr>\n",
              "    <tr>\n",
              "      <th>2</th>\n",
              "      <td>hyundai grand i10</td>\n",
              "      <td>2017</td>\n",
              "      <td>petrol</td>\n",
              "      <td>23402</td>\n",
              "      <td>477699</td>\n",
              "      <td>noida</td>\n",
              "      <td>609</td>\n",
              "      <td>hatchback</td>\n",
              "      <td>manual</td>\n",
              "      <td>sports 1.2 vtvt</td>\n",
              "      <td>...</td>\n",
              "      <td>hyundai</td>\n",
              "      <td>grand i10</td>\n",
              "      <td>in_stock</td>\n",
              "      <td>1</td>\n",
              "      <td>great</td>\n",
              "      <td>2021-03-20T05:36:31.311</td>\n",
              "      <td>True</td>\n",
              "      <td>71655</td>\n",
              "      <td>False</td>\n",
              "      <td>False</td>\n",
              "    </tr>\n",
              "    <tr>\n",
              "      <th>3</th>\n",
              "      <td>maruti swift</td>\n",
              "      <td>2013</td>\n",
              "      <td>diesel</td>\n",
              "      <td>39124</td>\n",
              "      <td>307999</td>\n",
              "      <td>noida</td>\n",
              "      <td>6511</td>\n",
              "      <td>hatchback</td>\n",
              "      <td>manual</td>\n",
              "      <td>vdi</td>\n",
              "      <td>...</td>\n",
              "      <td>maruti</td>\n",
              "      <td>swift</td>\n",
              "      <td>in_stock</td>\n",
              "      <td>1</td>\n",
              "      <td>great</td>\n",
              "      <td>2021-01-21T12:59:19.299</td>\n",
              "      <td>True</td>\n",
              "      <td>46200</td>\n",
              "      <td>False</td>\n",
              "      <td>False</td>\n",
              "    </tr>\n",
              "    <tr>\n",
              "      <th>4</th>\n",
              "      <td>hyundai grand i10</td>\n",
              "      <td>2015</td>\n",
              "      <td>petrol</td>\n",
              "      <td>22116</td>\n",
              "      <td>361499</td>\n",
              "      <td>noida</td>\n",
              "      <td>3225</td>\n",
              "      <td>hatchback</td>\n",
              "      <td>manual</td>\n",
              "      <td>magna 1.2 vtvt</td>\n",
              "      <td>...</td>\n",
              "      <td>hyundai</td>\n",
              "      <td>grand i10</td>\n",
              "      <td>in_stock</td>\n",
              "      <td>1</td>\n",
              "      <td>great</td>\n",
              "      <td>2021-04-01T13:33:40.733</td>\n",
              "      <td>True</td>\n",
              "      <td>54225</td>\n",
              "      <td>False</td>\n",
              "      <td>False</td>\n",
              "    </tr>\n",
              "    <tr>\n",
              "      <th>...</th>\n",
              "      <td>...</td>\n",
              "      <td>...</td>\n",
              "      <td>...</td>\n",
              "      <td>...</td>\n",
              "      <td>...</td>\n",
              "      <td>...</td>\n",
              "      <td>...</td>\n",
              "      <td>...</td>\n",
              "      <td>...</td>\n",
              "      <td>...</td>\n",
              "      <td>...</td>\n",
              "      <td>...</td>\n",
              "      <td>...</td>\n",
              "      <td>...</td>\n",
              "      <td>...</td>\n",
              "      <td>...</td>\n",
              "      <td>...</td>\n",
              "      <td>...</td>\n",
              "      <td>...</td>\n",
              "      <td>...</td>\n",
              "      <td>...</td>\n",
              "    </tr>\n",
              "    <tr>\n",
              "      <th>6394</th>\n",
              "      <td>toyota fortuner</td>\n",
              "      <td>2012</td>\n",
              "      <td>diesel</td>\n",
              "      <td>116838</td>\n",
              "      <td>1100000</td>\n",
              "      <td>lucknow</td>\n",
              "      <td>327</td>\n",
              "      <td>luxury suv</td>\n",
              "      <td>manual</td>\n",
              "      <td>3.0 mt 4x2</td>\n",
              "      <td>...</td>\n",
              "      <td>toyota</td>\n",
              "      <td>fortuner</td>\n",
              "      <td>NaN</td>\n",
              "      <td>2</td>\n",
              "      <td>good</td>\n",
              "      <td>2019-09-06T04:20:28.916</td>\n",
              "      <td>False</td>\n",
              "      <td>165000</td>\n",
              "      <td>False</td>\n",
              "      <td>True</td>\n",
              "    </tr>\n",
              "    <tr>\n",
              "      <th>6395</th>\n",
              "      <td>hyundai i20</td>\n",
              "      <td>2012</td>\n",
              "      <td>diesel</td>\n",
              "      <td>47317</td>\n",
              "      <td>370000</td>\n",
              "      <td>lucknow</td>\n",
              "      <td>214</td>\n",
              "      <td>hatchback</td>\n",
              "      <td>manual</td>\n",
              "      <td>sportz 1.4 crdi 6 speed bs iv</td>\n",
              "      <td>...</td>\n",
              "      <td>hyundai</td>\n",
              "      <td>i20</td>\n",
              "      <td>NaN</td>\n",
              "      <td>1</td>\n",
              "      <td>overpriced</td>\n",
              "      <td>2019-09-02T09:43:11.541</td>\n",
              "      <td>False</td>\n",
              "      <td>55500</td>\n",
              "      <td>False</td>\n",
              "      <td>True</td>\n",
              "    </tr>\n",
              "    <tr>\n",
              "      <th>6396</th>\n",
              "      <td>toyota innova</td>\n",
              "      <td>2009</td>\n",
              "      <td>diesel</td>\n",
              "      <td>274167</td>\n",
              "      <td>415000</td>\n",
              "      <td>lucknow</td>\n",
              "      <td>247</td>\n",
              "      <td>suv</td>\n",
              "      <td>manual</td>\n",
              "      <td>2.5 g4 7 str</td>\n",
              "      <td>...</td>\n",
              "      <td>toyota</td>\n",
              "      <td>innova</td>\n",
              "      <td>NaN</td>\n",
              "      <td>2</td>\n",
              "      <td>overpriced</td>\n",
              "      <td>2019-08-28T14:42:16.246</td>\n",
              "      <td>False</td>\n",
              "      <td>62250</td>\n",
              "      <td>False</td>\n",
              "      <td>False</td>\n",
              "    </tr>\n",
              "    <tr>\n",
              "      <th>6397</th>\n",
              "      <td>tata indica ev2</td>\n",
              "      <td>2011</td>\n",
              "      <td>diesel</td>\n",
              "      <td>119634</td>\n",
              "      <td>150000</td>\n",
              "      <td>lucknow</td>\n",
              "      <td>157</td>\n",
              "      <td>hatchback</td>\n",
              "      <td>manual</td>\n",
              "      <td>lx</td>\n",
              "      <td>...</td>\n",
              "      <td>tata</td>\n",
              "      <td>indica ev2</td>\n",
              "      <td>NaN</td>\n",
              "      <td>2</td>\n",
              "      <td>overpriced</td>\n",
              "      <td>2019-08-26T06:10:57.269</td>\n",
              "      <td>False</td>\n",
              "      <td>22500</td>\n",
              "      <td>False</td>\n",
              "      <td>False</td>\n",
              "    </tr>\n",
              "    <tr>\n",
              "      <th>6398</th>\n",
              "      <td>hyundai grand i10</td>\n",
              "      <td>2015</td>\n",
              "      <td>diesel</td>\n",
              "      <td>101527</td>\n",
              "      <td>350000</td>\n",
              "      <td>lucknow</td>\n",
              "      <td>144</td>\n",
              "      <td>hatchback</td>\n",
              "      <td>manual</td>\n",
              "      <td>sportz 1.1 crdi</td>\n",
              "      <td>...</td>\n",
              "      <td>hyundai</td>\n",
              "      <td>grand i10</td>\n",
              "      <td>NaN</td>\n",
              "      <td>2</td>\n",
              "      <td>good</td>\n",
              "      <td>2019-08-25T06:09:38.375</td>\n",
              "      <td>False</td>\n",
              "      <td>52500</td>\n",
              "      <td>False</td>\n",
              "      <td>True</td>\n",
              "    </tr>\n",
              "  </tbody>\n",
              "</table>\n",
              "<p>6399 rows × 26 columns</p>\n",
              "</div>\n",
              "      <button class=\"colab-df-convert\" onclick=\"convertToInteractive('df-222dd5ae-bbb9-4063-84f2-f013ff0a35d1')\"\n",
              "              title=\"Convert this dataframe to an interactive table.\"\n",
              "              style=\"display:none;\">\n",
              "        \n",
              "  <svg xmlns=\"http://www.w3.org/2000/svg\" height=\"24px\"viewBox=\"0 0 24 24\"\n",
              "       width=\"24px\">\n",
              "    <path d=\"M0 0h24v24H0V0z\" fill=\"none\"/>\n",
              "    <path d=\"M18.56 5.44l.94 2.06.94-2.06 2.06-.94-2.06-.94-.94-2.06-.94 2.06-2.06.94zm-11 1L8.5 8.5l.94-2.06 2.06-.94-2.06-.94L8.5 2.5l-.94 2.06-2.06.94zm10 10l.94 2.06.94-2.06 2.06-.94-2.06-.94-.94-2.06-.94 2.06-2.06.94z\"/><path d=\"M17.41 7.96l-1.37-1.37c-.4-.4-.92-.59-1.43-.59-.52 0-1.04.2-1.43.59L10.3 9.45l-7.72 7.72c-.78.78-.78 2.05 0 2.83L4 21.41c.39.39.9.59 1.41.59.51 0 1.02-.2 1.41-.59l7.78-7.78 2.81-2.81c.8-.78.8-2.07 0-2.86zM5.41 20L4 18.59l7.72-7.72 1.47 1.35L5.41 20z\"/>\n",
              "  </svg>\n",
              "      </button>\n",
              "      \n",
              "  <style>\n",
              "    .colab-df-container {\n",
              "      display:flex;\n",
              "      flex-wrap:wrap;\n",
              "      gap: 12px;\n",
              "    }\n",
              "\n",
              "    .colab-df-convert {\n",
              "      background-color: #E8F0FE;\n",
              "      border: none;\n",
              "      border-radius: 50%;\n",
              "      cursor: pointer;\n",
              "      display: none;\n",
              "      fill: #1967D2;\n",
              "      height: 32px;\n",
              "      padding: 0 0 0 0;\n",
              "      width: 32px;\n",
              "    }\n",
              "\n",
              "    .colab-df-convert:hover {\n",
              "      background-color: #E2EBFA;\n",
              "      box-shadow: 0px 1px 2px rgba(60, 64, 67, 0.3), 0px 1px 3px 1px rgba(60, 64, 67, 0.15);\n",
              "      fill: #174EA6;\n",
              "    }\n",
              "\n",
              "    [theme=dark] .colab-df-convert {\n",
              "      background-color: #3B4455;\n",
              "      fill: #D2E3FC;\n",
              "    }\n",
              "\n",
              "    [theme=dark] .colab-df-convert:hover {\n",
              "      background-color: #434B5C;\n",
              "      box-shadow: 0px 1px 3px 1px rgba(0, 0, 0, 0.15);\n",
              "      filter: drop-shadow(0px 1px 2px rgba(0, 0, 0, 0.3));\n",
              "      fill: #FFFFFF;\n",
              "    }\n",
              "  </style>\n",
              "\n",
              "      <script>\n",
              "        const buttonEl =\n",
              "          document.querySelector('#df-222dd5ae-bbb9-4063-84f2-f013ff0a35d1 button.colab-df-convert');\n",
              "        buttonEl.style.display =\n",
              "          google.colab.kernel.accessAllowed ? 'block' : 'none';\n",
              "\n",
              "        async function convertToInteractive(key) {\n",
              "          const element = document.querySelector('#df-222dd5ae-bbb9-4063-84f2-f013ff0a35d1');\n",
              "          const dataTable =\n",
              "            await google.colab.kernel.invokeFunction('convertToInteractive',\n",
              "                                                     [key], {});\n",
              "          if (!dataTable) return;\n",
              "\n",
              "          const docLinkHtml = 'Like what you see? Visit the ' +\n",
              "            '<a target=\"_blank\" href=https://colab.research.google.com/notebooks/data_table.ipynb>data table notebook</a>'\n",
              "            + ' to learn more about interactive tables.';\n",
              "          element.innerHTML = '';\n",
              "          dataTable['output_type'] = 'display_data';\n",
              "          await google.colab.output.renderOutput(dataTable, element);\n",
              "          const docLink = document.createElement('div');\n",
              "          docLink.innerHTML = docLinkHtml;\n",
              "          element.appendChild(docLink);\n",
              "        }\n",
              "      </script>\n",
              "    </div>\n",
              "  </div>\n",
              "  "
            ]
          },
          "metadata": {},
          "execution_count": 21
        }
      ]
    },
    {
      "cell_type": "code",
      "source": [
        "df1.head()"
      ],
      "metadata": {
        "colab": {
          "base_uri": "https://localhost:8080/",
          "height": 386
        },
        "id": "mLAfKGP3CKFK",
        "outputId": "d7c03f02-af9f-4533-a9c8-639ebf5c86fa"
      },
      "execution_count": null,
      "outputs": [
        {
          "output_type": "execute_result",
          "data": {
            "text/plain": [
              "            car_name  yr_mfr fuel_type  kms_run  sale_price   city  \\\n",
              "0       maruti swift    2015    petrol     8063      386399  noida   \n",
              "1    maruti alto 800    2016    petrol    23104      265499  noida   \n",
              "2  hyundai grand i10    2017    petrol    23402      477699  noida   \n",
              "3       maruti swift    2013    diesel    39124      307999  noida   \n",
              "4  hyundai grand i10    2015    petrol    22116      361499  noida   \n",
              "\n",
              "   times_viewed  body_type transmission          variant  ...     make  \\\n",
              "0         18715  hatchback       manual          lxi opt  ...   maruti   \n",
              "1          2676  hatchback       manual              lxi  ...   maruti   \n",
              "2           609  hatchback       manual  sports 1.2 vtvt  ...  hyundai   \n",
              "3          6511  hatchback       manual              vdi  ...   maruti   \n",
              "4          3225  hatchback       manual   magna 1.2 vtvt  ...  hyundai   \n",
              "\n",
              "       model car_availability  total_owners car_rating  \\\n",
              "0      swift         in_stock             2      great   \n",
              "1   alto 800         in_stock             1      great   \n",
              "2  grand i10         in_stock             1      great   \n",
              "3      swift         in_stock             1      great   \n",
              "4  grand i10         in_stock             1      great   \n",
              "\n",
              "             ad_created_on fitness_certificate booking_down_pymnt reserved  \\\n",
              "0  2021-04-04T07:09:18.583                True              57960    False   \n",
              "1  2021-03-22T14:07:32.833                True              39825    False   \n",
              "2  2021-03-20T05:36:31.311                True              71655    False   \n",
              "3  2021-01-21T12:59:19.299                True              46200    False   \n",
              "4  2021-04-01T13:33:40.733                True              54225    False   \n",
              "\n",
              "   warranty_avail  \n",
              "0           False  \n",
              "1           False  \n",
              "2           False  \n",
              "3           False  \n",
              "4           False  \n",
              "\n",
              "[5 rows x 26 columns]"
            ],
            "text/html": [
              "\n",
              "  <div id=\"df-4132c60c-9953-46c4-ba87-44f4962da37c\">\n",
              "    <div class=\"colab-df-container\">\n",
              "      <div>\n",
              "<style scoped>\n",
              "    .dataframe tbody tr th:only-of-type {\n",
              "        vertical-align: middle;\n",
              "    }\n",
              "\n",
              "    .dataframe tbody tr th {\n",
              "        vertical-align: top;\n",
              "    }\n",
              "\n",
              "    .dataframe thead th {\n",
              "        text-align: right;\n",
              "    }\n",
              "</style>\n",
              "<table border=\"1\" class=\"dataframe\">\n",
              "  <thead>\n",
              "    <tr style=\"text-align: right;\">\n",
              "      <th></th>\n",
              "      <th>car_name</th>\n",
              "      <th>yr_mfr</th>\n",
              "      <th>fuel_type</th>\n",
              "      <th>kms_run</th>\n",
              "      <th>sale_price</th>\n",
              "      <th>city</th>\n",
              "      <th>times_viewed</th>\n",
              "      <th>body_type</th>\n",
              "      <th>transmission</th>\n",
              "      <th>variant</th>\n",
              "      <th>...</th>\n",
              "      <th>make</th>\n",
              "      <th>model</th>\n",
              "      <th>car_availability</th>\n",
              "      <th>total_owners</th>\n",
              "      <th>car_rating</th>\n",
              "      <th>ad_created_on</th>\n",
              "      <th>fitness_certificate</th>\n",
              "      <th>booking_down_pymnt</th>\n",
              "      <th>reserved</th>\n",
              "      <th>warranty_avail</th>\n",
              "    </tr>\n",
              "  </thead>\n",
              "  <tbody>\n",
              "    <tr>\n",
              "      <th>0</th>\n",
              "      <td>maruti swift</td>\n",
              "      <td>2015</td>\n",
              "      <td>petrol</td>\n",
              "      <td>8063</td>\n",
              "      <td>386399</td>\n",
              "      <td>noida</td>\n",
              "      <td>18715</td>\n",
              "      <td>hatchback</td>\n",
              "      <td>manual</td>\n",
              "      <td>lxi opt</td>\n",
              "      <td>...</td>\n",
              "      <td>maruti</td>\n",
              "      <td>swift</td>\n",
              "      <td>in_stock</td>\n",
              "      <td>2</td>\n",
              "      <td>great</td>\n",
              "      <td>2021-04-04T07:09:18.583</td>\n",
              "      <td>True</td>\n",
              "      <td>57960</td>\n",
              "      <td>False</td>\n",
              "      <td>False</td>\n",
              "    </tr>\n",
              "    <tr>\n",
              "      <th>1</th>\n",
              "      <td>maruti alto 800</td>\n",
              "      <td>2016</td>\n",
              "      <td>petrol</td>\n",
              "      <td>23104</td>\n",
              "      <td>265499</td>\n",
              "      <td>noida</td>\n",
              "      <td>2676</td>\n",
              "      <td>hatchback</td>\n",
              "      <td>manual</td>\n",
              "      <td>lxi</td>\n",
              "      <td>...</td>\n",
              "      <td>maruti</td>\n",
              "      <td>alto 800</td>\n",
              "      <td>in_stock</td>\n",
              "      <td>1</td>\n",
              "      <td>great</td>\n",
              "      <td>2021-03-22T14:07:32.833</td>\n",
              "      <td>True</td>\n",
              "      <td>39825</td>\n",
              "      <td>False</td>\n",
              "      <td>False</td>\n",
              "    </tr>\n",
              "    <tr>\n",
              "      <th>2</th>\n",
              "      <td>hyundai grand i10</td>\n",
              "      <td>2017</td>\n",
              "      <td>petrol</td>\n",
              "      <td>23402</td>\n",
              "      <td>477699</td>\n",
              "      <td>noida</td>\n",
              "      <td>609</td>\n",
              "      <td>hatchback</td>\n",
              "      <td>manual</td>\n",
              "      <td>sports 1.2 vtvt</td>\n",
              "      <td>...</td>\n",
              "      <td>hyundai</td>\n",
              "      <td>grand i10</td>\n",
              "      <td>in_stock</td>\n",
              "      <td>1</td>\n",
              "      <td>great</td>\n",
              "      <td>2021-03-20T05:36:31.311</td>\n",
              "      <td>True</td>\n",
              "      <td>71655</td>\n",
              "      <td>False</td>\n",
              "      <td>False</td>\n",
              "    </tr>\n",
              "    <tr>\n",
              "      <th>3</th>\n",
              "      <td>maruti swift</td>\n",
              "      <td>2013</td>\n",
              "      <td>diesel</td>\n",
              "      <td>39124</td>\n",
              "      <td>307999</td>\n",
              "      <td>noida</td>\n",
              "      <td>6511</td>\n",
              "      <td>hatchback</td>\n",
              "      <td>manual</td>\n",
              "      <td>vdi</td>\n",
              "      <td>...</td>\n",
              "      <td>maruti</td>\n",
              "      <td>swift</td>\n",
              "      <td>in_stock</td>\n",
              "      <td>1</td>\n",
              "      <td>great</td>\n",
              "      <td>2021-01-21T12:59:19.299</td>\n",
              "      <td>True</td>\n",
              "      <td>46200</td>\n",
              "      <td>False</td>\n",
              "      <td>False</td>\n",
              "    </tr>\n",
              "    <tr>\n",
              "      <th>4</th>\n",
              "      <td>hyundai grand i10</td>\n",
              "      <td>2015</td>\n",
              "      <td>petrol</td>\n",
              "      <td>22116</td>\n",
              "      <td>361499</td>\n",
              "      <td>noida</td>\n",
              "      <td>3225</td>\n",
              "      <td>hatchback</td>\n",
              "      <td>manual</td>\n",
              "      <td>magna 1.2 vtvt</td>\n",
              "      <td>...</td>\n",
              "      <td>hyundai</td>\n",
              "      <td>grand i10</td>\n",
              "      <td>in_stock</td>\n",
              "      <td>1</td>\n",
              "      <td>great</td>\n",
              "      <td>2021-04-01T13:33:40.733</td>\n",
              "      <td>True</td>\n",
              "      <td>54225</td>\n",
              "      <td>False</td>\n",
              "      <td>False</td>\n",
              "    </tr>\n",
              "  </tbody>\n",
              "</table>\n",
              "<p>5 rows × 26 columns</p>\n",
              "</div>\n",
              "      <button class=\"colab-df-convert\" onclick=\"convertToInteractive('df-4132c60c-9953-46c4-ba87-44f4962da37c')\"\n",
              "              title=\"Convert this dataframe to an interactive table.\"\n",
              "              style=\"display:none;\">\n",
              "        \n",
              "  <svg xmlns=\"http://www.w3.org/2000/svg\" height=\"24px\"viewBox=\"0 0 24 24\"\n",
              "       width=\"24px\">\n",
              "    <path d=\"M0 0h24v24H0V0z\" fill=\"none\"/>\n",
              "    <path d=\"M18.56 5.44l.94 2.06.94-2.06 2.06-.94-2.06-.94-.94-2.06-.94 2.06-2.06.94zm-11 1L8.5 8.5l.94-2.06 2.06-.94-2.06-.94L8.5 2.5l-.94 2.06-2.06.94zm10 10l.94 2.06.94-2.06 2.06-.94-2.06-.94-.94-2.06-.94 2.06-2.06.94z\"/><path d=\"M17.41 7.96l-1.37-1.37c-.4-.4-.92-.59-1.43-.59-.52 0-1.04.2-1.43.59L10.3 9.45l-7.72 7.72c-.78.78-.78 2.05 0 2.83L4 21.41c.39.39.9.59 1.41.59.51 0 1.02-.2 1.41-.59l7.78-7.78 2.81-2.81c.8-.78.8-2.07 0-2.86zM5.41 20L4 18.59l7.72-7.72 1.47 1.35L5.41 20z\"/>\n",
              "  </svg>\n",
              "      </button>\n",
              "      \n",
              "  <style>\n",
              "    .colab-df-container {\n",
              "      display:flex;\n",
              "      flex-wrap:wrap;\n",
              "      gap: 12px;\n",
              "    }\n",
              "\n",
              "    .colab-df-convert {\n",
              "      background-color: #E8F0FE;\n",
              "      border: none;\n",
              "      border-radius: 50%;\n",
              "      cursor: pointer;\n",
              "      display: none;\n",
              "      fill: #1967D2;\n",
              "      height: 32px;\n",
              "      padding: 0 0 0 0;\n",
              "      width: 32px;\n",
              "    }\n",
              "\n",
              "    .colab-df-convert:hover {\n",
              "      background-color: #E2EBFA;\n",
              "      box-shadow: 0px 1px 2px rgba(60, 64, 67, 0.3), 0px 1px 3px 1px rgba(60, 64, 67, 0.15);\n",
              "      fill: #174EA6;\n",
              "    }\n",
              "\n",
              "    [theme=dark] .colab-df-convert {\n",
              "      background-color: #3B4455;\n",
              "      fill: #D2E3FC;\n",
              "    }\n",
              "\n",
              "    [theme=dark] .colab-df-convert:hover {\n",
              "      background-color: #434B5C;\n",
              "      box-shadow: 0px 1px 3px 1px rgba(0, 0, 0, 0.15);\n",
              "      filter: drop-shadow(0px 1px 2px rgba(0, 0, 0, 0.3));\n",
              "      fill: #FFFFFF;\n",
              "    }\n",
              "  </style>\n",
              "\n",
              "      <script>\n",
              "        const buttonEl =\n",
              "          document.querySelector('#df-4132c60c-9953-46c4-ba87-44f4962da37c button.colab-df-convert');\n",
              "        buttonEl.style.display =\n",
              "          google.colab.kernel.accessAllowed ? 'block' : 'none';\n",
              "\n",
              "        async function convertToInteractive(key) {\n",
              "          const element = document.querySelector('#df-4132c60c-9953-46c4-ba87-44f4962da37c');\n",
              "          const dataTable =\n",
              "            await google.colab.kernel.invokeFunction('convertToInteractive',\n",
              "                                                     [key], {});\n",
              "          if (!dataTable) return;\n",
              "\n",
              "          const docLinkHtml = 'Like what you see? Visit the ' +\n",
              "            '<a target=\"_blank\" href=https://colab.research.google.com/notebooks/data_table.ipynb>data table notebook</a>'\n",
              "            + ' to learn more about interactive tables.';\n",
              "          element.innerHTML = '';\n",
              "          dataTable['output_type'] = 'display_data';\n",
              "          await google.colab.output.renderOutput(dataTable, element);\n",
              "          const docLink = document.createElement('div');\n",
              "          docLink.innerHTML = docLinkHtml;\n",
              "          element.appendChild(docLink);\n",
              "        }\n",
              "      </script>\n",
              "    </div>\n",
              "  </div>\n",
              "  "
            ]
          },
          "metadata": {},
          "execution_count": 22
        }
      ]
    },
    {
      "cell_type": "code",
      "source": [
        "df1.isnull().sum()"
      ],
      "metadata": {
        "colab": {
          "base_uri": "https://localhost:8080/"
        },
        "id": "hup4YU0SCQBO",
        "outputId": "f449bc2a-1e2e-47ee-804e-002a7f25ebd4"
      },
      "execution_count": null,
      "outputs": [
        {
          "output_type": "execute_result",
          "data": {
            "text/plain": [
              "car_name                 0\n",
              "yr_mfr                   0\n",
              "fuel_type                0\n",
              "kms_run                  0\n",
              "sale_price               0\n",
              "city                     0\n",
              "times_viewed             0\n",
              "body_type               90\n",
              "transmission           474\n",
              "variant                  0\n",
              "assured_buy              0\n",
              "registered_city          8\n",
              "registered_state         8\n",
              "is_hot                   0\n",
              "rto                      0\n",
              "source                 114\n",
              "make                     0\n",
              "model                    0\n",
              "car_availability       542\n",
              "total_owners             0\n",
              "car_rating               7\n",
              "ad_created_on            1\n",
              "fitness_certificate      8\n",
              "booking_down_pymnt       0\n",
              "reserved                 0\n",
              "warranty_avail           0\n",
              "dtype: int64"
            ]
          },
          "metadata": {},
          "execution_count": 23
        }
      ]
    },
    {
      "cell_type": "code",
      "source": [
        "df1.shape"
      ],
      "metadata": {
        "colab": {
          "base_uri": "https://localhost:8080/"
        },
        "id": "QZYAiOI1CToN",
        "outputId": "61ce4485-b31c-4130-809b-e80b2e2ddbc2"
      },
      "execution_count": null,
      "outputs": [
        {
          "output_type": "execute_result",
          "data": {
            "text/plain": [
              "(6399, 26)"
            ]
          },
          "metadata": {},
          "execution_count": 24
        }
      ]
    },
    {
      "cell_type": "code",
      "source": [
        "df1.info()"
      ],
      "metadata": {
        "colab": {
          "base_uri": "https://localhost:8080/"
        },
        "id": "Zqbzh_srCVhb",
        "outputId": "043077d9-e3e4-40a5-8366-da4dacc324a3"
      },
      "execution_count": null,
      "outputs": [
        {
          "output_type": "stream",
          "name": "stdout",
          "text": [
            "<class 'pandas.core.frame.DataFrame'>\n",
            "RangeIndex: 6399 entries, 0 to 6398\n",
            "Data columns (total 26 columns):\n",
            " #   Column               Non-Null Count  Dtype \n",
            "---  ------               --------------  ----- \n",
            " 0   car_name             6399 non-null   object\n",
            " 1   yr_mfr               6399 non-null   int64 \n",
            " 2   fuel_type            6399 non-null   object\n",
            " 3   kms_run              6399 non-null   int64 \n",
            " 4   sale_price           6399 non-null   int64 \n",
            " 5   city                 6399 non-null   object\n",
            " 6   times_viewed         6399 non-null   int64 \n",
            " 7   body_type            6309 non-null   object\n",
            " 8   transmission         5925 non-null   object\n",
            " 9   variant              6399 non-null   object\n",
            " 10  assured_buy          6399 non-null   bool  \n",
            " 11  registered_city      6391 non-null   object\n",
            " 12  registered_state     6391 non-null   object\n",
            " 13  is_hot               6399 non-null   bool  \n",
            " 14  rto                  6399 non-null   object\n",
            " 15  source               6285 non-null   object\n",
            " 16  make                 6399 non-null   object\n",
            " 17  model                6399 non-null   object\n",
            " 18  car_availability     5857 non-null   object\n",
            " 19  total_owners         6399 non-null   int64 \n",
            " 20  car_rating           6392 non-null   object\n",
            " 21  ad_created_on        6398 non-null   object\n",
            " 22  fitness_certificate  6391 non-null   object\n",
            " 23  booking_down_pymnt   6399 non-null   int64 \n",
            " 24  reserved             6399 non-null   bool  \n",
            " 25  warranty_avail       6399 non-null   bool  \n",
            "dtypes: bool(4), int64(6), object(16)\n",
            "memory usage: 1.1+ MB\n"
          ]
        }
      ]
    },
    {
      "cell_type": "markdown",
      "source": [
        "Handling Misssing Values"
      ],
      "metadata": {
        "id": "5IA9A-99CZDy"
      }
    },
    {
      "cell_type": "code",
      "source": [
        "df1.dtypes"
      ],
      "metadata": {
        "colab": {
          "base_uri": "https://localhost:8080/"
        },
        "id": "8p7lYGHRCbPN",
        "outputId": "9ee19504-0154-4a48-b8cf-76d65a09ee8a"
      },
      "execution_count": null,
      "outputs": [
        {
          "output_type": "execute_result",
          "data": {
            "text/plain": [
              "car_name               object\n",
              "yr_mfr                  int64\n",
              "fuel_type              object\n",
              "kms_run                 int64\n",
              "sale_price              int64\n",
              "city                   object\n",
              "times_viewed            int64\n",
              "body_type              object\n",
              "transmission           object\n",
              "variant                object\n",
              "assured_buy              bool\n",
              "registered_city        object\n",
              "registered_state       object\n",
              "is_hot                   bool\n",
              "rto                    object\n",
              "source                 object\n",
              "make                   object\n",
              "model                  object\n",
              "car_availability       object\n",
              "total_owners            int64\n",
              "car_rating             object\n",
              "ad_created_on          object\n",
              "fitness_certificate    object\n",
              "booking_down_pymnt      int64\n",
              "reserved                 bool\n",
              "warranty_avail           bool\n",
              "dtype: object"
            ]
          },
          "metadata": {},
          "execution_count": 26
        }
      ]
    },
    {
      "cell_type": "markdown",
      "source": [
        "I am replacing object type column missing values with their mode and numeric type columns with their mean"
      ],
      "metadata": {
        "id": "paFJ8jVFCvVz"
      }
    },
    {
      "cell_type": "code",
      "source": [
        "category_columns=df1.select_dtypes(include=['object']).columns.tolist()\n",
        "integer_columns=df1.select_dtypes(include=['int64','float64']).columns.tolist()\n",
        "\n",
        "for column in df1:\n",
        "    if df1[column].isnull().any():\n",
        "        if(column in category_columns):\n",
        "            df1[column]=df1[column].fillna(df1[column].mode()[0])\n",
        "        else:\n",
        "            df1[column]=df1[column].fillna(df1[column].mean)"
      ],
      "metadata": {
        "id": "6-3n57kgCxL7"
      },
      "execution_count": null,
      "outputs": []
    },
    {
      "cell_type": "code",
      "source": [
        "df1.head()"
      ],
      "metadata": {
        "colab": {
          "base_uri": "https://localhost:8080/",
          "height": 386
        },
        "id": "9407yUtNC1pD",
        "outputId": "d543f4d9-5855-4d8c-838a-43a25da3cf0f"
      },
      "execution_count": null,
      "outputs": [
        {
          "output_type": "execute_result",
          "data": {
            "text/plain": [
              "            car_name  yr_mfr fuel_type  kms_run  sale_price   city  \\\n",
              "0       maruti swift    2015    petrol     8063      386399  noida   \n",
              "1    maruti alto 800    2016    petrol    23104      265499  noida   \n",
              "2  hyundai grand i10    2017    petrol    23402      477699  noida   \n",
              "3       maruti swift    2013    diesel    39124      307999  noida   \n",
              "4  hyundai grand i10    2015    petrol    22116      361499  noida   \n",
              "\n",
              "   times_viewed  body_type transmission          variant  ...     make  \\\n",
              "0         18715  hatchback       manual          lxi opt  ...   maruti   \n",
              "1          2676  hatchback       manual              lxi  ...   maruti   \n",
              "2           609  hatchback       manual  sports 1.2 vtvt  ...  hyundai   \n",
              "3          6511  hatchback       manual              vdi  ...   maruti   \n",
              "4          3225  hatchback       manual   magna 1.2 vtvt  ...  hyundai   \n",
              "\n",
              "       model car_availability  total_owners car_rating  \\\n",
              "0      swift         in_stock             2      great   \n",
              "1   alto 800         in_stock             1      great   \n",
              "2  grand i10         in_stock             1      great   \n",
              "3      swift         in_stock             1      great   \n",
              "4  grand i10         in_stock             1      great   \n",
              "\n",
              "             ad_created_on fitness_certificate booking_down_pymnt reserved  \\\n",
              "0  2021-04-04T07:09:18.583                True              57960    False   \n",
              "1  2021-03-22T14:07:32.833                True              39825    False   \n",
              "2  2021-03-20T05:36:31.311                True              71655    False   \n",
              "3  2021-01-21T12:59:19.299                True              46200    False   \n",
              "4  2021-04-01T13:33:40.733                True              54225    False   \n",
              "\n",
              "   warranty_avail  \n",
              "0           False  \n",
              "1           False  \n",
              "2           False  \n",
              "3           False  \n",
              "4           False  \n",
              "\n",
              "[5 rows x 26 columns]"
            ],
            "text/html": [
              "\n",
              "  <div id=\"df-403616dc-0f44-4e01-be0c-5a2afb7ba724\">\n",
              "    <div class=\"colab-df-container\">\n",
              "      <div>\n",
              "<style scoped>\n",
              "    .dataframe tbody tr th:only-of-type {\n",
              "        vertical-align: middle;\n",
              "    }\n",
              "\n",
              "    .dataframe tbody tr th {\n",
              "        vertical-align: top;\n",
              "    }\n",
              "\n",
              "    .dataframe thead th {\n",
              "        text-align: right;\n",
              "    }\n",
              "</style>\n",
              "<table border=\"1\" class=\"dataframe\">\n",
              "  <thead>\n",
              "    <tr style=\"text-align: right;\">\n",
              "      <th></th>\n",
              "      <th>car_name</th>\n",
              "      <th>yr_mfr</th>\n",
              "      <th>fuel_type</th>\n",
              "      <th>kms_run</th>\n",
              "      <th>sale_price</th>\n",
              "      <th>city</th>\n",
              "      <th>times_viewed</th>\n",
              "      <th>body_type</th>\n",
              "      <th>transmission</th>\n",
              "      <th>variant</th>\n",
              "      <th>...</th>\n",
              "      <th>make</th>\n",
              "      <th>model</th>\n",
              "      <th>car_availability</th>\n",
              "      <th>total_owners</th>\n",
              "      <th>car_rating</th>\n",
              "      <th>ad_created_on</th>\n",
              "      <th>fitness_certificate</th>\n",
              "      <th>booking_down_pymnt</th>\n",
              "      <th>reserved</th>\n",
              "      <th>warranty_avail</th>\n",
              "    </tr>\n",
              "  </thead>\n",
              "  <tbody>\n",
              "    <tr>\n",
              "      <th>0</th>\n",
              "      <td>maruti swift</td>\n",
              "      <td>2015</td>\n",
              "      <td>petrol</td>\n",
              "      <td>8063</td>\n",
              "      <td>386399</td>\n",
              "      <td>noida</td>\n",
              "      <td>18715</td>\n",
              "      <td>hatchback</td>\n",
              "      <td>manual</td>\n",
              "      <td>lxi opt</td>\n",
              "      <td>...</td>\n",
              "      <td>maruti</td>\n",
              "      <td>swift</td>\n",
              "      <td>in_stock</td>\n",
              "      <td>2</td>\n",
              "      <td>great</td>\n",
              "      <td>2021-04-04T07:09:18.583</td>\n",
              "      <td>True</td>\n",
              "      <td>57960</td>\n",
              "      <td>False</td>\n",
              "      <td>False</td>\n",
              "    </tr>\n",
              "    <tr>\n",
              "      <th>1</th>\n",
              "      <td>maruti alto 800</td>\n",
              "      <td>2016</td>\n",
              "      <td>petrol</td>\n",
              "      <td>23104</td>\n",
              "      <td>265499</td>\n",
              "      <td>noida</td>\n",
              "      <td>2676</td>\n",
              "      <td>hatchback</td>\n",
              "      <td>manual</td>\n",
              "      <td>lxi</td>\n",
              "      <td>...</td>\n",
              "      <td>maruti</td>\n",
              "      <td>alto 800</td>\n",
              "      <td>in_stock</td>\n",
              "      <td>1</td>\n",
              "      <td>great</td>\n",
              "      <td>2021-03-22T14:07:32.833</td>\n",
              "      <td>True</td>\n",
              "      <td>39825</td>\n",
              "      <td>False</td>\n",
              "      <td>False</td>\n",
              "    </tr>\n",
              "    <tr>\n",
              "      <th>2</th>\n",
              "      <td>hyundai grand i10</td>\n",
              "      <td>2017</td>\n",
              "      <td>petrol</td>\n",
              "      <td>23402</td>\n",
              "      <td>477699</td>\n",
              "      <td>noida</td>\n",
              "      <td>609</td>\n",
              "      <td>hatchback</td>\n",
              "      <td>manual</td>\n",
              "      <td>sports 1.2 vtvt</td>\n",
              "      <td>...</td>\n",
              "      <td>hyundai</td>\n",
              "      <td>grand i10</td>\n",
              "      <td>in_stock</td>\n",
              "      <td>1</td>\n",
              "      <td>great</td>\n",
              "      <td>2021-03-20T05:36:31.311</td>\n",
              "      <td>True</td>\n",
              "      <td>71655</td>\n",
              "      <td>False</td>\n",
              "      <td>False</td>\n",
              "    </tr>\n",
              "    <tr>\n",
              "      <th>3</th>\n",
              "      <td>maruti swift</td>\n",
              "      <td>2013</td>\n",
              "      <td>diesel</td>\n",
              "      <td>39124</td>\n",
              "      <td>307999</td>\n",
              "      <td>noida</td>\n",
              "      <td>6511</td>\n",
              "      <td>hatchback</td>\n",
              "      <td>manual</td>\n",
              "      <td>vdi</td>\n",
              "      <td>...</td>\n",
              "      <td>maruti</td>\n",
              "      <td>swift</td>\n",
              "      <td>in_stock</td>\n",
              "      <td>1</td>\n",
              "      <td>great</td>\n",
              "      <td>2021-01-21T12:59:19.299</td>\n",
              "      <td>True</td>\n",
              "      <td>46200</td>\n",
              "      <td>False</td>\n",
              "      <td>False</td>\n",
              "    </tr>\n",
              "    <tr>\n",
              "      <th>4</th>\n",
              "      <td>hyundai grand i10</td>\n",
              "      <td>2015</td>\n",
              "      <td>petrol</td>\n",
              "      <td>22116</td>\n",
              "      <td>361499</td>\n",
              "      <td>noida</td>\n",
              "      <td>3225</td>\n",
              "      <td>hatchback</td>\n",
              "      <td>manual</td>\n",
              "      <td>magna 1.2 vtvt</td>\n",
              "      <td>...</td>\n",
              "      <td>hyundai</td>\n",
              "      <td>grand i10</td>\n",
              "      <td>in_stock</td>\n",
              "      <td>1</td>\n",
              "      <td>great</td>\n",
              "      <td>2021-04-01T13:33:40.733</td>\n",
              "      <td>True</td>\n",
              "      <td>54225</td>\n",
              "      <td>False</td>\n",
              "      <td>False</td>\n",
              "    </tr>\n",
              "  </tbody>\n",
              "</table>\n",
              "<p>5 rows × 26 columns</p>\n",
              "</div>\n",
              "      <button class=\"colab-df-convert\" onclick=\"convertToInteractive('df-403616dc-0f44-4e01-be0c-5a2afb7ba724')\"\n",
              "              title=\"Convert this dataframe to an interactive table.\"\n",
              "              style=\"display:none;\">\n",
              "        \n",
              "  <svg xmlns=\"http://www.w3.org/2000/svg\" height=\"24px\"viewBox=\"0 0 24 24\"\n",
              "       width=\"24px\">\n",
              "    <path d=\"M0 0h24v24H0V0z\" fill=\"none\"/>\n",
              "    <path d=\"M18.56 5.44l.94 2.06.94-2.06 2.06-.94-2.06-.94-.94-2.06-.94 2.06-2.06.94zm-11 1L8.5 8.5l.94-2.06 2.06-.94-2.06-.94L8.5 2.5l-.94 2.06-2.06.94zm10 10l.94 2.06.94-2.06 2.06-.94-2.06-.94-.94-2.06-.94 2.06-2.06.94z\"/><path d=\"M17.41 7.96l-1.37-1.37c-.4-.4-.92-.59-1.43-.59-.52 0-1.04.2-1.43.59L10.3 9.45l-7.72 7.72c-.78.78-.78 2.05 0 2.83L4 21.41c.39.39.9.59 1.41.59.51 0 1.02-.2 1.41-.59l7.78-7.78 2.81-2.81c.8-.78.8-2.07 0-2.86zM5.41 20L4 18.59l7.72-7.72 1.47 1.35L5.41 20z\"/>\n",
              "  </svg>\n",
              "      </button>\n",
              "      \n",
              "  <style>\n",
              "    .colab-df-container {\n",
              "      display:flex;\n",
              "      flex-wrap:wrap;\n",
              "      gap: 12px;\n",
              "    }\n",
              "\n",
              "    .colab-df-convert {\n",
              "      background-color: #E8F0FE;\n",
              "      border: none;\n",
              "      border-radius: 50%;\n",
              "      cursor: pointer;\n",
              "      display: none;\n",
              "      fill: #1967D2;\n",
              "      height: 32px;\n",
              "      padding: 0 0 0 0;\n",
              "      width: 32px;\n",
              "    }\n",
              "\n",
              "    .colab-df-convert:hover {\n",
              "      background-color: #E2EBFA;\n",
              "      box-shadow: 0px 1px 2px rgba(60, 64, 67, 0.3), 0px 1px 3px 1px rgba(60, 64, 67, 0.15);\n",
              "      fill: #174EA6;\n",
              "    }\n",
              "\n",
              "    [theme=dark] .colab-df-convert {\n",
              "      background-color: #3B4455;\n",
              "      fill: #D2E3FC;\n",
              "    }\n",
              "\n",
              "    [theme=dark] .colab-df-convert:hover {\n",
              "      background-color: #434B5C;\n",
              "      box-shadow: 0px 1px 3px 1px rgba(0, 0, 0, 0.15);\n",
              "      filter: drop-shadow(0px 1px 2px rgba(0, 0, 0, 0.3));\n",
              "      fill: #FFFFFF;\n",
              "    }\n",
              "  </style>\n",
              "\n",
              "      <script>\n",
              "        const buttonEl =\n",
              "          document.querySelector('#df-403616dc-0f44-4e01-be0c-5a2afb7ba724 button.colab-df-convert');\n",
              "        buttonEl.style.display =\n",
              "          google.colab.kernel.accessAllowed ? 'block' : 'none';\n",
              "\n",
              "        async function convertToInteractive(key) {\n",
              "          const element = document.querySelector('#df-403616dc-0f44-4e01-be0c-5a2afb7ba724');\n",
              "          const dataTable =\n",
              "            await google.colab.kernel.invokeFunction('convertToInteractive',\n",
              "                                                     [key], {});\n",
              "          if (!dataTable) return;\n",
              "\n",
              "          const docLinkHtml = 'Like what you see? Visit the ' +\n",
              "            '<a target=\"_blank\" href=https://colab.research.google.com/notebooks/data_table.ipynb>data table notebook</a>'\n",
              "            + ' to learn more about interactive tables.';\n",
              "          element.innerHTML = '';\n",
              "          dataTable['output_type'] = 'display_data';\n",
              "          await google.colab.output.renderOutput(dataTable, element);\n",
              "          const docLink = document.createElement('div');\n",
              "          docLink.innerHTML = docLinkHtml;\n",
              "          element.appendChild(docLink);\n",
              "        }\n",
              "      </script>\n",
              "    </div>\n",
              "  </div>\n",
              "  "
            ]
          },
          "metadata": {},
          "execution_count": 28
        }
      ]
    },
    {
      "cell_type": "code",
      "source": [
        "df1.isnull().sum()"
      ],
      "metadata": {
        "colab": {
          "base_uri": "https://localhost:8080/"
        },
        "id": "1CNAIu1mC4JU",
        "outputId": "91b76a4e-744a-453f-d8f2-cc61936f3df3"
      },
      "execution_count": null,
      "outputs": [
        {
          "output_type": "execute_result",
          "data": {
            "text/plain": [
              "car_name               0\n",
              "yr_mfr                 0\n",
              "fuel_type              0\n",
              "kms_run                0\n",
              "sale_price             0\n",
              "city                   0\n",
              "times_viewed           0\n",
              "body_type              0\n",
              "transmission           0\n",
              "variant                0\n",
              "assured_buy            0\n",
              "registered_city        0\n",
              "registered_state       0\n",
              "is_hot                 0\n",
              "rto                    0\n",
              "source                 0\n",
              "make                   0\n",
              "model                  0\n",
              "car_availability       0\n",
              "total_owners           0\n",
              "car_rating             0\n",
              "ad_created_on          0\n",
              "fitness_certificate    0\n",
              "booking_down_pymnt     0\n",
              "reserved               0\n",
              "warranty_avail         0\n",
              "dtype: int64"
            ]
          },
          "metadata": {},
          "execution_count": 29
        }
      ]
    },
    {
      "cell_type": "code",
      "source": [
        "sns.heatmap(df1.isnull(),yticklabels=False,cbar=False,cmap='YlGnBu')\n"
      ],
      "metadata": {
        "colab": {
          "base_uri": "https://localhost:8080/",
          "height": 395
        },
        "id": "vBxw-A9jC7xo",
        "outputId": "76b096fd-00e1-4463-b64e-da47efde46f8"
      },
      "execution_count": null,
      "outputs": [
        {
          "output_type": "execute_result",
          "data": {
            "text/plain": [
              "<matplotlib.axes._subplots.AxesSubplot at 0x7f4eeac87690>"
            ]
          },
          "metadata": {},
          "execution_count": 30
        },
        {
          "output_type": "display_data",
          "data": {
            "text/plain": [
              "<Figure size 432x288 with 1 Axes>"
            ],
            "image/png": "[encoded data removed]"
          },
          "metadata": {
            "needs_background": "light"
          }
        }
      ]
    },
    {
      "cell_type": "code",
      "source": [
        "df1.describe(include='object') #description about categorical data\n"
      ],
      "metadata": {
        "colab": {
          "base_uri": "https://localhost:8080/",
          "height": 256
        },
        "id": "__NPQVeDGgoP",
        "outputId": "869bb135-3325-4b64-cdd6-e6292a241e78"
      },
      "execution_count": null,
      "outputs": [
        {
          "output_type": "execute_result",
          "data": {
            "text/plain": [
              "            car_name fuel_type    city  body_type transmission variant  \\\n",
              "count           6399      6399    6399       6399         6399    6399   \n",
              "unique           182         5      13          5            2     873   \n",
              "top     maruti swift    petrol  mumbai  hatchback       manual     vxi   \n",
              "freq             478      4001    1144       3888         5855     573   \n",
              "\n",
              "       registered_city registered_state   rto         source    make  model  \\\n",
              "count             6399             6399  6399           6399    6399   6399   \n",
              "unique             230               16   255              3      26    182   \n",
              "top              delhi      maharashtra  mh12  inperson_sale  maruti  swift   \n",
              "freq               840             1820   331           6018    2756    478   \n",
              "\n",
              "       car_availability car_rating            ad_created_on  \n",
              "count              6399       6399                     6399  \n",
              "unique                4          4                     6398  \n",
              "top            in_stock      great  2019-02-20T14:13:30.464  \n",
              "freq               6146       5454                        2  "
            ],
            "text/html": [
              "\n",
              "  <div id=\"df-64cf706b-ec98-4070-aaac-b9353c995960\">\n",
              "    <div class=\"colab-df-container\">\n",
              "      <div>\n",
              "<style scoped>\n",
              "    .dataframe tbody tr th:only-of-type {\n",
              "        vertical-align: middle;\n",
              "    }\n",
              "\n",
              "    .dataframe tbody tr th {\n",
              "        vertical-align: top;\n",
              "    }\n",
              "\n",
              "    .dataframe thead th {\n",
              "        text-align: right;\n",
              "    }\n",
              "</style>\n",
              "<table border=\"1\" class=\"dataframe\">\n",
              "  <thead>\n",
              "    <tr style=\"text-align: right;\">\n",
              "      <th></th>\n",
              "      <th>car_name</th>\n",
              "      <th>fuel_type</th>\n",
              "      <th>city</th>\n",
              "      <th>body_type</th>\n",
              "      <th>transmission</th>\n",
              "      <th>variant</th>\n",
              "      <th>registered_city</th>\n",
              "      <th>registered_state</th>\n",
              "      <th>rto</th>\n",
              "      <th>source</th>\n",
              "      <th>make</th>\n",
              "      <th>model</th>\n",
              "      <th>car_availability</th>\n",
              "      <th>car_rating</th>\n",
              "      <th>ad_created_on</th>\n",
              "    </tr>\n",
              "  </thead>\n",
              "  <tbody>\n",
              "    <tr>\n",
              "      <th>count</th>\n",
              "      <td>6399</td>\n",
              "      <td>6399</td>\n",
              "      <td>6399</td>\n",
              "      <td>6399</td>\n",
              "      <td>6399</td>\n",
              "      <td>6399</td>\n",
              "      <td>6399</td>\n",
              "      <td>6399</td>\n",
              "      <td>6399</td>\n",
              "      <td>6399</td>\n",
              "      <td>6399</td>\n",
              "      <td>6399</td>\n",
              "      <td>6399</td>\n",
              "      <td>6399</td>\n",
              "      <td>6399</td>\n",
              "    </tr>\n",
              "    <tr>\n",
              "      <th>unique</th>\n",
              "      <td>182</td>\n",
              "      <td>5</td>\n",
              "      <td>13</td>\n",
              "      <td>5</td>\n",
              "      <td>2</td>\n",
              "      <td>873</td>\n",
              "      <td>230</td>\n",
              "      <td>16</td>\n",
              "      <td>255</td>\n",
              "      <td>3</td>\n",
              "      <td>26</td>\n",
              "      <td>182</td>\n",
              "      <td>4</td>\n",
              "      <td>4</td>\n",
              "      <td>6398</td>\n",
              "    </tr>\n",
              "    <tr>\n",
              "      <th>top</th>\n",
              "      <td>maruti swift</td>\n",
              "      <td>petrol</td>\n",
              "      <td>mumbai</td>\n",
              "      <td>hatchback</td>\n",
              "      <td>manual</td>\n",
              "      <td>vxi</td>\n",
              "      <td>delhi</td>\n",
              "      <td>maharashtra</td>\n",
              "      <td>mh12</td>\n",
              "      <td>inperson_sale</td>\n",
              "      <td>maruti</td>\n",
              "      <td>swift</td>\n",
              "      <td>in_stock</td>\n",
              "      <td>great</td>\n",
              "      <td>2019-02-20T14:13:30.464</td>\n",
              "    </tr>\n",
              "    <tr>\n",
              "      <th>freq</th>\n",
              "      <td>478</td>\n",
              "      <td>4001</td>\n",
              "      <td>1144</td>\n",
              "      <td>3888</td>\n",
              "      <td>5855</td>\n",
              "      <td>573</td>\n",
              "      <td>840</td>\n",
              "      <td>1820</td>\n",
              "      <td>331</td>\n",
              "      <td>6018</td>\n",
              "      <td>2756</td>\n",
              "      <td>478</td>\n",
              "      <td>6146</td>\n",
              "      <td>5454</td>\n",
              "      <td>2</td>\n",
              "    </tr>\n",
              "  </tbody>\n",
              "</table>\n",
              "</div>\n",
              "      <button class=\"colab-df-convert\" onclick=\"convertToInteractive('df-64cf706b-ec98-4070-aaac-b9353c995960')\"\n",
              "              title=\"Convert this dataframe to an interactive table.\"\n",
              "              style=\"display:none;\">\n",
              "        \n",
              "  <svg xmlns=\"http://www.w3.org/2000/svg\" height=\"24px\"viewBox=\"0 0 24 24\"\n",
              "       width=\"24px\">\n",
              "    <path d=\"M0 0h24v24H0V0z\" fill=\"none\"/>\n",
              "    <path d=\"M18.56 5.44l.94 2.06.94-2.06 2.06-.94-2.06-.94-.94-2.06-.94 2.06-2.06.94zm-11 1L8.5 8.5l.94-2.06 2.06-.94-2.06-.94L8.5 2.5l-.94 2.06-2.06.94zm10 10l.94 2.06.94-2.06 2.06-.94-2.06-.94-.94-2.06-.94 2.06-2.06.94z\"/><path d=\"M17.41 7.96l-1.37-1.37c-.4-.4-.92-.59-1.43-.59-.52 0-1.04.2-1.43.59L10.3 9.45l-7.72 7.72c-.78.78-.78 2.05 0 2.83L4 21.41c.39.39.9.59 1.41.59.51 0 1.02-.2 1.41-.59l7.78-7.78 2.81-2.81c.8-.78.8-2.07 0-2.86zM5.41 20L4 18.59l7.72-7.72 1.47 1.35L5.41 20z\"/>\n",
              "  </svg>\n",
              "      </button>\n",
              "      \n",
              "  <style>\n",
              "    .colab-df-container {\n",
              "      display:flex;\n",
              "      flex-wrap:wrap;\n",
              "      gap: 12px;\n",
              "    }\n",
              "\n",
              "    .colab-df-convert {\n",
              "      background-color: #E8F0FE;\n",
              "      border: none;\n",
              "      border-radius: 50%;\n",
              "      cursor: pointer;\n",
              "      display: none;\n",
              "      fill: #1967D2;\n",
              "      height: 32px;\n",
              "      padding: 0 0 0 0;\n",
              "      width: 32px;\n",
              "    }\n",
              "\n",
              "    .colab-df-convert:hover {\n",
              "      background-color: #E2EBFA;\n",
              "      box-shadow: 0px 1px 2px rgba(60, 64, 67, 0.3), 0px 1px 3px 1px rgba(60, 64, 67, 0.15);\n",
              "      fill: #174EA6;\n",
              "    }\n",
              "\n",
              "    [theme=dark] .colab-df-convert {\n",
              "      background-color: #3B4455;\n",
              "      fill: #D2E3FC;\n",
              "    }\n",
              "\n",
              "    [theme=dark] .colab-df-convert:hover {\n",
              "      background-color: #434B5C;\n",
              "      box-shadow: 0px 1px 3px 1px rgba(0, 0, 0, 0.15);\n",
              "      filter: drop-shadow(0px 1px 2px rgba(0, 0, 0, 0.3));\n",
              "      fill: #FFFFFF;\n",
              "    }\n",
              "  </style>\n",
              "\n",
              "      <script>\n",
              "        const buttonEl =\n",
              "          document.querySelector('#df-64cf706b-ec98-4070-aaac-b9353c995960 button.colab-df-convert');\n",
              "        buttonEl.style.display =\n",
              "          google.colab.kernel.accessAllowed ? 'block' : 'none';\n",
              "\n",
              "        async function convertToInteractive(key) {\n",
              "          const element = document.querySelector('#df-64cf706b-ec98-4070-aaac-b9353c995960');\n",
              "          const dataTable =\n",
              "            await google.colab.kernel.invokeFunction('convertToInteractive',\n",
              "                                                     [key], {});\n",
              "          if (!dataTable) return;\n",
              "\n",
              "          const docLinkHtml = 'Like what you see? Visit the ' +\n",
              "            '<a target=\"_blank\" href=https://colab.research.google.com/notebooks/data_table.ipynb>data table notebook</a>'\n",
              "            + ' to learn more about interactive tables.';\n",
              "          element.innerHTML = '';\n",
              "          dataTable['output_type'] = 'display_data';\n",
              "          await google.colab.output.renderOutput(dataTable, element);\n",
              "          const docLink = document.createElement('div');\n",
              "          docLink.innerHTML = docLinkHtml;\n",
              "          element.appendChild(docLink);\n",
              "        }\n",
              "      </script>\n",
              "    </div>\n",
              "  </div>\n",
              "  "
            ]
          },
          "metadata": {},
          "execution_count": 31
        }
      ]
    },
    {
      "cell_type": "markdown",
      "source": [
        "Handling Outliers"
      ],
      "metadata": {
        "id": "0TGP-JA-D_IH"
      }
    },
    {
      "cell_type": "code",
      "source": [
        "for i in integer_columns:\n",
        "  plt.figure()\n",
        "  sns.boxplot(x=df1[i])"
      ],
      "metadata": {
        "colab": {
          "base_uri": "https://localhost:8080/",
          "height": 1000
        },
        "id": "Mpg7yCkREA9F",
        "outputId": "dbbd61b6-566f-43f1-eda9-e0c2e4635a19"
      },
      "execution_count": null,
      "outputs": [
        {
          "output_type": "display_data",
          "data": {
            "text/plain": [
              "<Figure size 432x288 with 1 Axes>"
            ],
            "image/png": "[encoded data removed]"
          },
          "metadata": {
            "needs_background": "light"
          }
        },
        {
          "output_type": "display_data",
          "data": {
            "text/plain": [
              "<Figure size 432x288 with 1 Axes>"
            ],
            "image/png": "[encoded data removed]"
          },
          "metadata": {
            "needs_background": "light"
          }
        },
        {
          "output_type": "display_data",
          "data": {
            "text/plain": [
              "<Figure size 432x288 with 1 Axes>"
            ],
            "image/png": "[encoded data removed]"
          },
          "metadata": {
            "needs_background": "light"
          }
        },
        {
          "output_type": "display_data",
          "data": {
            "text/plain": [
              "<Figure size 432x288 with 1 Axes>"
            ],
            "image/png": "[encoded data removed]"
          },
          "metadata": {
            "needs_background": "light"
          }
        },
        {
          "output_type": "display_data",
          "data": {
            "text/plain": [
              "<Figure size 432x288 with 1 Axes>"
            ],
            "image/png": "[encoded data removed]"
          },
          "metadata": {
            "needs_background": "light"
          }
        },
        {
          "output_type": "display_data",
          "data": {
            "text/plain": [
              "<Figure size 432x288 with 1 Axes>"
            ],
            "image/png": "[encoded data removed]"
          },
          "metadata": {
            "needs_background": "light"
          }
        }
      ]
    },
    {
      "cell_type": "markdown",
      "source": [
        "We can observe from above box plots that we have to handle outliers in kms_run,sale_price and times_viewed column .\n",
        "\n",
        "As sales_price and booking_down_payment are highly correlated handling one column will reflect on another"
      ],
      "metadata": {
        "id": "-xRiVy9pEH-x"
      }
    },
    {
      "cell_type": "markdown",
      "source": [
        "Taking kms_run upto max value\n",
        "\n"
      ],
      "metadata": {
        "id": "pxWVzBF1EIxT"
      }
    },
    {
      "cell_type": "code",
      "source": [
        "max_km=df1['kms_run'].max()\n",
        "max_km"
      ],
      "metadata": {
        "colab": {
          "base_uri": "https://localhost:8080/"
        },
        "id": "hS4zlYD3ELHO",
        "outputId": "843b910f-748b-4f82-bded-b677b1fe19b5"
      },
      "execution_count": null,
      "outputs": [
        {
          "output_type": "execute_result",
          "data": {
            "text/plain": [
              "996609"
            ]
          },
          "metadata": {},
          "execution_count": 33
        }
      ]
    },
    {
      "cell_type": "markdown",
      "source": [
        "From boxplot observations we can take times_viewed < 20000 only"
      ],
      "metadata": {
        "id": "EU5KStPhGMGv"
      }
    },
    {
      "cell_type": "code",
      "source": [
        "df1=df1[df1['times_viewed']<20000]\n",
        "df1.shape"
      ],
      "metadata": {
        "colab": {
          "base_uri": "https://localhost:8080/"
        },
        "id": "_qzbY880GPUb",
        "outputId": "eb3b06d8-4efd-423f-84bf-4af5d748975e"
      },
      "execution_count": null,
      "outputs": [
        {
          "output_type": "execute_result",
          "data": {
            "text/plain": [
              "(6392, 26)"
            ]
          },
          "metadata": {},
          "execution_count": 34
        }
      ]
    },
    {
      "cell_type": "code",
      "source": [
        "for i in integer_columns:\n",
        "  plt.figure()\n",
        "  sns.boxplot(x=df1[i])"
      ],
      "metadata": {
        "colab": {
          "base_uri": "https://localhost:8080/",
          "height": 1000
        },
        "id": "oJcoCljKP2OA",
        "outputId": "3f74c166-f00b-4cd2-b34b-42414a71f0e7"
      },
      "execution_count": null,
      "outputs": [
        {
          "output_type": "display_data",
          "data": {
            "text/plain": [
              "<Figure size 432x288 with 1 Axes>"
            ],
            "image/png": "[encoded data removed]"
          },
          "metadata": {
            "needs_background": "light"
          }
        },
        {
          "output_type": "display_data",
          "data": {
            "text/plain": [
              "<Figure size 432x288 with 1 Axes>"
            ],
            "image/png": "[encoded data removed]"
          },
          "metadata": {
            "needs_background": "light"
          }
        },
        {
          "output_type": "display_data",
          "data": {
            "text/plain": [
              "<Figure size 432x288 with 1 Axes>"
            ],
            "image/png": "[encoded data removed]"
          },
          "metadata": {
            "needs_background": "light"
          }
        },
        {
          "output_type": "display_data",
          "data": {
            "text/plain": [
              "<Figure size 432x288 with 1 Axes>"
            ],
            "image/png": "[encoded data removed]"
          },
          "metadata": {
            "needs_background": "light"
          }
        },
        {
          "output_type": "display_data",
          "data": {
            "text/plain": [
              "<Figure size 432x288 with 1 Axes>"
            ],
            "image/png": "[encoded data removed]"
          },
          "metadata": {
            "needs_background": "light"
          }
        },
        {
          "output_type": "display_data",
          "data": {
            "text/plain": [
              "<Figure size 432x288 with 1 Axes>"
            ],
            "image/png": "[encoded data removed]"
          },
          "metadata": {
            "needs_background": "light"
          }
        }
      ]
    },
    {
      "cell_type": "markdown",
      "source": [
        "Exploratory Data Analysis\n"
      ],
      "metadata": {
        "id": "QG6-YgcfQCgT"
      }
    },
    {
      "cell_type": "code",
      "source": [
        "plt.figure(figsize=(12,8))\n",
        "sns.set(rc={'axes.facecolor':'#283747','axes.grid': True,'xtick.labelsize':16})\n",
        "sns.lineplot(x='kms_run',y='sale_price',data=df1)"
      ],
      "metadata": {
        "colab": {
          "base_uri": "https://localhost:8080/",
          "height": 536
        },
        "id": "zdVNk8bgQEZK",
        "outputId": "22c78991-1155-410a-e5c5-b87ef616ec5c"
      },
      "execution_count": null,
      "outputs": [
        {
          "output_type": "execute_result",
          "data": {
            "text/plain": [
              "<matplotlib.axes._subplots.AxesSubplot at 0x7f4f01ff0f90>"
            ]
          },
          "metadata": {},
          "execution_count": 36
        },
        {
          "output_type": "display_data",
          "data": {
            "text/plain": [
              "<Figure size 864x576 with 1 Axes>"
            ],
            "image/png": "[encoded data removed]"
          },
          "metadata": {
            "needs_background": "light"
          }
        }
      ]
    },
    {
      "cell_type": "markdown",
      "source": [
        "From above graph we can say that there is not much relationship between kms_run and sale_price"
      ],
      "metadata": {
        "id": "W5Lt7Ri8QITH"
      }
    },
    {
      "cell_type": "code",
      "source": [
        "plt.figure(figsize=(12,8))\n",
        "sns.set(rc={'axes.facecolor':'white','axes.grid': True,'xtick.labelsize':16})\n",
        "sns.lineplot(x='yr_mfr',y='sale_price',data=df1,hue='transmission')"
      ],
      "metadata": {
        "colab": {
          "base_uri": "https://localhost:8080/",
          "height": 535
        },
        "id": "vdDWtYxgQIxS",
        "outputId": "f9cca4d9-5dd9-4f39-c1a2-b7db0238743c"
      },
      "execution_count": null,
      "outputs": [
        {
          "output_type": "execute_result",
          "data": {
            "text/plain": [
              "<matplotlib.axes._subplots.AxesSubplot at 0x7f4eea97d8d0>"
            ]
          },
          "metadata": {},
          "execution_count": 37
        },
        {
          "output_type": "display_data",
          "data": {
            "text/plain": [
              "<Figure size 864x576 with 1 Axes>"
            ],
            "image/png": "[encoded data removed]"
          },
          "metadata": {}
        }
      ]
    },
    {
      "cell_type": "markdown",
      "source": [
        "From the above figure we can observe the variation in prices of cars of two transmission categories in relation to their manufacturing year.\n",
        "\n"
      ],
      "metadata": {
        "id": "wH7lsF-sQfVA"
      }
    },
    {
      "cell_type": "code",
      "source": [
        "plt.figure(figsize=(12,8))\n",
        "sns.set(rc={'axes.facecolor':'white','axes.grid': False,'xtick.labelsize':16})\n",
        "sns.lineplot(x='yr_mfr',y='sale_price',data=df,hue='body_type')"
      ],
      "metadata": {
        "colab": {
          "base_uri": "https://localhost:8080/",
          "height": 535
        },
        "id": "Ncgc-tPjQf0t",
        "outputId": "82717800-967d-4878-894d-3b99b1a18398"
      },
      "execution_count": null,
      "outputs": [
        {
          "output_type": "execute_result",
          "data": {
            "text/plain": [
              "<matplotlib.axes._subplots.AxesSubplot at 0x7f4eeab7d050>"
            ]
          },
          "metadata": {},
          "execution_count": 38
        },
        {
          "output_type": "display_data",
          "data": {
            "text/plain": [
              "<Figure size 864x576 with 1 Axes>"
            ],
            "image/png": "[encoded data removed]"
          },
          "metadata": {}
        }
      ]
    },
    {
      "cell_type": "markdown",
      "source": [
        "From the above figure we can observe the variation in prices of cars of different body types in relation to their manufacturing year."
      ],
      "metadata": {
        "id": "1dQe7GgBRF1k"
      }
    },
    {
      "cell_type": "code",
      "source": [
        "plt.figure(figsize=(12,8))\n",
        "sns.set(rc={'axes.facecolor':'#283747','axes.grid': True,'xtick.labelsize':16})\n",
        "sns.barplot(df['city'],df['sale_price'])\n",
        "plt.xticks(rotation=45)"
      ],
      "metadata": {
        "colab": {
          "base_uri": "https://localhost:8080/",
          "height": 660
        },
        "id": "goJ88zB2Qwhw",
        "outputId": "ccd6cb4f-cba5-4aee-942f-b67a7a9f9faa"
      },
      "execution_count": null,
      "outputs": [
        {
          "output_type": "stream",
          "name": "stderr",
          "text": [
            "/usr/local/lib/python3.7/dist-packages/seaborn/_decorators.py:43: FutureWarning: Pass the following variables as keyword args: x, y. From version 0.12, the only valid positional argument will be `data`, and passing other arguments without an explicit keyword will result in an error or misinterpretation.\n",
            "  FutureWarning\n"
          ]
        },
        {
          "output_type": "execute_result",
          "data": {
            "text/plain": [
              "(array([ 0,  1,  2,  3,  4,  5,  6,  7,  8,  9, 10, 11, 12]),\n",
              " <a list of 13 Text major ticklabel objects>)"
            ]
          },
          "metadata": {},
          "execution_count": 39
        },
        {
          "output_type": "display_data",
          "data": {
            "text/plain": [
              "<Figure size 864x576 with 1 Axes>"
            ],
            "image/png": "[encoded data removed]"
          },
          "metadata": {}
        }
      ]
    },
    {
      "cell_type": "markdown",
      "source": [
        "Loading and Handling Test Data\n"
      ],
      "metadata": {
        "id": "KRXZlPitdSwP"
      }
    },
    {
      "cell_type": "code",
      "source": [
        "df_test=pd.read_csv('/content/Car resale-test.csv')"
      ],
      "metadata": {
        "id": "ZngH418ba_SG"
      },
      "execution_count": null,
      "outputs": []
    },
    {
      "cell_type": "code",
      "source": [
        "df_test.shape"
      ],
      "metadata": {
        "colab": {
          "base_uri": "https://localhost:8080/"
        },
        "id": "IoJ4Dnwza_Ul",
        "outputId": "17fedba5-d907-4d3c-9b7a-592809823218"
      },
      "execution_count": null,
      "outputs": [
        {
          "output_type": "execute_result",
          "data": {
            "text/plain": [
              "(1000, 30)"
            ]
          },
          "metadata": {},
          "execution_count": 41
        }
      ]
    },
    {
      "cell_type": "code",
      "source": [
        "df_test.isnull().sum()"
      ],
      "metadata": {
        "colab": {
          "base_uri": "https://localhost:8080/"
        },
        "id": "zxtwMiZIa_XO",
        "outputId": "affc5371-09cc-46d7-ff67-073ffd925cd8"
      },
      "execution_count": null,
      "outputs": [
        {
          "output_type": "execute_result",
          "data": {
            "text/plain": [
              "id                       0\n",
              "car_name                 0\n",
              "yr_mfr                   0\n",
              "fuel_type                0\n",
              "kms_run                  0\n",
              "sale_price               0\n",
              "city                     0\n",
              "times_viewed             0\n",
              "body_type               13\n",
              "transmission            82\n",
              "variant                  0\n",
              "assured_buy              0\n",
              "registered_city          2\n",
              "registered_state         2\n",
              "is_hot                   0\n",
              "rto                      0\n",
              "source                  12\n",
              "make                     0\n",
              "model                    0\n",
              "car_availability        78\n",
              "total_owners             0\n",
              "broker_quote             0\n",
              "original_price         455\n",
              "car_rating               2\n",
              "ad_created_on            0\n",
              "fitness_certificate      0\n",
              "emi_starts_from          0\n",
              "booking_down_pymnt       0\n",
              "reserved                 0\n",
              "warranty_avail           0\n",
              "dtype: int64"
            ]
          },
          "metadata": {},
          "execution_count": 42
        }
      ]
    },
    {
      "cell_type": "code",
      "source": [
        "df_test1=remove(df_test)"
      ],
      "metadata": {
        "id": "dzFoIfFza_Zd"
      },
      "execution_count": null,
      "outputs": []
    },
    {
      "cell_type": "code",
      "source": [
        "df_test1.shape"
      ],
      "metadata": {
        "colab": {
          "base_uri": "https://localhost:8080/"
        },
        "id": "aRfpfHoca_bn",
        "outputId": "1a4fcd3c-b8e6-4d5d-949e-1f3794b253a6"
      },
      "execution_count": null,
      "outputs": [
        {
          "output_type": "execute_result",
          "data": {
            "text/plain": [
              "(1000, 26)"
            ]
          },
          "metadata": {},
          "execution_count": 44
        }
      ]
    },
    {
      "cell_type": "code",
      "source": [
        "df_test1.head()"
      ],
      "metadata": {
        "colab": {
          "base_uri": "https://localhost:8080/",
          "height": 421
        },
        "id": "cYtD8Y40a_fB",
        "outputId": "4b26ad6b-aec9-4ca6-d517-ac1795536482"
      },
      "execution_count": null,
      "outputs": [
        {
          "output_type": "execute_result",
          "data": {
            "text/plain": [
              "             car_name  yr_mfr fuel_type  kms_run  sale_price       city  \\\n",
              "0  maruti swift dzire    2012    petrol    69029      364299       pune   \n",
              "1         hyundai eon    2013    petrol    45721      216799    gurgaon   \n",
              "2         honda amaze    2013    diesel    37395      387399       pune   \n",
              "3         hyundai i20    2012    petrol    37652      364699  bengaluru   \n",
              "4       hyundai creta    2017    diesel    53648     1082011    lucknow   \n",
              "\n",
              "   times_viewed  body_type transmission                variant  ...     make  \\\n",
              "0          2068      sedan       manual          vxi 1.2 bs iv  ...   maruti   \n",
              "1           903  hatchback       manual               era plus  ...  hyundai   \n",
              "2          2809      sedan       manual         1.5 smt i dtec  ...    honda   \n",
              "3          1054  hatchback       manual            magna o 1.2  ...  hyundai   \n",
              "4          2927        suv    automatic  1.6 crdi sx plus auto  ...  hyundai   \n",
              "\n",
              "         model car_availability  total_owners car_rating  \\\n",
              "0  swift dzire         in_stock             3      great   \n",
              "1          eon         in_stock             1      great   \n",
              "2        amaze         in_stock             1      great   \n",
              "3          i20       in_transit             3      great   \n",
              "4        creta         in_stock             1      great   \n",
              "\n",
              "             ad_created_on fitness_certificate booking_down_pymnt reserved  \\\n",
              "0  2021-03-16T05:00:49.555                True              54645    False   \n",
              "1  2021-03-10T12:08:11.905                True              32520    False   \n",
              "2  2021-03-15T12:03:30.041                True              58110     True   \n",
              "3  2021-04-09T11:16:26.157                True              54705     True   \n",
              "4  2021-04-01T07:24:31.712                True             162302    False   \n",
              "\n",
              "   warranty_avail  \n",
              "0           False  \n",
              "1           False  \n",
              "2           False  \n",
              "3           False  \n",
              "4           False  \n",
              "\n",
              "[5 rows x 26 columns]"
            ],
            "text/html": [
              "\n",
              "  <div id=\"df-531cfb8f-c555-4be1-8c4a-8f7eac547328\">\n",
              "    <div class=\"colab-df-container\">\n",
              "      <div>\n",
              "<style scoped>\n",
              "    .dataframe tbody tr th:only-of-type {\n",
              "        vertical-align: middle;\n",
              "    }\n",
              "\n",
              "    .dataframe tbody tr th {\n",
              "        vertical-align: top;\n",
              "    }\n",
              "\n",
              "    .dataframe thead th {\n",
              "        text-align: right;\n",
              "    }\n",
              "</style>\n",
              "<table border=\"1\" class=\"dataframe\">\n",
              "  <thead>\n",
              "    <tr style=\"text-align: right;\">\n",
              "      <th></th>\n",
              "      <th>car_name</th>\n",
              "      <th>yr_mfr</th>\n",
              "      <th>fuel_type</th>\n",
              "      <th>kms_run</th>\n",
              "      <th>sale_price</th>\n",
              "      <th>city</th>\n",
              "      <th>times_viewed</th>\n",
              "      <th>body_type</th>\n",
              "      <th>transmission</th>\n",
              "      <th>variant</th>\n",
              "      <th>...</th>\n",
              "      <th>make</th>\n",
              "      <th>model</th>\n",
              "      <th>car_availability</th>\n",
              "      <th>total_owners</th>\n",
              "      <th>car_rating</th>\n",
              "      <th>ad_created_on</th>\n",
              "      <th>fitness_certificate</th>\n",
              "      <th>booking_down_pymnt</th>\n",
              "      <th>reserved</th>\n",
              "      <th>warranty_avail</th>\n",
              "    </tr>\n",
              "  </thead>\n",
              "  <tbody>\n",
              "    <tr>\n",
              "      <th>0</th>\n",
              "      <td>maruti swift dzire</td>\n",
              "      <td>2012</td>\n",
              "      <td>petrol</td>\n",
              "      <td>69029</td>\n",
              "      <td>364299</td>\n",
              "      <td>pune</td>\n",
              "      <td>2068</td>\n",
              "      <td>sedan</td>\n",
              "      <td>manual</td>\n",
              "      <td>vxi 1.2 bs iv</td>\n",
              "      <td>...</td>\n",
              "      <td>maruti</td>\n",
              "      <td>swift dzire</td>\n",
              "      <td>in_stock</td>\n",
              "      <td>3</td>\n",
              "      <td>great</td>\n",
              "      <td>2021-03-16T05:00:49.555</td>\n",
              "      <td>True</td>\n",
              "      <td>54645</td>\n",
              "      <td>False</td>\n",
              "      <td>False</td>\n",
              "    </tr>\n",
              "    <tr>\n",
              "      <th>1</th>\n",
              "      <td>hyundai eon</td>\n",
              "      <td>2013</td>\n",
              "      <td>petrol</td>\n",
              "      <td>45721</td>\n",
              "      <td>216799</td>\n",
              "      <td>gurgaon</td>\n",
              "      <td>903</td>\n",
              "      <td>hatchback</td>\n",
              "      <td>manual</td>\n",
              "      <td>era plus</td>\n",
              "      <td>...</td>\n",
              "      <td>hyundai</td>\n",
              "      <td>eon</td>\n",
              "      <td>in_stock</td>\n",
              "      <td>1</td>\n",
              "      <td>great</td>\n",
              "      <td>2021-03-10T12:08:11.905</td>\n",
              "      <td>True</td>\n",
              "      <td>32520</td>\n",
              "      <td>False</td>\n",
              "      <td>False</td>\n",
              "    </tr>\n",
              "    <tr>\n",
              "      <th>2</th>\n",
              "      <td>honda amaze</td>\n",
              "      <td>2013</td>\n",
              "      <td>diesel</td>\n",
              "      <td>37395</td>\n",
              "      <td>387399</td>\n",
              "      <td>pune</td>\n",
              "      <td>2809</td>\n",
              "      <td>sedan</td>\n",
              "      <td>manual</td>\n",
              "      <td>1.5 smt i dtec</td>\n",
              "      <td>...</td>\n",
              "      <td>honda</td>\n",
              "      <td>amaze</td>\n",
              "      <td>in_stock</td>\n",
              "      <td>1</td>\n",
              "      <td>great</td>\n",
              "      <td>2021-03-15T12:03:30.041</td>\n",
              "      <td>True</td>\n",
              "      <td>58110</td>\n",
              "      <td>True</td>\n",
              "      <td>False</td>\n",
              "    </tr>\n",
              "    <tr>\n",
              "      <th>3</th>\n",
              "      <td>hyundai i20</td>\n",
              "      <td>2012</td>\n",
              "      <td>petrol</td>\n",
              "      <td>37652</td>\n",
              "      <td>364699</td>\n",
              "      <td>bengaluru</td>\n",
              "      <td>1054</td>\n",
              "      <td>hatchback</td>\n",
              "      <td>manual</td>\n",
              "      <td>magna o 1.2</td>\n",
              "      <td>...</td>\n",
              "      <td>hyundai</td>\n",
              "      <td>i20</td>\n",
              "      <td>in_transit</td>\n",
              "      <td>3</td>\n",
              "      <td>great</td>\n",
              "      <td>2021-04-09T11:16:26.157</td>\n",
              "      <td>True</td>\n",
              "      <td>54705</td>\n",
              "      <td>True</td>\n",
              "      <td>False</td>\n",
              "    </tr>\n",
              "    <tr>\n",
              "      <th>4</th>\n",
              "      <td>hyundai creta</td>\n",
              "      <td>2017</td>\n",
              "      <td>diesel</td>\n",
              "      <td>53648</td>\n",
              "      <td>1082011</td>\n",
              "      <td>lucknow</td>\n",
              "      <td>2927</td>\n",
              "      <td>suv</td>\n",
              "      <td>automatic</td>\n",
              "      <td>1.6 crdi sx plus auto</td>\n",
              "      <td>...</td>\n",
              "      <td>hyundai</td>\n",
              "      <td>creta</td>\n",
              "      <td>in_stock</td>\n",
              "      <td>1</td>\n",
              "      <td>great</td>\n",
              "      <td>2021-04-01T07:24:31.712</td>\n",
              "      <td>True</td>\n",
              "      <td>162302</td>\n",
              "      <td>False</td>\n",
              "      <td>False</td>\n",
              "    </tr>\n",
              "  </tbody>\n",
              "</table>\n",
              "<p>5 rows × 26 columns</p>\n",
              "</div>\n",
              "      <button class=\"colab-df-convert\" onclick=\"convertToInteractive('df-531cfb8f-c555-4be1-8c4a-8f7eac547328')\"\n",
              "              title=\"Convert this dataframe to an interactive table.\"\n",
              "              style=\"display:none;\">\n",
              "        \n",
              "  <svg xmlns=\"http://www.w3.org/2000/svg\" height=\"24px\"viewBox=\"0 0 24 24\"\n",
              "       width=\"24px\">\n",
              "    <path d=\"M0 0h24v24H0V0z\" fill=\"none\"/>\n",
              "    <path d=\"M18.56 5.44l.94 2.06.94-2.06 2.06-.94-2.06-.94-.94-2.06-.94 2.06-2.06.94zm-11 1L8.5 8.5l.94-2.06 2.06-.94-2.06-.94L8.5 2.5l-.94 2.06-2.06.94zm10 10l.94 2.06.94-2.06 2.06-.94-2.06-.94-.94-2.06-.94 2.06-2.06.94z\"/><path d=\"M17.41 7.96l-1.37-1.37c-.4-.4-.92-.59-1.43-.59-.52 0-1.04.2-1.43.59L10.3 9.45l-7.72 7.72c-.78.78-.78 2.05 0 2.83L4 21.41c.39.39.9.59 1.41.59.51 0 1.02-.2 1.41-.59l7.78-7.78 2.81-2.81c.8-.78.8-2.07 0-2.86zM5.41 20L4 18.59l7.72-7.72 1.47 1.35L5.41 20z\"/>\n",
              "  </svg>\n",
              "      </button>\n",
              "      \n",
              "  <style>\n",
              "    .colab-df-container {\n",
              "      display:flex;\n",
              "      flex-wrap:wrap;\n",
              "      gap: 12px;\n",
              "    }\n",
              "\n",
              "    .colab-df-convert {\n",
              "      background-color: #E8F0FE;\n",
              "      border: none;\n",
              "      border-radius: 50%;\n",
              "      cursor: pointer;\n",
              "      display: none;\n",
              "      fill: #1967D2;\n",
              "      height: 32px;\n",
              "      padding: 0 0 0 0;\n",
              "      width: 32px;\n",
              "    }\n",
              "\n",
              "    .colab-df-convert:hover {\n",
              "      background-color: #E2EBFA;\n",
              "      box-shadow: 0px 1px 2px rgba(60, 64, 67, 0.3), 0px 1px 3px 1px rgba(60, 64, 67, 0.15);\n",
              "      fill: #174EA6;\n",
              "    }\n",
              "\n",
              "    [theme=dark] .colab-df-convert {\n",
              "      background-color: #3B4455;\n",
              "      fill: #D2E3FC;\n",
              "    }\n",
              "\n",
              "    [theme=dark] .colab-df-convert:hover {\n",
              "      background-color: #434B5C;\n",
              "      box-shadow: 0px 1px 3px 1px rgba(0, 0, 0, 0.15);\n",
              "      filter: drop-shadow(0px 1px 2px rgba(0, 0, 0, 0.3));\n",
              "      fill: #FFFFFF;\n",
              "    }\n",
              "  </style>\n",
              "\n",
              "      <script>\n",
              "        const buttonEl =\n",
              "          document.querySelector('#df-531cfb8f-c555-4be1-8c4a-8f7eac547328 button.colab-df-convert');\n",
              "        buttonEl.style.display =\n",
              "          google.colab.kernel.accessAllowed ? 'block' : 'none';\n",
              "\n",
              "        async function convertToInteractive(key) {\n",
              "          const element = document.querySelector('#df-531cfb8f-c555-4be1-8c4a-8f7eac547328');\n",
              "          const dataTable =\n",
              "            await google.colab.kernel.invokeFunction('convertToInteractive',\n",
              "                                                     [key], {});\n",
              "          if (!dataTable) return;\n",
              "\n",
              "          const docLinkHtml = 'Like what you see? Visit the ' +\n",
              "            '<a target=\"_blank\" href=https://colab.research.google.com/notebooks/data_table.ipynb>data table notebook</a>'\n",
              "            + ' to learn more about interactive tables.';\n",
              "          element.innerHTML = '';\n",
              "          dataTable['output_type'] = 'display_data';\n",
              "          await google.colab.output.renderOutput(dataTable, element);\n",
              "          const docLink = document.createElement('div');\n",
              "          docLink.innerHTML = docLinkHtml;\n",
              "          element.appendChild(docLink);\n",
              "        }\n",
              "      </script>\n",
              "    </div>\n",
              "  </div>\n",
              "  "
            ]
          },
          "metadata": {},
          "execution_count": 45
        }
      ]
    },
    {
      "cell_type": "markdown",
      "source": [
        "Handling null values in test data"
      ],
      "metadata": {
        "id": "cBQ7MBYsd43c"
      }
    },
    {
      "cell_type": "code",
      "source": [
        "cateogry_columns=df_test1.select_dtypes(include=['object']).columns.tolist()\n",
        "integer_columns=df_test1.select_dtypes(include=['int64','float64']).columns.tolist()\n",
        "\n",
        "for column in df_test1:\n",
        "    if df_test1[column].isnull().any():\n",
        "        if(column in cateogry_columns):\n",
        "            df_test1[column]=df_test1[column].fillna(df_test1[column].mode()[0])\n",
        "        else:\n",
        "            df_test1[column]=df_test1[column].fillna(df_test1[column].mean)"
      ],
      "metadata": {
        "id": "qWeWTcGid1P1"
      },
      "execution_count": null,
      "outputs": []
    },
    {
      "cell_type": "code",
      "source": [
        "df_test1.isnull().sum()"
      ],
      "metadata": {
        "colab": {
          "base_uri": "https://localhost:8080/"
        },
        "id": "6o2u0w99d1VR",
        "outputId": "227cb10e-d61b-4ab4-e4f1-ea0b01739c6a"
      },
      "execution_count": null,
      "outputs": [
        {
          "output_type": "execute_result",
          "data": {
            "text/plain": [
              "car_name               0\n",
              "yr_mfr                 0\n",
              "fuel_type              0\n",
              "kms_run                0\n",
              "sale_price             0\n",
              "city                   0\n",
              "times_viewed           0\n",
              "body_type              0\n",
              "transmission           0\n",
              "variant                0\n",
              "assured_buy            0\n",
              "registered_city        0\n",
              "registered_state       0\n",
              "is_hot                 0\n",
              "rto                    0\n",
              "source                 0\n",
              "make                   0\n",
              "model                  0\n",
              "car_availability       0\n",
              "total_owners           0\n",
              "car_rating             0\n",
              "ad_created_on          0\n",
              "fitness_certificate    0\n",
              "booking_down_pymnt     0\n",
              "reserved               0\n",
              "warranty_avail         0\n",
              "dtype: int64"
            ]
          },
          "metadata": {},
          "execution_count": 47
        }
      ]
    },
    {
      "cell_type": "markdown",
      "source": [
        "Transformation for feature variables"
      ],
      "metadata": {
        "id": "ALPm9U7weD2q"
      }
    },
    {
      "cell_type": "code",
      "source": [
        "X_train=df1.drop('sale_price',axis=1)\n",
        "Y_train=df1['sale_price'].values"
      ],
      "metadata": {
        "id": "rbkVFfoQd1W6"
      },
      "execution_count": null,
      "outputs": []
    },
    {
      "cell_type": "code",
      "source": [
        "from sklearn.preprocessing import StandardScaler\n",
        "\n",
        "sc = StandardScaler()\n",
        "\n",
        "# get numeric data\n",
        "num_d = X_train.select_dtypes(exclude=['object'])\n",
        "\n",
        "# update the cols with their normalized values\n",
        "X_train[num_d.columns] = sc.fit_transform(num_d)"
      ],
      "metadata": {
        "id": "DkcgUd3ed1ZQ"
      },
      "execution_count": null,
      "outputs": []
    },
    {
      "cell_type": "code",
      "source": [
        "X_train.head()"
      ],
      "metadata": {
        "colab": {
          "base_uri": "https://localhost:8080/",
          "height": 386
        },
        "id": "PEs90kFJd1bC",
        "outputId": "3722334d-551d-4b71-b4e6-06913e7b68fb"
      },
      "execution_count": null,
      "outputs": [
        {
          "output_type": "execute_result",
          "data": {
            "text/plain": [
              "            car_name    yr_mfr fuel_type   kms_run   city  times_viewed  \\\n",
              "0       maruti swift  0.357162    petrol -1.260935  noida     10.835205   \n",
              "1    maruti alto 800  0.681081    petrol -0.911850  noida      0.741864   \n",
              "2  hyundai grand i10  1.004999    petrol -0.904934  noida     -0.558899   \n",
              "3       maruti swift -0.290675    diesel -0.540044  noida      3.155229   \n",
              "4  hyundai grand i10  0.357162    petrol -0.934781  noida      1.087349   \n",
              "\n",
              "   body_type transmission          variant  assured_buy  ...     make  \\\n",
              "0  hatchback       manual          lxi opt     0.453663  ...   maruti   \n",
              "1  hatchback       manual              lxi     0.453663  ...   maruti   \n",
              "2  hatchback       manual  sports 1.2 vtvt     0.453663  ...  hyundai   \n",
              "3  hatchback       manual              vdi     0.453663  ...   maruti   \n",
              "4  hatchback       manual   magna 1.2 vtvt    -2.204279  ...  hyundai   \n",
              "\n",
              "       model  car_availability total_owners car_rating  \\\n",
              "0      swift          in_stock     1.172341      great   \n",
              "1   alto 800          in_stock    -0.567121      great   \n",
              "2  grand i10          in_stock    -0.567121      great   \n",
              "3      swift          in_stock    -0.567121      great   \n",
              "4  grand i10          in_stock    -0.567121      great   \n",
              "\n",
              "             ad_created_on fitness_certificate booking_down_pymnt  reserved  \\\n",
              "0  2021-04-04T07:09:18.583            0.140652          -0.245634 -0.519147   \n",
              "1  2021-03-22T14:07:32.833            0.140652          -0.680913 -0.519147   \n",
              "2  2021-03-20T05:36:31.311            0.140652           0.083075 -0.519147   \n",
              "3  2021-01-21T12:59:19.299            0.140652          -0.527899 -0.519147   \n",
              "4  2021-04-01T13:33:40.733            0.140652          -0.335282 -0.519147   \n",
              "\n",
              "  warranty_avail  \n",
              "0       -0.17071  \n",
              "1       -0.17071  \n",
              "2       -0.17071  \n",
              "3       -0.17071  \n",
              "4       -0.17071  \n",
              "\n",
              "[5 rows x 25 columns]"
            ],
            "text/html": [
              "\n",
              "  <div id=\"df-a5ed58d7-c581-4997-af63-81582095b16d\">\n",
              "    <div class=\"colab-df-container\">\n",
              "      <div>\n",
              "<style scoped>\n",
              "    .dataframe tbody tr th:only-of-type {\n",
              "        vertical-align: middle;\n",
              "    }\n",
              "\n",
              "    .dataframe tbody tr th {\n",
              "        vertical-align: top;\n",
              "    }\n",
              "\n",
              "    .dataframe thead th {\n",
              "        text-align: right;\n",
              "    }\n",
              "</style>\n",
              "<table border=\"1\" class=\"dataframe\">\n",
              "  <thead>\n",
              "    <tr style=\"text-align: right;\">\n",
              "      <th></th>\n",
              "      <th>car_name</th>\n",
              "      <th>yr_mfr</th>\n",
              "      <th>fuel_type</th>\n",
              "      <th>kms_run</th>\n",
              "      <th>city</th>\n",
              "      <th>times_viewed</th>\n",
              "      <th>body_type</th>\n",
              "      <th>transmission</th>\n",
              "      <th>variant</th>\n",
              "      <th>assured_buy</th>\n",
              "      <th>...</th>\n",
              "      <th>make</th>\n",
              "      <th>model</th>\n",
              "      <th>car_availability</th>\n",
              "      <th>total_owners</th>\n",
              "      <th>car_rating</th>\n",
              "      <th>ad_created_on</th>\n",
              "      <th>fitness_certificate</th>\n",
              "      <th>booking_down_pymnt</th>\n",
              "      <th>reserved</th>\n",
              "      <th>warranty_avail</th>\n",
              "    </tr>\n",
              "  </thead>\n",
              "  <tbody>\n",
              "    <tr>\n",
              "      <th>0</th>\n",
              "      <td>maruti swift</td>\n",
              "      <td>0.357162</td>\n",
              "      <td>petrol</td>\n",
              "      <td>-1.260935</td>\n",
              "      <td>noida</td>\n",
              "      <td>10.835205</td>\n",
              "      <td>hatchback</td>\n",
              "      <td>manual</td>\n",
              "      <td>lxi opt</td>\n",
              "      <td>0.453663</td>\n",
              "      <td>...</td>\n",
              "      <td>maruti</td>\n",
              "      <td>swift</td>\n",
              "      <td>in_stock</td>\n",
              "      <td>1.172341</td>\n",
              "      <td>great</td>\n",
              "      <td>2021-04-04T07:09:18.583</td>\n",
              "      <td>0.140652</td>\n",
              "      <td>-0.245634</td>\n",
              "      <td>-0.519147</td>\n",
              "      <td>-0.17071</td>\n",
              "    </tr>\n",
              "    <tr>\n",
              "      <th>1</th>\n",
              "      <td>maruti alto 800</td>\n",
              "      <td>0.681081</td>\n",
              "      <td>petrol</td>\n",
              "      <td>-0.911850</td>\n",
              "      <td>noida</td>\n",
              "      <td>0.741864</td>\n",
              "      <td>hatchback</td>\n",
              "      <td>manual</td>\n",
              "      <td>lxi</td>\n",
              "      <td>0.453663</td>\n",
              "      <td>...</td>\n",
              "      <td>maruti</td>\n",
              "      <td>alto 800</td>\n",
              "      <td>in_stock</td>\n",
              "      <td>-0.567121</td>\n",
              "      <td>great</td>\n",
              "      <td>2021-03-22T14:07:32.833</td>\n",
              "      <td>0.140652</td>\n",
              "      <td>-0.680913</td>\n",
              "      <td>-0.519147</td>\n",
              "      <td>-0.17071</td>\n",
              "    </tr>\n",
              "    <tr>\n",
              "      <th>2</th>\n",
              "      <td>hyundai grand i10</td>\n",
              "      <td>1.004999</td>\n",
              "      <td>petrol</td>\n",
              "      <td>-0.904934</td>\n",
              "      <td>noida</td>\n",
              "      <td>-0.558899</td>\n",
              "      <td>hatchback</td>\n",
              "      <td>manual</td>\n",
              "      <td>sports 1.2 vtvt</td>\n",
              "      <td>0.453663</td>\n",
              "      <td>...</td>\n",
              "      <td>hyundai</td>\n",
              "      <td>grand i10</td>\n",
              "      <td>in_stock</td>\n",
              "      <td>-0.567121</td>\n",
              "      <td>great</td>\n",
              "      <td>2021-03-20T05:36:31.311</td>\n",
              "      <td>0.140652</td>\n",
              "      <td>0.083075</td>\n",
              "      <td>-0.519147</td>\n",
              "      <td>-0.17071</td>\n",
              "    </tr>\n",
              "    <tr>\n",
              "      <th>3</th>\n",
              "      <td>maruti swift</td>\n",
              "      <td>-0.290675</td>\n",
              "      <td>diesel</td>\n",
              "      <td>-0.540044</td>\n",
              "      <td>noida</td>\n",
              "      <td>3.155229</td>\n",
              "      <td>hatchback</td>\n",
              "      <td>manual</td>\n",
              "      <td>vdi</td>\n",
              "      <td>0.453663</td>\n",
              "      <td>...</td>\n",
              "      <td>maruti</td>\n",
              "      <td>swift</td>\n",
              "      <td>in_stock</td>\n",
              "      <td>-0.567121</td>\n",
              "      <td>great</td>\n",
              "      <td>2021-01-21T12:59:19.299</td>\n",
              "      <td>0.140652</td>\n",
              "      <td>-0.527899</td>\n",
              "      <td>-0.519147</td>\n",
              "      <td>-0.17071</td>\n",
              "    </tr>\n",
              "    <tr>\n",
              "      <th>4</th>\n",
              "      <td>hyundai grand i10</td>\n",
              "      <td>0.357162</td>\n",
              "      <td>petrol</td>\n",
              "      <td>-0.934781</td>\n",
              "      <td>noida</td>\n",
              "      <td>1.087349</td>\n",
              "      <td>hatchback</td>\n",
              "      <td>manual</td>\n",
              "      <td>magna 1.2 vtvt</td>\n",
              "      <td>-2.204279</td>\n",
              "      <td>...</td>\n",
              "      <td>hyundai</td>\n",
              "      <td>grand i10</td>\n",
              "      <td>in_stock</td>\n",
              "      <td>-0.567121</td>\n",
              "      <td>great</td>\n",
              "      <td>2021-04-01T13:33:40.733</td>\n",
              "      <td>0.140652</td>\n",
              "      <td>-0.335282</td>\n",
              "      <td>-0.519147</td>\n",
              "      <td>-0.17071</td>\n",
              "    </tr>\n",
              "  </tbody>\n",
              "</table>\n",
              "<p>5 rows × 25 columns</p>\n",
              "</div>\n",
              "      <button class=\"colab-df-convert\" onclick=\"convertToInteractive('df-a5ed58d7-c581-4997-af63-81582095b16d')\"\n",
              "              title=\"Convert this dataframe to an interactive table.\"\n",
              "              style=\"display:none;\">\n",
              "        \n",
              "  <svg xmlns=\"http://www.w3.org/2000/svg\" height=\"24px\"viewBox=\"0 0 24 24\"\n",
              "       width=\"24px\">\n",
              "    <path d=\"M0 0h24v24H0V0z\" fill=\"none\"/>\n",
              "    <path d=\"M18.56 5.44l.94 2.06.94-2.06 2.06-.94-2.06-.94-.94-2.06-.94 2.06-2.06.94zm-11 1L8.5 8.5l.94-2.06 2.06-.94-2.06-.94L8.5 2.5l-.94 2.06-2.06.94zm10 10l.94 2.06.94-2.06 2.06-.94-2.06-.94-.94-2.06-.94 2.06-2.06.94z\"/><path d=\"M17.41 7.96l-1.37-1.37c-.4-.4-.92-.59-1.43-.59-.52 0-1.04.2-1.43.59L10.3 9.45l-7.72 7.72c-.78.78-.78 2.05 0 2.83L4 21.41c.39.39.9.59 1.41.59.51 0 1.02-.2 1.41-.59l7.78-7.78 2.81-2.81c.8-.78.8-2.07 0-2.86zM5.41 20L4 18.59l7.72-7.72 1.47 1.35L5.41 20z\"/>\n",
              "  </svg>\n",
              "      </button>\n",
              "      \n",
              "  <style>\n",
              "    .colab-df-container {\n",
              "      display:flex;\n",
              "      flex-wrap:wrap;\n",
              "      gap: 12px;\n",
              "    }\n",
              "\n",
              "    .colab-df-convert {\n",
              "      background-color: #E8F0FE;\n",
              "      border: none;\n",
              "      border-radius: 50%;\n",
              "      cursor: pointer;\n",
              "      display: none;\n",
              "      fill: #1967D2;\n",
              "      height: 32px;\n",
              "      padding: 0 0 0 0;\n",
              "      width: 32px;\n",
              "    }\n",
              "\n",
              "    .colab-df-convert:hover {\n",
              "      background-color: #E2EBFA;\n",
              "      box-shadow: 0px 1px 2px rgba(60, 64, 67, 0.3), 0px 1px 3px 1px rgba(60, 64, 67, 0.15);\n",
              "      fill: #174EA6;\n",
              "    }\n",
              "\n",
              "    [theme=dark] .colab-df-convert {\n",
              "      background-color: #3B4455;\n",
              "      fill: #D2E3FC;\n",
              "    }\n",
              "\n",
              "    [theme=dark] .colab-df-convert:hover {\n",
              "      background-color: #434B5C;\n",
              "      box-shadow: 0px 1px 3px 1px rgba(0, 0, 0, 0.15);\n",
              "      filter: drop-shadow(0px 1px 2px rgba(0, 0, 0, 0.3));\n",
              "      fill: #FFFFFF;\n",
              "    }\n",
              "  </style>\n",
              "\n",
              "      <script>\n",
              "        const buttonEl =\n",
              "          document.querySelector('#df-a5ed58d7-c581-4997-af63-81582095b16d button.colab-df-convert');\n",
              "        buttonEl.style.display =\n",
              "          google.colab.kernel.accessAllowed ? 'block' : 'none';\n",
              "\n",
              "        async function convertToInteractive(key) {\n",
              "          const element = document.querySelector('#df-a5ed58d7-c581-4997-af63-81582095b16d');\n",
              "          const dataTable =\n",
              "            await google.colab.kernel.invokeFunction('convertToInteractive',\n",
              "                                                     [key], {});\n",
              "          if (!dataTable) return;\n",
              "\n",
              "          const docLinkHtml = 'Like what you see? Visit the ' +\n",
              "            '<a target=\"_blank\" href=https://colab.research.google.com/notebooks/data_table.ipynb>data table notebook</a>'\n",
              "            + ' to learn more about interactive tables.';\n",
              "          element.innerHTML = '';\n",
              "          dataTable['output_type'] = 'display_data';\n",
              "          await google.colab.output.renderOutput(dataTable, element);\n",
              "          const docLink = document.createElement('div');\n",
              "          docLink.innerHTML = docLinkHtml;\n",
              "          element.appendChild(docLink);\n",
              "        }\n",
              "      </script>\n",
              "    </div>\n",
              "  </div>\n",
              "  "
            ]
          },
          "metadata": {},
          "execution_count": 50
        }
      ]
    },
    {
      "cell_type": "code",
      "source": [
        "X_train.nunique()"
      ],
      "metadata": {
        "colab": {
          "base_uri": "https://localhost:8080/"
        },
        "id": "WycAG-d8d1dK",
        "outputId": "449147eb-c088-429f-88cb-bec8549dacf4"
      },
      "execution_count": null,
      "outputs": [
        {
          "output_type": "execute_result",
          "data": {
            "text/plain": [
              "car_name                182\n",
              "yr_mfr                   24\n",
              "fuel_type                 5\n",
              "kms_run                6236\n",
              "city                     13\n",
              "times_viewed           2947\n",
              "body_type                 5\n",
              "transmission              2\n",
              "variant                 872\n",
              "assured_buy               2\n",
              "registered_city         230\n",
              "registered_state         16\n",
              "is_hot                    2\n",
              "rto                     255\n",
              "source                    3\n",
              "make                     26\n",
              "model                   182\n",
              "car_availability          4\n",
              "total_owners              6\n",
              "car_rating                4\n",
              "ad_created_on          6391\n",
              "fitness_certificate       2\n",
              "booking_down_pymnt     4047\n",
              "reserved                  2\n",
              "warranty_avail            2\n",
              "dtype: int64"
            ]
          },
          "metadata": {},
          "execution_count": 51
        }
      ]
    },
    {
      "cell_type": "code",
      "source": [
        "# Import label encoder\n",
        "from sklearn import preprocessing\n",
        "  \n",
        "# label_encoder object knows how to understand word labels.\n",
        "label_encoder = preprocessing.LabelEncoder()\n",
        "  \n",
        "# Encode labels in categorical_column \n",
        "for i in category_columns:\n",
        "  X_train[i]= label_encoder.fit_transform(X_train[i])"
      ],
      "metadata": {
        "id": "KhZidqkVfcqC"
      },
      "execution_count": null,
      "outputs": []
    },
    {
      "cell_type": "code",
      "source": [
        "X_train.head()"
      ],
      "metadata": {
        "colab": {
          "base_uri": "https://localhost:8080/",
          "height": 300
        },
        "id": "3251ErG8fcss",
        "outputId": "fef6c576-55b6-4b60-8145-5b7aab15b332"
      },
      "execution_count": null,
      "outputs": [
        {
          "output_type": "execute_result",
          "data": {
            "text/plain": [
              "   car_name    yr_mfr  fuel_type   kms_run  city  times_viewed  body_type  \\\n",
              "0       103  0.357162          2 -1.260935    11     10.835205          0   \n",
              "1        86  0.681081          2 -0.911850    11      0.741864          0   \n",
              "2        48  1.004999          2 -0.904934    11     -0.558899          0   \n",
              "3       103 -0.290675          0 -0.540044    11      3.155229          0   \n",
              "4        48  0.357162          2 -0.934781    11      1.087349          0   \n",
              "\n",
              "   transmission  variant  assured_buy  ...  make  model  car_availability  \\\n",
              "0             1      516     0.453663  ...    13    148                 0   \n",
              "1             1      505     0.453663  ...    13     11                 0   \n",
              "2             1      614     0.453663  ...     7     71                 0   \n",
              "3             1      691     0.453663  ...    13    148                 0   \n",
              "4             1      530    -2.204279  ...     7     71                 0   \n",
              "\n",
              "   total_owners  car_rating  ad_created_on  fitness_certificate  \\\n",
              "0      1.172341           2           5196                    1   \n",
              "1     -0.567121           2           4098                    1   \n",
              "2     -0.567121           2           3809                    1   \n",
              "3     -0.567121           2           1054                    1   \n",
              "4     -0.567121           2           5028                    1   \n",
              "\n",
              "   booking_down_pymnt  reserved  warranty_avail  \n",
              "0           -0.245634 -0.519147        -0.17071  \n",
              "1           -0.680913 -0.519147        -0.17071  \n",
              "2            0.083075 -0.519147        -0.17071  \n",
              "3           -0.527899 -0.519147        -0.17071  \n",
              "4           -0.335282 -0.519147        -0.17071  \n",
              "\n",
              "[5 rows x 25 columns]"
            ],
            "text/html": [
              "\n",
              "  <div id=\"df-06d4c24e-dbe1-4789-8265-f0dc534ca201\">\n",
              "    <div class=\"colab-df-container\">\n",
              "      <div>\n",
              "<style scoped>\n",
              "    .dataframe tbody tr th:only-of-type {\n",
              "        vertical-align: middle;\n",
              "    }\n",
              "\n",
              "    .dataframe tbody tr th {\n",
              "        vertical-align: top;\n",
              "    }\n",
              "\n",
              "    .dataframe thead th {\n",
              "        text-align: right;\n",
              "    }\n",
              "</style>\n",
              "<table border=\"1\" class=\"dataframe\">\n",
              "  <thead>\n",
              "    <tr style=\"text-align: right;\">\n",
              "      <th></th>\n",
              "      <th>car_name</th>\n",
              "      <th>yr_mfr</th>\n",
              "      <th>fuel_type</th>\n",
              "      <th>kms_run</th>\n",
              "      <th>city</th>\n",
              "      <th>times_viewed</th>\n",
              "      <th>body_type</th>\n",
              "      <th>transmission</th>\n",
              "      <th>variant</th>\n",
              "      <th>assured_buy</th>\n",
              "      <th>...</th>\n",
              "      <th>make</th>\n",
              "      <th>model</th>\n",
              "      <th>car_availability</th>\n",
              "      <th>total_owners</th>\n",
              "      <th>car_rating</th>\n",
              "      <th>ad_created_on</th>\n",
              "      <th>fitness_certificate</th>\n",
              "      <th>booking_down_pymnt</th>\n",
              "      <th>reserved</th>\n",
              "      <th>warranty_avail</th>\n",
              "    </tr>\n",
              "  </thead>\n",
              "  <tbody>\n",
              "    <tr>\n",
              "      <th>0</th>\n",
              "      <td>103</td>\n",
              "      <td>0.357162</td>\n",
              "      <td>2</td>\n",
              "      <td>-1.260935</td>\n",
              "      <td>11</td>\n",
              "      <td>10.835205</td>\n",
              "      <td>0</td>\n",
              "      <td>1</td>\n",
              "      <td>516</td>\n",
              "      <td>0.453663</td>\n",
              "      <td>...</td>\n",
              "      <td>13</td>\n",
              "      <td>148</td>\n",
              "      <td>0</td>\n",
              "      <td>1.172341</td>\n",
              "      <td>2</td>\n",
              "      <td>5196</td>\n",
              "      <td>1</td>\n",
              "      <td>-0.245634</td>\n",
              "      <td>-0.519147</td>\n",
              "      <td>-0.17071</td>\n",
              "    </tr>\n",
              "    <tr>\n",
              "      <th>1</th>\n",
              "      <td>86</td>\n",
              "      <td>0.681081</td>\n",
              "      <td>2</td>\n",
              "      <td>-0.911850</td>\n",
              "      <td>11</td>\n",
              "      <td>0.741864</td>\n",
              "      <td>0</td>\n",
              "      <td>1</td>\n",
              "      <td>505</td>\n",
              "      <td>0.453663</td>\n",
              "      <td>...</td>\n",
              "      <td>13</td>\n",
              "      <td>11</td>\n",
              "      <td>0</td>\n",
              "      <td>-0.567121</td>\n",
              "      <td>2</td>\n",
              "      <td>4098</td>\n",
              "      <td>1</td>\n",
              "      <td>-0.680913</td>\n",
              "      <td>-0.519147</td>\n",
              "      <td>-0.17071</td>\n",
              "    </tr>\n",
              "    <tr>\n",
              "      <th>2</th>\n",
              "      <td>48</td>\n",
              "      <td>1.004999</td>\n",
              "      <td>2</td>\n",
              "      <td>-0.904934</td>\n",
              "      <td>11</td>\n",
              "      <td>-0.558899</td>\n",
              "      <td>0</td>\n",
              "      <td>1</td>\n",
              "      <td>614</td>\n",
              "      <td>0.453663</td>\n",
              "      <td>...</td>\n",
              "      <td>7</td>\n",
              "      <td>71</td>\n",
              "      <td>0</td>\n",
              "      <td>-0.567121</td>\n",
              "      <td>2</td>\n",
              "      <td>3809</td>\n",
              "      <td>1</td>\n",
              "      <td>0.083075</td>\n",
              "      <td>-0.519147</td>\n",
              "      <td>-0.17071</td>\n",
              "    </tr>\n",
              "    <tr>\n",
              "      <th>3</th>\n",
              "      <td>103</td>\n",
              "      <td>-0.290675</td>\n",
              "      <td>0</td>\n",
              "      <td>-0.540044</td>\n",
              "      <td>11</td>\n",
              "      <td>3.155229</td>\n",
              "      <td>0</td>\n",
              "      <td>1</td>\n",
              "      <td>691</td>\n",
              "      <td>0.453663</td>\n",
              "      <td>...</td>\n",
              "      <td>13</td>\n",
              "      <td>148</td>\n",
              "      <td>0</td>\n",
              "      <td>-0.567121</td>\n",
              "      <td>2</td>\n",
              "      <td>1054</td>\n",
              "      <td>1</td>\n",
              "      <td>-0.527899</td>\n",
              "      <td>-0.519147</td>\n",
              "      <td>-0.17071</td>\n",
              "    </tr>\n",
              "    <tr>\n",
              "      <th>4</th>\n",
              "      <td>48</td>\n",
              "      <td>0.357162</td>\n",
              "      <td>2</td>\n",
              "      <td>-0.934781</td>\n",
              "      <td>11</td>\n",
              "      <td>1.087349</td>\n",
              "      <td>0</td>\n",
              "      <td>1</td>\n",
              "      <td>530</td>\n",
              "      <td>-2.204279</td>\n",
              "      <td>...</td>\n",
              "      <td>7</td>\n",
              "      <td>71</td>\n",
              "      <td>0</td>\n",
              "      <td>-0.567121</td>\n",
              "      <td>2</td>\n",
              "      <td>5028</td>\n",
              "      <td>1</td>\n",
              "      <td>-0.335282</td>\n",
              "      <td>-0.519147</td>\n",
              "      <td>-0.17071</td>\n",
              "    </tr>\n",
              "  </tbody>\n",
              "</table>\n",
              "<p>5 rows × 25 columns</p>\n",
              "</div>\n",
              "      <button class=\"colab-df-convert\" onclick=\"convertToInteractive('df-06d4c24e-dbe1-4789-8265-f0dc534ca201')\"\n",
              "              title=\"Convert this dataframe to an interactive table.\"\n",
              "              style=\"display:none;\">\n",
              "        \n",
              "  <svg xmlns=\"http://www.w3.org/2000/svg\" height=\"24px\"viewBox=\"0 0 24 24\"\n",
              "       width=\"24px\">\n",
              "    <path d=\"M0 0h24v24H0V0z\" fill=\"none\"/>\n",
              "    <path d=\"M18.56 5.44l.94 2.06.94-2.06 2.06-.94-2.06-.94-.94-2.06-.94 2.06-2.06.94zm-11 1L8.5 8.5l.94-2.06 2.06-.94-2.06-.94L8.5 2.5l-.94 2.06-2.06.94zm10 10l.94 2.06.94-2.06 2.06-.94-2.06-.94-.94-2.06-.94 2.06-2.06.94z\"/><path d=\"M17.41 7.96l-1.37-1.37c-.4-.4-.92-.59-1.43-.59-.52 0-1.04.2-1.43.59L10.3 9.45l-7.72 7.72c-.78.78-.78 2.05 0 2.83L4 21.41c.39.39.9.59 1.41.59.51 0 1.02-.2 1.41-.59l7.78-7.78 2.81-2.81c.8-.78.8-2.07 0-2.86zM5.41 20L4 18.59l7.72-7.72 1.47 1.35L5.41 20z\"/>\n",
              "  </svg>\n",
              "      </button>\n",
              "      \n",
              "  <style>\n",
              "    .colab-df-container {\n",
              "      display:flex;\n",
              "      flex-wrap:wrap;\n",
              "      gap: 12px;\n",
              "    }\n",
              "\n",
              "    .colab-df-convert {\n",
              "      background-color: #E8F0FE;\n",
              "      border: none;\n",
              "      border-radius: 50%;\n",
              "      cursor: pointer;\n",
              "      display: none;\n",
              "      fill: #1967D2;\n",
              "      height: 32px;\n",
              "      padding: 0 0 0 0;\n",
              "      width: 32px;\n",
              "    }\n",
              "\n",
              "    .colab-df-convert:hover {\n",
              "      background-color: #E2EBFA;\n",
              "      box-shadow: 0px 1px 2px rgba(60, 64, 67, 0.3), 0px 1px 3px 1px rgba(60, 64, 67, 0.15);\n",
              "      fill: #174EA6;\n",
              "    }\n",
              "\n",
              "    [theme=dark] .colab-df-convert {\n",
              "      background-color: #3B4455;\n",
              "      fill: #D2E3FC;\n",
              "    }\n",
              "\n",
              "    [theme=dark] .colab-df-convert:hover {\n",
              "      background-color: #434B5C;\n",
              "      box-shadow: 0px 1px 3px 1px rgba(0, 0, 0, 0.15);\n",
              "      filter: drop-shadow(0px 1px 2px rgba(0, 0, 0, 0.3));\n",
              "      fill: #FFFFFF;\n",
              "    }\n",
              "  </style>\n",
              "\n",
              "      <script>\n",
              "        const buttonEl =\n",
              "          document.querySelector('#df-06d4c24e-dbe1-4789-8265-f0dc534ca201 button.colab-df-convert');\n",
              "        buttonEl.style.display =\n",
              "          google.colab.kernel.accessAllowed ? 'block' : 'none';\n",
              "\n",
              "        async function convertToInteractive(key) {\n",
              "          const element = document.querySelector('#df-06d4c24e-dbe1-4789-8265-f0dc534ca201');\n",
              "          const dataTable =\n",
              "            await google.colab.kernel.invokeFunction('convertToInteractive',\n",
              "                                                     [key], {});\n",
              "          if (!dataTable) return;\n",
              "\n",
              "          const docLinkHtml = 'Like what you see? Visit the ' +\n",
              "            '<a target=\"_blank\" href=https://colab.research.google.com/notebooks/data_table.ipynb>data table notebook</a>'\n",
              "            + ' to learn more about interactive tables.';\n",
              "          element.innerHTML = '';\n",
              "          dataTable['output_type'] = 'display_data';\n",
              "          await google.colab.output.renderOutput(dataTable, element);\n",
              "          const docLink = document.createElement('div');\n",
              "          docLink.innerHTML = docLinkHtml;\n",
              "          element.appendChild(docLink);\n",
              "        }\n",
              "      </script>\n",
              "    </div>\n",
              "  </div>\n",
              "  "
            ]
          },
          "metadata": {},
          "execution_count": 53
        }
      ]
    },
    {
      "cell_type": "code",
      "source": [
        "X_train1=X_train.values"
      ],
      "metadata": {
        "id": "nnmMKPCSfcvG"
      },
      "execution_count": null,
      "outputs": []
    },
    {
      "cell_type": "code",
      "source": [
        "X_train1"
      ],
      "metadata": {
        "colab": {
          "base_uri": "https://localhost:8080/"
        },
        "id": "DgqSr_wFfcxF",
        "outputId": "57613999-d328-4542-977f-31a556110a86"
      },
      "execution_count": null,
      "outputs": [
        {
          "output_type": "execute_result",
          "data": {
            "text/plain": [
              "array([[ 1.03000000e+02,  3.57161926e-01,  2.00000000e+00, ...,\n",
              "        -2.45634078e-01, -5.19146806e-01, -1.70709827e-01],\n",
              "       [ 8.60000000e+01,  6.81080630e-01,  2.00000000e+00, ...,\n",
              "        -6.80913146e-01, -5.19146806e-01, -1.70709827e-01],\n",
              "       [ 4.80000000e+01,  1.00499933e+00,  2.00000000e+00, ...,\n",
              "         8.30754251e-02, -5.19146806e-01, -1.70709827e-01],\n",
              "       ...,\n",
              "       [ 1.71000000e+02, -1.58635030e+00,  0.00000000e+00, ...,\n",
              "        -1.42664836e-01, -5.19146806e-01, -1.70709827e-01],\n",
              "       [ 1.50000000e+02, -9.38512892e-01,  0.00000000e+00, ...,\n",
              "        -1.09675047e+00, -5.19146806e-01, -1.70709827e-01],\n",
              "       [ 4.80000000e+01,  3.57161926e-01,  0.00000000e+00, ...,\n",
              "        -3.76685841e-01, -5.19146806e-01,  5.85789357e+00]])"
            ]
          },
          "metadata": {},
          "execution_count": 55
        }
      ]
    },
    {
      "cell_type": "markdown",
      "source": [
        "For Testing data"
      ],
      "metadata": {
        "id": "IlvfCxjPfo90"
      }
    },
    {
      "cell_type": "code",
      "source": [
        "X_test=df_test1.drop('sale_price',axis=1)\n",
        "Y_test=df_test1['sale_price'].values"
      ],
      "metadata": {
        "id": "LyLG8eoqfc0V"
      },
      "execution_count": null,
      "outputs": []
    },
    {
      "cell_type": "code",
      "source": [
        "from sklearn.preprocessing import StandardScaler\n",
        "\n",
        "sc = StandardScaler()\n",
        "\n",
        "# get numeric data\n",
        "num_d = X_test.select_dtypes(exclude=['object'])\n",
        "\n",
        "# update the cols with their normalized values\n",
        "X_test[num_d.columns] = sc.fit_transform(num_d)"
      ],
      "metadata": {
        "id": "Z9K-G8CVfri6"
      },
      "execution_count": null,
      "outputs": []
    },
    {
      "cell_type": "code",
      "source": [
        "# Import label encoder\n",
        "from sklearn import preprocessing\n",
        "  \n",
        "# label_encoder object knows how to understand word labels.\n",
        "label_encoder = preprocessing.LabelEncoder()\n",
        "  \n",
        "# Encode labels in categorical_column \n",
        "for i in category_columns:\n",
        "  X_test[i]= label_encoder.fit_transform(X_test[i])"
      ],
      "metadata": {
        "id": "s-Uro2doftzx"
      },
      "execution_count": null,
      "outputs": []
    },
    {
      "cell_type": "code",
      "source": [
        "X_test1=X_test.values\n",
        "X_test1"
      ],
      "metadata": {
        "colab": {
          "base_uri": "https://localhost:8080/"
        },
        "id": "0TELcMYnfv3i",
        "outputId": "5168cb16-16af-4117-cd27-239b376ad4d3"
      },
      "execution_count": null,
      "outputs": [
        {
          "output_type": "execute_result",
          "data": {
            "text/plain": [
              "array([[75.        , -0.58952782,  2.        , ..., -0.29599737,\n",
              "        -0.51713356, -0.17281816],\n",
              "       [29.        , -0.26507662,  2.        , ..., -0.7695663 ,\n",
              "        -0.51713356, -0.17281816],\n",
              "       [18.        , -0.26507662,  0.        , ..., -0.22183165,\n",
              "         1.93373641, -0.17281816],\n",
              "       ...,\n",
              "       [68.        ,  1.35717934,  2.        , ...,  0.34067192,\n",
              "        -0.51713356, -0.17281816],\n",
              "       [18.        ,  0.38382576,  2.        , ..., -0.17977231,\n",
              "         1.93373641, -0.17281816],\n",
              "       [60.        ,  0.70827695,  2.        , ..., -0.55349044,\n",
              "        -0.51713356, -0.17281816]])"
            ]
          },
          "metadata": {},
          "execution_count": 59
        }
      ]
    },
    {
      "cell_type": "code",
      "source": [
        "Y_test"
      ],
      "metadata": {
        "colab": {
          "base_uri": "https://localhost:8080/"
        },
        "id": "1InWCAhTfv7p",
        "outputId": "e97b0706-c794-4cf8-d23b-877948257ddf"
      },
      "execution_count": null,
      "outputs": [
        {
          "output_type": "execute_result",
          "data": {
            "text/plain": [
              "array([ 364299,  216799,  387399,  364699, 1082011,  695999,  286399,\n",
              "        283299,  346399,  205299, 1211594,  715299,  499099,  203899,\n",
              "        224999,  307999,  157399,  383999,  620299,  188399,  450000,\n",
              "        210099, 1155236,  242299,  270799,  387899,  417399,  651999,\n",
              "        305099,  830699,  504899,   89099,  802199, 1389758,  397799,\n",
              "        394099,  564299,  546199,  288499,  349299,  570399,  541499,\n",
              "        240899,  443099,  694399,  180000,  416299,  141399,  500000,\n",
              "        237199,  560999,  616799,  465599,  386799,  382799,  377299,\n",
              "        626999,  336699,  567199,  520499,  249599,  487499,  419199,\n",
              "       1248358,  340199,  410599,  366799,  571799,  438299, 1447530,\n",
              "        415699,  401799,  182199,   89000,  312499, 1490758,  639499,\n",
              "        102499,  673999,  111000,  267899,  491499,  371899,  726099,\n",
              "       1112008,  595999,  509099,  444499,  367999, 1367538,  227099,\n",
              "        328099,  302799,  450399,  359899, 1129683,  200000,  493399,\n",
              "        490999,  234399,  174099,  481199,  465699, 1011199,  269599,\n",
              "        782899,  324199,  574999,  151999,  270099,  157299,  373799,\n",
              "        237399,  766599,  250000,  333799,  600000,  336999,  340699,\n",
              "        563799,  197799,  257299,  240899,  227199,  916099,  582199,\n",
              "        265699,  424499,  442899,  386499,  169299,  858799,  310299,\n",
              "        455899,  411599,  275299,  640299,  521099,  674199,  347099,\n",
              "        461299,  193499, 1914453,  620199,  461099,  266399,  464499,\n",
              "        570599,  270000,  251199,  238099,  668999,  674299,  423899,\n",
              "        920999,  571199,  210099,  362899,  392099,  210000, 1134935,\n",
              "        437299,  180599,  769599,  326599, 1047570,  187099,  691299,\n",
              "       1154428,  272899,  253799,  287299, 1184223,  185599,  460099,\n",
              "        295000,  595999,  604999,  448399,  375000,  622599,  367799,\n",
              "        472799,  286099,  839099,  671999,  306999,  331799, 1972932,\n",
              "        241499,  408899,  413499,  312699,  554499,  524699,  441299,\n",
              "        212999,  374799,  409199,  246199,  517499,  401000,  625799,\n",
              "        788399,  244499,  364899,  235999,  371599,  315299,  766099,\n",
              "        325299,  432099,  209599,  773199,  803399,  557099,  196999,\n",
              "        436999,  201899,  625199,  500000,  338099,  552599,  371499,\n",
              "        240599,  637399,  386599,  380000,  264199,  221899,  251299,\n",
              "        723199,  593599,  218899,  775000,  324199,  380699,  659499,\n",
              "        249299,  391999,  207499,  882599,  622999,  772499,  394199,\n",
              "        421099,  676699,  252199,  387599,  241799,  289699,  359199,\n",
              "        290699, 1182304,  257499,  199999,  469999,  335099,  238299,\n",
              "        199199,  280799,  467399,  396499,  292799,   81000,  199299,\n",
              "        378299,  481699,  490799,  457799,  374799,  228699,  277099,\n",
              "        362699,  822899,  855999,  419699,   70000, 1826684,  270000,\n",
              "        680199,  374199,  841699,  541799,  180699,  333299,  202799,\n",
              "        235299,   50000,  242499,  660199,  506299,  517199,  393499,\n",
              "        380199,  537599,  200399,  252999,  768199,  731399,  199699,\n",
              "        260000,  740799,  246999,  346299,  182099, 1125744,  247099,\n",
              "        500000,  545999,  398299,  409299,  365099,  973399,  269099,\n",
              "        180699,  173699,  548599,  567599,  500000,  289799,  481099,\n",
              "        411499,  384299,  375000,  100000,  163199,  187099,  623899,\n",
              "        150000,  259599,  338699,  174000,  152000,  567099,  386599,\n",
              "         70000,  431499,  367699,  631699,  356599,  709499,  456899,\n",
              "        878999,  483899,  536399,  286499,  351199,  206999,  334299,\n",
              "        394499,  224699,  918099,  526999,  268299,   80000,  238599,\n",
              "        279599,  257399,  280099,  411099,  435099,  691699,  327799,\n",
              "        658899,  790299,  555899, 1071103,  260299,  350000,  290699,\n",
              "        582899,  478299, 1122108,  401099,  311399,  623799,  777299,\n",
              "        184699,  460899,  680899,  936699,  614099,  189499,  590899,\n",
              "        756099,  413899,  170000,  690699,  476499,  489599,  306000,\n",
              "        575099,  474499,  480399,  291999,  460899,  343299,  324599,\n",
              "        884399,  304399,  522599,  511499,  166199,  533399,  354099,\n",
              "        187599,  366399,  623899,  202899,  694299, 1335521,  707799,\n",
              "        973899,  286899,  384699,  806099,  606699,  469299,  887499,\n",
              "       1119381,  352299,  536199,  357399,  298599,  304599,  490000,\n",
              "        199699,  299599,  205199,  241199,  246699,  523899,  531899,\n",
              "        283099,  664399,  297799,  581099,  959399,  378999,  189599,\n",
              "        400099,  531399,  358799,  536099,  421499,  387199,  390000,\n",
              "        664599,  313799,  358399,  383599,  645099,  452399,  263199,\n",
              "        828499,  302099,  695599,  607999,  179199,  197099,  479999,\n",
              "        628299,  510899,  195059,  478299,   35000,  485399,  270000,\n",
              "        685399,  400699,  981199,  420099,  256499,  692899,  727299,\n",
              "        274299,  921799,  295599,  618799,  811699, 1651146,  285599,\n",
              "        408899, 1139985,  453799,  256399,  302099,  547899,  300000,\n",
              "        285299,  200799,  422299,  370299,  367399,  410099,  850000,\n",
              "        263999,  295299,  662399,  504799, 3866000,  478899,  216999,\n",
              "        363499,  288699,  401999,  874799,  383699,  377899,  435599,\n",
              "        417799,  430399,  507799, 1105948,  361899,  291999,  376799,\n",
              "        337399,  476899,  531499,  407299,  175199,  552599,  200000,\n",
              "        669799,  373299,  376799, 1021411,  379999,  156899,  218999,\n",
              "        855199,  362699,  812499,  205799,  317399,  233699, 1063528,\n",
              "         80000,  405099,  385499,  470799, 1189172,  400000,  383199,\n",
              "        668299,  880799,  520499,  524399,  928599,  264499,  381599,\n",
              "        529899,  252499,  492199,  542499,  540000,  523499,  492399,\n",
              "        199299,  302499,  244699,  252799,  248999,  301199,  199899,\n",
              "        357399,  472599,  259099,  424299,  503199,  592499,  268799,\n",
              "        403499,  473799,  332899,  251899,  590000, 1449045,  389899,\n",
              "        323099,  186999,  341999,  344799,  312199,  351499,  351399,\n",
              "        186299,  274399,  240499,  287299,  358699,  165199,  837999,\n",
              "        415299,  273899,  684199,  270699,  570599,  337199,  290299,\n",
              "        274099,  235199,  259099,  478699,  357399,  300499,  468999,\n",
              "        381699,  435899,  223599,  291599,  949799,  133199,  233999,\n",
              "        499199,  480799,  257999,  700000,  352399,  405499,  483299,\n",
              "        182799,  248099,  244399,  299699,  350000,  615799,  549299,\n",
              "        758099,  279999,  288599,  395399,  396999,  274599,  297499,\n",
              "        274399,  329099,  700000,  290399,  326599,  342699,  312299,\n",
              "        812999,  496099,  391899,  305599,  669799,  388799,  439399,\n",
              "        272399,  272199,  355799,  393299,  256999,  655599,  401899,\n",
              "        505799,  248699,  429199,  550000,  239199,  481899,  145799,\n",
              "        259199,  432299,  219899,  607799,  430699, 1041510,  264999,\n",
              "        374299,  206499,  310299,  647999,  220899,  293099,  482099,\n",
              "        344999,  232799,  444499,  565699,  397099,  572699,  179399,\n",
              "        307199,  575000,  350599,  607899,  301199,  303899,  103599,\n",
              "        567499,  304399,  359199,  306599,  303099,  389399,  282399,\n",
              "        247999,  320000,  427299,  384799,  584799,  494999,  297899,\n",
              "        370999,  507899,  257999,  278699,  865399, 1445409,  825999,\n",
              "        694799, 1012119,  307999,  323299,  371299,  143399,  117099,\n",
              "        214699,  385399, 1646803,  314999,  301999,  313899,  285699,\n",
              "        300000,  439499,  661599,  233099,  338399,  431999,  257199,\n",
              "       1708615,  298599,  313999,  209999,  378099,  476299,  336299,\n",
              "        508499,  411499,  719499,  241699,  232499,  224999,  334199,\n",
              "        240599,   90000,  100000,  273199,  213599,  420099,  488599,\n",
              "        353199,  648899,  400299,  329999,  534599,  702299,  239999,\n",
              "        321099,  230999,  317299,  236999,  231899,  181399,  325000,\n",
              "        826299,  391699,  200000,  224499,  223999,  358899,  555699,\n",
              "        505999,  328599,  285199,  548299,  480000,  247799,  360699,\n",
              "        388199,  259499,  263899,  531599,  130000,  358099,  208499,\n",
              "        243099,  572999,  374499,  224399,  262399,  245599,  294399,\n",
              "        284399,  259099,  313099,  317499,  678399,  298099,  248999,\n",
              "        472699,  357399,  323499,  210699,  681899,  285899,  374499,\n",
              "        176099,  420299,  369999,  447599,  900799,  432099,  345299,\n",
              "        373599,  700000,  238799,  618199,  329499,  550000,  238599,\n",
              "        703899,  732299,  346499,  476999,  582299,  251099,  302099,\n",
              "        761399,  237199,  246499,  376099,  302399,  251799,  559399,\n",
              "        200000,  500199,  291899, 2750000,  300000,  341799,  508499,\n",
              "        574799,  228299,  423899, 1052216,  733899,  420000,  331799,\n",
              "        880799,  322399,  471799,  453399,  252799,  612000,  714199,\n",
              "        397499,  402399,  347699,  457099,  263599,  987199,  256099,\n",
              "        607399,  504699,  430999,  215899,  184799,  371199,  499000,\n",
              "        386099,  386299,  475399, 1352489,  460999,  275599,  491399,\n",
              "        484199,  380299,  530699,  164499,  322699,  559599, 1477426,\n",
              "        676899,  474999,  390000,  329199,  705499,  291699,  261699,\n",
              "        589399, 1818604,  650999,  202099,  400599,  361299,  431399,\n",
              "        376499,  438099,  788499,  322499,  516000,  650799,  517299,\n",
              "       2571559, 3250000,  300399,  138299,  620299,  556199,  293899,\n",
              "        372199,  259399,  404399,  504299,  156599,  297299,  888899,\n",
              "        231699,  255199,  201799,  181899,  320599,  771599,  562399,\n",
              "        180899,  216199, 1734168,  934599,  492099,  797399,  491399,\n",
              "        775000,  397899,  316699,  251099,  425699,  199799,  232199,\n",
              "        205899,  133199,  252699,  323699,  244799,  615099,  341599,\n",
              "        222999,  203099,  231299,  407799,  605099,  426399,  274399,\n",
              "        237499,  630899,  354199,  332999,  582599,  456999,  533599,\n",
              "        325799,  493599,  217299,  443599,  422099,  441799, 1031006,\n",
              "        416599,  238699,  526899,  387199,  603699,  389899,  377199,\n",
              "        397999,  293599,  550000,  449199,  829399,  258499,  624999,\n",
              "        535399,  294299,  150000,  310599,  213599,  232199,  189699,\n",
              "        448699,   35000,  604299,  562599,  400499,  284099])"
            ]
          },
          "metadata": {},
          "execution_count": 60
        }
      ]
    },
    {
      "cell_type": "markdown",
      "source": [
        "Training our Models"
      ],
      "metadata": {
        "id": "mhhJCUMhf9A0"
      }
    },
    {
      "cell_type": "markdown",
      "source": [
        "A) Linear Regression"
      ],
      "metadata": {
        "id": "9dxbENYQgE5n"
      }
    },
    {
      "cell_type": "code",
      "source": [
        "from sklearn.linear_model import LinearRegression\n",
        "lr=LinearRegression()\n",
        "lr.fit(X_train1,Y_train)"
      ],
      "metadata": {
        "colab": {
          "base_uri": "https://localhost:8080/"
        },
        "id": "mD6iDd7efv9c",
        "outputId": "e05bb00d-434a-4151-c569-1091e3ca8e7d"
      },
      "execution_count": null,
      "outputs": [
        {
          "output_type": "execute_result",
          "data": {
            "text/plain": [
              "LinearRegression()"
            ]
          },
          "metadata": {},
          "execution_count": 61
        }
      ]
    },
    {
      "cell_type": "code",
      "source": [
        "y_pred=lr.predict(X_test1)"
      ],
      "metadata": {
        "id": "TOsc_ySJgNlB"
      },
      "execution_count": null,
      "outputs": []
    },
    {
      "cell_type": "code",
      "source": [
        "tsc1=lr.score(X_test1,Y_test)\n",
        "tsc1"
      ],
      "metadata": {
        "colab": {
          "base_uri": "https://localhost:8080/"
        },
        "id": "zW6ESHv3gOL_",
        "outputId": "7e4a4530-7972-4190-cfd5-d1fa1542e91e"
      },
      "execution_count": null,
      "outputs": [
        {
          "output_type": "execute_result",
          "data": {
            "text/plain": [
              "0.988248994996788"
            ]
          },
          "metadata": {},
          "execution_count": 63
        }
      ]
    },
    {
      "cell_type": "code",
      "source": [
        "sc1=lr.score(X_train1,Y_train)\n",
        "sc1"
      ],
      "metadata": {
        "colab": {
          "base_uri": "https://localhost:8080/"
        },
        "id": "J9_wOrSlgQCS",
        "outputId": "31462620-3c3f-4da0-b115-8e0798261708"
      },
      "execution_count": null,
      "outputs": [
        {
          "output_type": "execute_result",
          "data": {
            "text/plain": [
              "0.999999999996993"
            ]
          },
          "metadata": {},
          "execution_count": 64
        }
      ]
    },
    {
      "cell_type": "markdown",
      "source": [
        "B) Lasso Regression"
      ],
      "metadata": {
        "id": "PGmDqU1tgVHA"
      }
    },
    {
      "cell_type": "code",
      "source": [
        "from sklearn.linear_model import Lasso\n",
        "lasso_reg = Lasso()\n",
        "lasso_reg.fit(X_train1,Y_train)"
      ],
      "metadata": {
        "colab": {
          "base_uri": "https://localhost:8080/"
        },
        "id": "a6cSt38MgQFL",
        "outputId": "5c11bf58-d5a3-45e1-d515-d96016ca9798"
      },
      "execution_count": null,
      "outputs": [
        {
          "output_type": "execute_result",
          "data": {
            "text/plain": [
              "Lasso()"
            ]
          },
          "metadata": {},
          "execution_count": 65
        }
      ]
    },
    {
      "cell_type": "code",
      "source": [
        "y_pred2=lasso_reg.predict(X_test1)"
      ],
      "metadata": {
        "id": "riXPaYnEgcvA"
      },
      "execution_count": null,
      "outputs": []
    },
    {
      "cell_type": "code",
      "source": [
        "tsc2=lasso_reg.score(X_train1,Y_train)\n",
        "tsc2"
      ],
      "metadata": {
        "colab": {
          "base_uri": "https://localhost:8080/"
        },
        "id": "VWpL2AQWgcy1",
        "outputId": "190fbd30-8ff4-451d-e0ea-de0088b7d2a9"
      },
      "execution_count": null,
      "outputs": [
        {
          "output_type": "execute_result",
          "data": {
            "text/plain": [
              "0.9999930437795305"
            ]
          },
          "metadata": {},
          "execution_count": 68
        }
      ]
    },
    {
      "cell_type": "code",
      "source": [
        "sc2=lasso_reg.score(X_test1,Y_test)\n",
        "sc2"
      ],
      "metadata": {
        "colab": {
          "base_uri": "https://localhost:8080/"
        },
        "id": "XLG-591Ygc0X",
        "outputId": "78c8b094-1bd0-4e03-fce0-e414ae7de8b0"
      },
      "execution_count": null,
      "outputs": [
        {
          "output_type": "execute_result",
          "data": {
            "text/plain": [
              "0.9880533355904781"
            ]
          },
          "metadata": {},
          "execution_count": 69
        }
      ]
    },
    {
      "cell_type": "markdown",
      "source": [
        "C) Ridge Regression"
      ],
      "metadata": {
        "id": "w0O-umurgjkE"
      }
    },
    {
      "cell_type": "code",
      "source": [
        "from sklearn.linear_model import Ridge\n",
        "ridge_reg=Ridge()\n",
        "ridge_reg.fit(X_train1,Y_train)"
      ],
      "metadata": {
        "colab": {
          "base_uri": "https://localhost:8080/"
        },
        "id": "lUwYOPUWgc16",
        "outputId": "b3543431-232b-4e9f-a3cc-67497f282f4d"
      },
      "execution_count": null,
      "outputs": [
        {
          "output_type": "execute_result",
          "data": {
            "text/plain": [
              "Ridge()"
            ]
          },
          "metadata": {},
          "execution_count": 70
        }
      ]
    },
    {
      "cell_type": "code",
      "source": [
        "y_pred3=ridge_reg.predict(X_test1)"
      ],
      "metadata": {
        "id": "r2JhJ_HLgqYJ"
      },
      "execution_count": null,
      "outputs": []
    },
    {
      "cell_type": "code",
      "source": [
        "tsc3=ridge_reg.score(X_train1,Y_train)\n",
        "tsc3"
      ],
      "metadata": {
        "colab": {
          "base_uri": "https://localhost:8080/"
        },
        "id": "2Ftrdc39gvcM",
        "outputId": "6903d20e-b565-4fde-8070-d348b0ef8a68"
      },
      "execution_count": null,
      "outputs": [
        {
          "output_type": "execute_result",
          "data": {
            "text/plain": [
              "0.9999999482632647"
            ]
          },
          "metadata": {},
          "execution_count": 73
        }
      ]
    },
    {
      "cell_type": "code",
      "source": [
        "sc3=ridge_reg.score(X_test1,Y_test)\n",
        "sc3"
      ],
      "metadata": {
        "colab": {
          "base_uri": "https://localhost:8080/"
        },
        "id": "eY9Rxi1Tgveg",
        "outputId": "f75d4051-7dac-456a-e87b-bc6cc34fc16c"
      },
      "execution_count": null,
      "outputs": [
        {
          "output_type": "execute_result",
          "data": {
            "text/plain": [
              "0.9882149567217386"
            ]
          },
          "metadata": {},
          "execution_count": 74
        }
      ]
    },
    {
      "cell_type": "markdown",
      "source": [
        "D) Random Forest Regression"
      ],
      "metadata": {
        "id": "9ByOvRUPg1EI"
      }
    },
    {
      "cell_type": "code",
      "source": [
        "from sklearn.ensemble import RandomForestRegressor\n",
        "regressor = RandomForestRegressor(n_estimators = 20, random_state = 0)\n",
        "regressor.fit(X_train1, Y_train)"
      ],
      "metadata": {
        "colab": {
          "base_uri": "https://localhost:8080/"
        },
        "id": "9HsvVueFgvhW",
        "outputId": "11f0823a-0ce0-4aef-b6ca-d4f5cf4c4372"
      },
      "execution_count": null,
      "outputs": [
        {
          "output_type": "execute_result",
          "data": {
            "text/plain": [
              "RandomForestRegressor(n_estimators=20, random_state=0)"
            ]
          },
          "metadata": {},
          "execution_count": 75
        }
      ]
    },
    {
      "cell_type": "code",
      "source": [
        "y_pred4=regressor.predict(X_test1)"
      ],
      "metadata": {
        "id": "UPQQxqGYg79K"
      },
      "execution_count": null,
      "outputs": []
    },
    {
      "cell_type": "code",
      "source": [
        "tsc4=regressor.score(X_train1,Y_train)\n",
        "tsc4"
      ],
      "metadata": {
        "colab": {
          "base_uri": "https://localhost:8080/"
        },
        "id": "2YKm1xfog8A9",
        "outputId": "1940a583-68c8-450f-ff6f-ef6b5839649d"
      },
      "execution_count": null,
      "outputs": [
        {
          "output_type": "execute_result",
          "data": {
            "text/plain": [
              "0.9996801832954156"
            ]
          },
          "metadata": {},
          "execution_count": 77
        }
      ]
    },
    {
      "cell_type": "code",
      "source": [
        "sc4=regressor.score(X_test1,Y_test)\n",
        "sc4"
      ],
      "metadata": {
        "colab": {
          "base_uri": "https://localhost:8080/"
        },
        "id": "PySGRE56g8Dg",
        "outputId": "53a14914-8952-46ac-e9af-47114bc0b1c6"
      },
      "execution_count": null,
      "outputs": [
        {
          "output_type": "execute_result",
          "data": {
            "text/plain": [
              "0.98580256031791"
            ]
          },
          "metadata": {},
          "execution_count": 78
        }
      ]
    }
  ]
}