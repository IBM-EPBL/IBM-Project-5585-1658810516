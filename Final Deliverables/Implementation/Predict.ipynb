import numpy as np
import pandas as pd
import matplotlib.pyplot as plt
import seaborn as sns
%matplotlib inline
df=pd.read_csv('/content/Car resale-train.csv')
df.head()
df.shape 
df.columns
df['car_name'].value_counts()
df.info()
df.duplicated().sum()

df.isnull().sum()
corr=df.corr()
corr
corr = df.corr()
sns.set_context("notebook", font_scale=1.0, rc={"lines.linewidth": 2.5})
plt.figure(figsize=(13,7))
a = sns.heatmap(corr, annot=True, fmt='.2f')
rotx = a.set_xticklabels(a.get_xticklabels(), rotation=90)
roty = a.set_yticklabels(a.get_yticklabels(), rotation=30)
def remove(df):
  df1=df.drop(['id','emi_starts_from','original_price','broker_quote'],axis=1)
  return df1
df1=remove(df)
df1.dtypes
category_columns=df1.select_dtypes(include=['object']).columns.tolist()
integer_columns=df1.select_dtypes(include=['int64','float64']).columns.tolist()

for column in df1:
    if df1[column].isnull().any():
        if(column in category_columns):
            df1[column]=df1[column].fillna(df1[column].mode()[0])
        else:
            df1[column]=df1[column].fillna(df1[column].mean)



df1.isnull().sum()
sns.heatmap(df1.isnull(),yticklabels=False,cbar=False,cmap='YlGnBu')
df1.describe(include='object')
for i in integer_columns:
  plt.figure()
  sns.boxplot(x=df1[i])
max_km=df1['kms_run'].max()
max_km
df1=df1[df1['times_viewed']<20000]
df1.shape
for i in integer_columns:
  plt.figure()
  sns.boxplot(x=df1[i])
plt.figure(figsize=(12,8))
sns.set(rc={'axes.facecolor':'#283747','axes.grid': True,'xtick.labelsize':16})
sns.lineplot(x='kms_run',y='sale_price',data=df1)
plt.figure(figsize=(12,8))
sns.set(rc={'axes.facecolor':'white','axes.grid': True,'xtick.labelsize':16})
sns.lineplot(x='yr_mfr',y='sale_price',data=df1,hue='transmission')
plt.figure(figsize=(12,8))
sns.set(rc={'axes.facecolor':'white','axes.grid': False,'xtick.labelsize':16})
sns.lineplot(x='yr_mfr',y='sale_price',data=df,hue='body_type')
plt.figure(figsize=(12,8))
sns.set(rc={'axes.facecolor':'#283747','axes.grid': True,'xtick.labelsize':16})
sns.barplot(df['city'],df['sale_price'])
plt.xticks(rotation=45)
df_test=pd.read_csv('/content/Car resale-test.csv')
cateogry_columns=df_test1.select_dtypes(include=['object']).columns.tolist()
integer_columns=df_test1.select_dtypes(include=['int64','float64']).columns.tolist()

for column in df_test1:
    if df_test1[column].isnull().any():
        if(column in cateogry_columns):
            df_test1[column]=df_test1[column].fillna(df_test1[column].mode()[0])
        else:
            df_test1[column]=df_test1[column].fillna(df_test1[column].mean)
df_test1.isnull().sum()
X_train=df1.drop('sale_price',axis=1)
Y_train=df1['sale_price'].values
from sklearn.preprocessing import StandardScaler

sc = StandardScaler()

# get numeric data
num_d = X_train.select_dtypes(exclude=['object'])

# update the cols with their normalized values
X_train[num_d.columns] = sc.fit_transform(num_d)
from sklearn import preprocessing
  
# label_encoder object knows how to understand word labels.
label_encoder = preprocessing.LabelEncoder()
  
# Encode labels in categorical_column 
for i in category_columns:
  X_train[i]= label_encoder.fit_transform(X_train[i])
X_train1=X_train.values
X_test=df_test1.drop('sale_price',axis=1)
Y_test=df_test1['sale_price'].values
from sklearn.preprocessing import StandardScaler

sc = StandardScaler()

# get numeric data
num_d = X_test.select_dtypes(exclude=['object'])

# update the cols with their normalized values
X_test[num_d.columns] = sc.fit_transform(num_d)
from sklearn import preprocessing
  
# label_encoder object knows how to understand word labels.
label_encoder = preprocessing.LabelEncoder()
  
# Encode labels in categorical_column 
for i in category_columns:
  X_test[i]= label_encoder.fit_transform(X_test[i])
X_test1=X_test.values
X_test1
from sklearn.linear_model import LinearRegression
lr=LinearRegression()
lr.fit(X_train1,Y_train)

y_pred=lr.predict(X_test1)
tsc1=lr.score(X_test1,Y_test)
tsc1
sc1=lr.score(X_train1,Y_train)
sc1
from sklearn.linear_model import Lasso
lasso_reg = Lasso()
lasso_reg.fit(X_train1,Y_train)
y_pred2=lasso_reg.predict(X_test1)
tsc2=lasso_reg.score(X_train1,Y_train)
tsc2
sc2=lasso_reg.score(X_test1,Y_test)
sc2
from sklearn.linear_model import Ridge
ridge_reg=Ridge()
ridge_reg.fit(X_train1,Y_train)
y_pred3=ridge_reg.predict(X_test1)
tsc3=ridge_reg.score(X_train1,Y_train)
tsc3
sc3=ridge_reg.score(X_test1,Y_test)
sc3
from sklearn.ensemble import RandomForestRegressor
regressor = RandomForestRegressor(n_estimators = 20, random_state = 0)
regressor.fit(X_train1, Y_train)
y_pred4=regressor.predict(X_test1)
tsc4=regressor.score(X_train1,Y_train)
tsc4
sc4=regressor.score(X_test1,Y_test)
sc4
from sklearn.metrics import mean_squared_error,mean_absolute_error
def metric(y_test,y_predict):
    mae=mean_absolute_error(y_test,y_predict) #mean_absolute_error
    mse=mean_squared_error(y_test,y_predict) #mean_squared_error
    rmse=mean_squared_error(y_test,y_predict,squared=False)
    return [mae,mse,rmse]
linearregressoin=metric(Y_test,y_pred)
linearregressoin.append(sc1)
linearregressoin.append(tsc1)
linearregressoin
lassoregression=metric(Y_test,y_pred2)
lassoregression.append(sc2)
lassoregression.append(tsc2)
lassoregression
Ridgeregression=metric(Y_test,y_pred3)
Ridgeregression.append(sc3)
Ridgeregression.append(tsc3)
Ridgeregression
RandomForestRegressor=metric(Y_test,y_pred4)
RandomForestRegressor.append(sc4)
RandomForestRegressor.append(tsc4)
RandomForestRegressor
algorithms=['Linear Regression','Lasso Regression','Ridge Regression','Random Forest Regression']
eval=pd.DataFrame([linearregressoin,lassoregression,Ridgeregression,RandomForestRegressor],columns=['Mean Squared Error','Mean Absolute Error','Root Mean SquareError','Test Score','Train Score'],index=algorithms)
eval
score=[]
for i in range(4):
  score.append(eval.iloc[:,3][i])
score
plt.figure(figsize=(15,7))
plt.scatter(algorithms,score,linewidth=2,s=50,marker='s',edgecolors='green')

plt.xlabel("Regression Models") 
plt.ylabel("Scores") 
plt.title("Algorithm Comparison")
plt.show()
df=pd.DataFrame(score,index=algorithms,columns=['score'])
df
algo=['lr','lasso','ridge','rfr','xgbr']
ind = np.arange(len(score))  # the x locations for the groups
width = 0.35  # the width of the bars

fig,ax = plt.subplots()


rects1 = ax.bar(ind - width/2, eval['Mean Squared Error'], width, 
                label='mse')
rects2 = ax.bar(ind + width/2, eval['Root Mean SquareError'], width, 
                label='rmse')

ax.set_ylabel('Scores')
ax.set_title('Algorithm performance')
ax.set_xticks(ind)
ax.set_xticklabels(algo)
ax.legend()
def autolabel(rects, xpos='center'):
   

    ha = {'center': 'center', 'right': 'left', 'left': 'right'}
    offset = {'center': 0, 'right': 1, 'left': -1}
    for rect in rects:
        height = rect.get_height()
        ax.annotate('{}'.format(height),
                    xy=(rect.get_x() + rect.get_width() / 2, height),
                    xytext=(offset[xpos]*3, 3),  # use 3 points offset
                    textcoords="offset points",  # in both directions
                    ha=ha[xpos], va='bottom')
fig.tight_layout()

plt.show()

df=pd.DataFrame([eval['Mean Squared Error'],eval['Root Mean SquareError']],columns=algorithms,index=['mse','rmse'])
df